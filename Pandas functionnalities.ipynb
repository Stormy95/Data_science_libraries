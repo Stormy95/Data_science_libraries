{
 "cells": [
  {
   "cell_type": "markdown",
   "metadata": {},
   "source": [
    "# Pandas functionnalities"
   ]
  },
  {
   "cell_type": "markdown",
   "metadata": {},
   "source": [
    "# Import"
   ]
  },
  {
   "cell_type": "code",
   "execution_count": 1,
   "metadata": {},
   "outputs": [],
   "source": [
    "import  numpy as np\n",
    "import  pandas as pd\n",
    "from sklearn import datasets\n",
    "from sqlalchemy import create_engine\n",
    "iris = datasets.load_iris()"
   ]
  },
  {
   "cell_type": "markdown",
   "metadata": {},
   "source": [
    "# Sommaire\n",
    "\n",
    "[I. Chargement de données](#Partie1)\n",
    "- [I.1. CSV](#Partie1.1) \n",
    "- [I.2. Excel](#Partie1.2) \n",
    "- [I.3. Json](#Partie1.3) \n",
    "- [I.4. SQL](#Partie1.4) \n",
    "\n",
    "[II. Manipulation de données dans DataFrame](#Partie2)\n",
    "- [II.1. Création, description, renommer DataFrame](#Partie2.1) \n",
    "- [II.2. Navigation et sélection DataFrame](#Partie2.2) \n",
    "- [II.3. Remplacement et gestion valeur unique et manquante](#Partie2.3) \n",
    "- [II.4. Suppresion ligne, colonne et regroupemment](#Partie2.4) \n",
    "- [II.5. Application d'une fonction](#Partie2.5) \n",
    "- [II.6. Concatenation et fusion de DataFrame](#Partie2.6) "
   ]
  },
  {
   "cell_type": "markdown",
   "metadata": {},
   "source": [
    "## I. Chargement de données <a class=\"anchor\" id=\"Partie1\"></a>"
   ]
  },
  {
   "cell_type": "markdown",
   "metadata": {},
   "source": [
    "### I.1. CSV <a class=\"anchor\" id=\"Partie1.1\"></a>"
   ]
  },
  {
   "cell_type": "code",
   "execution_count": 2,
   "metadata": {},
   "outputs": [],
   "source": [
    "# data=pd.read_csv(file)"
   ]
  },
  {
   "cell_type": "markdown",
   "metadata": {},
   "source": [
    "### I.2. Excel <a class=\"anchor\" id=\"Partie1.2\"></a>"
   ]
  },
  {
   "cell_type": "code",
   "execution_count": 3,
   "metadata": {},
   "outputs": [],
   "source": [
    "# data=pd.read_excel(file,sheetname=0,header=1)"
   ]
  },
  {
   "cell_type": "markdown",
   "metadata": {},
   "source": [
    "### I.3. Json <a class=\"anchor\" id=\"Partie1.3\"></a>"
   ]
  },
  {
   "cell_type": "code",
   "execution_count": 4,
   "metadata": {},
   "outputs": [],
   "source": [
    "# data=pd.read_json(file,orient='columns')"
   ]
  },
  {
   "cell_type": "markdown",
   "metadata": {},
   "source": [
    "### I.4. SQL <a class=\"anchor\" id=\"Partie1.4\"></a>"
   ]
  },
  {
   "cell_type": "code",
   "execution_count": 5,
   "metadata": {},
   "outputs": [],
   "source": [
    "#database_connection=create_engine('sqlite:///sample.db') # Create a connection to the database\n",
    "#dataframe=pd.read_sql_query('SELECT * FROM data',database_connection) # Load data"
   ]
  },
  {
   "cell_type": "markdown",
   "metadata": {},
   "source": [
    "## II. Manipulation de données dans DataFrame <a class=\"anchor\" id=\"Partie2\"></a>"
   ]
  },
  {
   "cell_type": "markdown",
   "metadata": {},
   "source": [
    "### II.1. Création, description, renommer DataFrame <a class=\"anchor\" id=\"Partie2.1\"></a>"
   ]
  },
  {
   "cell_type": "code",
   "execution_count": 6,
   "metadata": {},
   "outputs": [
    {
     "data": {
      "text/html": [
       "<div>\n",
       "<style scoped>\n",
       "    .dataframe tbody tr th:only-of-type {\n",
       "        vertical-align: middle;\n",
       "    }\n",
       "\n",
       "    .dataframe tbody tr th {\n",
       "        vertical-align: top;\n",
       "    }\n",
       "\n",
       "    .dataframe thead th {\n",
       "        text-align: right;\n",
       "    }\n",
       "</style>\n",
       "<table border=\"1\" class=\"dataframe\">\n",
       "  <thead>\n",
       "    <tr style=\"text-align: right;\">\n",
       "      <th></th>\n",
       "      <th>Name</th>\n",
       "      <th>Age</th>\n",
       "      <th>Driver</th>\n",
       "    </tr>\n",
       "  </thead>\n",
       "  <tbody>\n",
       "    <tr>\n",
       "      <th>0</th>\n",
       "      <td>Thibaud</td>\n",
       "      <td>23</td>\n",
       "      <td>True</td>\n",
       "    </tr>\n",
       "    <tr>\n",
       "      <th>1</th>\n",
       "      <td>Ophelia</td>\n",
       "      <td>23</td>\n",
       "      <td>True</td>\n",
       "    </tr>\n",
       "    <tr>\n",
       "      <th>2</th>\n",
       "      <td>Cessprin</td>\n",
       "      <td>2</td>\n",
       "      <td>False</td>\n",
       "    </tr>\n",
       "  </tbody>\n",
       "</table>\n",
       "</div>"
      ],
      "text/plain": [
       "       Name  Age  Driver\n",
       "0   Thibaud   23    True\n",
       "1   Ophelia   23    True\n",
       "2  Cessprin    2   False"
      ]
     },
     "execution_count": 6,
     "metadata": {},
     "output_type": "execute_result"
    }
   ],
   "source": [
    "dataframe=pd.DataFrame()\n",
    "dataframe['Name']=[\"Thibaud\",\"Ophelia\",\"Cessprin\"]\n",
    "dataframe['Age']=[23,23,2]\n",
    "dataframe['Driver']=[True,True,False]\n",
    "dataframe.head()"
   ]
  },
  {
   "cell_type": "code",
   "execution_count": 7,
   "metadata": {},
   "outputs": [
    {
     "name": "stdout",
     "output_type": "stream",
     "text": [
      "(3, 3)\n",
      "             Age\n",
      "count   3.000000\n",
      "mean   16.000000\n",
      "std    12.124356\n",
      "min     2.000000\n",
      "25%    12.500000\n",
      "50%    23.000000\n",
      "75%    23.000000\n",
      "max    23.000000\n",
      "<class 'pandas.core.frame.DataFrame'>\n",
      "RangeIndex: 3 entries, 0 to 2\n",
      "Data columns (total 3 columns):\n",
      " #   Column  Non-Null Count  Dtype \n",
      "---  ------  --------------  ----- \n",
      " 0   Name    3 non-null      object\n",
      " 1   Age     3 non-null      int64 \n",
      " 2   Driver  3 non-null      bool  \n",
      "dtypes: bool(1), int64(1), object(1)\n",
      "memory usage: 179.0+ bytes\n",
      "None\n"
     ]
    }
   ],
   "source": [
    "print(dataframe.shape) # Donne les dimensions\n",
    "print(dataframe.describe()) # Donne les quelques indicateurs statistiques\n",
    "print(dataframe.info()) # Donne le nombre d'instance et le type de donnée"
   ]
  },
  {
   "cell_type": "code",
   "execution_count": 8,
   "metadata": {},
   "outputs": [
    {
     "data": {
      "text/html": [
       "<div>\n",
       "<style scoped>\n",
       "    .dataframe tbody tr th:only-of-type {\n",
       "        vertical-align: middle;\n",
       "    }\n",
       "\n",
       "    .dataframe tbody tr th {\n",
       "        vertical-align: top;\n",
       "    }\n",
       "\n",
       "    .dataframe thead th {\n",
       "        text-align: right;\n",
       "    }\n",
       "</style>\n",
       "<table border=\"1\" class=\"dataframe\">\n",
       "  <thead>\n",
       "    <tr style=\"text-align: right;\">\n",
       "      <th></th>\n",
       "      <th>Name</th>\n",
       "      <th>Age</th>\n",
       "      <th>Permis B</th>\n",
       "    </tr>\n",
       "  </thead>\n",
       "  <tbody>\n",
       "    <tr>\n",
       "      <th>0</th>\n",
       "      <td>Thibaud</td>\n",
       "      <td>23</td>\n",
       "      <td>True</td>\n",
       "    </tr>\n",
       "    <tr>\n",
       "      <th>1</th>\n",
       "      <td>Ophelia</td>\n",
       "      <td>23</td>\n",
       "      <td>True</td>\n",
       "    </tr>\n",
       "    <tr>\n",
       "      <th>2</th>\n",
       "      <td>Cessprin</td>\n",
       "      <td>2</td>\n",
       "      <td>False</td>\n",
       "    </tr>\n",
       "  </tbody>\n",
       "</table>\n",
       "</div>"
      ],
      "text/plain": [
       "       Name  Age  Permis B\n",
       "0   Thibaud   23      True\n",
       "1   Ophelia   23      True\n",
       "2  Cessprin    2     False"
      ]
     },
     "execution_count": 8,
     "metadata": {},
     "output_type": "execute_result"
    }
   ],
   "source": [
    "dataframe.rename(columns={\"Driver\":\"Permis B\"}).head()"
   ]
  },
  {
   "cell_type": "code",
   "execution_count": 9,
   "metadata": {},
   "outputs": [
    {
     "name": "stdout",
     "output_type": "stream",
     "text": [
      "23\n",
      "2\n",
      "16.0\n",
      "48\n",
      "3\n"
     ]
    }
   ],
   "source": [
    "print(dataframe['Age'].max())\n",
    "print(dataframe['Age'].min())\n",
    "print(dataframe['Age'].mean())\n",
    "print(dataframe['Age'].sum())\n",
    "print(dataframe['Age'].count())"
   ]
  },
  {
   "cell_type": "markdown",
   "metadata": {},
   "source": [
    "### II.2. Navigation et sélection DataFrame <a class=\"anchor\" id=\"Partie2.2\"></a>"
   ]
  },
  {
   "cell_type": "code",
   "execution_count": 10,
   "metadata": {},
   "outputs": [
    {
     "name": "stdout",
     "output_type": "stream",
     "text": [
      "Name      Thibaud\n",
      "Age            23\n",
      "Driver       True\n",
      "Name: 0, dtype: object\n",
      "      Name  Age  Driver\n",
      "0  Thibaud   23    True\n",
      "1  Ophelia   23    True\n"
     ]
    }
   ],
   "source": [
    "print(dataframe.iloc[0]) # Sélectionne permière ligne\n",
    "print(dataframe.iloc[:2]) # Sélectionne les 2 premières lignes"
   ]
  },
  {
   "cell_type": "code",
   "execution_count": 11,
   "metadata": {},
   "outputs": [
    {
     "name": "stdout",
     "output_type": "stream",
     "text": [
      "Name      Thibaud\n",
      "Age            23\n",
      "Driver       True\n",
      "Name: Thibaud, dtype: object\n"
     ]
    }
   ],
   "source": [
    "dataframe = dataframe.set_index(dataframe['Name']) # Modifie l'index sur la colonne nom\n",
    "print(dataframe.loc[\"Thibaud\"]) # Renvoie la ligne de l'index précisé"
   ]
  },
  {
   "cell_type": "code",
   "execution_count": 12,
   "metadata": {},
   "outputs": [
    {
     "name": "stdout",
     "output_type": "stream",
     "text": [
      "            Name  Age  Driver\n",
      "Name                         \n",
      "Thibaud  Thibaud   23    True\n",
      "Ophelia  Ophelia   23    True\n"
     ]
    }
   ],
   "source": [
    "print(dataframe[dataframe['Age']==23].head()) # Séléction conditionnelle"
   ]
  },
  {
   "cell_type": "markdown",
   "metadata": {},
   "source": [
    "### II.3. Remplacement et gestion valeur unique et manquante <a class=\"anchor\" id=\"Partie2.3\"></a>"
   ]
  },
  {
   "cell_type": "code",
   "execution_count": 13,
   "metadata": {},
   "outputs": [
    {
     "name": "stdout",
     "output_type": "stream",
     "text": [
      "Name\n",
      "Thibaud     24\n",
      "Ophelia     24\n",
      "Cessprin     2\n",
      "Name: Age, dtype: int64\n"
     ]
    }
   ],
   "source": [
    "print(dataframe[\"Age\"].replace(23,24).head()) #remplace 23 par 24"
   ]
  },
  {
   "cell_type": "code",
   "execution_count": 14,
   "metadata": {},
   "outputs": [
    {
     "name": "stdout",
     "output_type": "stream",
     "text": [
      "['Thibaud' 'Ophelia' 'Cessprin']\n",
      "Cessprin    1\n",
      "Ophelia     1\n",
      "Thibaud     1\n",
      "Name: Name, dtype: int64\n",
      "3\n"
     ]
    }
   ],
   "source": [
    "print(dataframe['Name'].unique()) #Sélection des valeurs uniques\n",
    "print(dataframe['Name'].value_counts()) #Compte le nombre d'occurence par valeur\n",
    "print(dataframe['Name'].nunique()) #Compte le nombre de valeur unique"
   ]
  },
  {
   "cell_type": "code",
   "execution_count": 15,
   "metadata": {},
   "outputs": [
    {
     "name": "stdout",
     "output_type": "stream",
     "text": [
      "Empty DataFrame\n",
      "Columns: [Name, Age, Driver]\n",
      "Index: []\n",
      "Empty DataFrame\n",
      "Columns: [Name, Age, Driver]\n",
      "Index: []\n"
     ]
    }
   ],
   "source": [
    "print(dataframe[dataframe['Age'].isnull()].head()) #garde uniquement les lignes avec un age=0\n",
    "print(dataframe[dataframe['Age'].isna()].head()) #garde uniquement les lignes avec un age=NaN "
   ]
  },
  {
   "cell_type": "markdown",
   "metadata": {},
   "source": [
    "### II.4. Suppresion ligne, colonne et regroupemment <a class=\"anchor\" id=\"Partie2.4\"></a>"
   ]
  },
  {
   "cell_type": "code",
   "execution_count": 16,
   "metadata": {},
   "outputs": [
    {
     "name": "stdout",
     "output_type": "stream",
     "text": [
      "              Name  Age\n",
      "Name                   \n",
      "Thibaud    Thibaud   23\n",
      "Ophelia    Ophelia   23\n",
      "Cessprin  Cessprin    2\n",
      "              Name  Age  Driver\n",
      "Name                           \n",
      "Ophelia    Ophelia   23    True\n",
      "Cessprin  Cessprin    2   False\n",
      "              Name  Age  Driver\n",
      "Name                           \n",
      "Thibaud    Thibaud   23    True\n",
      "Ophelia    Ophelia   23    True\n",
      "Cessprin  Cessprin    2   False\n"
     ]
    }
   ],
   "source": [
    "print(dataframe.drop('Driver',axis=1)) # Retire la colonne Driver\n",
    "print(dataframe.drop(\"Thibaud\",axis=0)) # Retir la ligne indexée par 1\n",
    "print(dataframe[dataframe.index!=0]) # Garde tout sauf la ligne 0"
   ]
  },
  {
   "cell_type": "code",
   "execution_count": 17,
   "metadata": {},
   "outputs": [
    {
     "name": "stdout",
     "output_type": "stream",
     "text": [
      "              Name  Age  Driver\n",
      "Name                           \n",
      "Thibaud    Thibaud   23    True\n",
      "Ophelia    Ophelia   23    True\n",
      "Cessprin  Cessprin    2   False\n",
      "              Name  Age  Driver\n",
      "Name                           \n",
      "Thibaud    Thibaud   23    True\n",
      "Cessprin  Cessprin    2   False\n"
     ]
    }
   ],
   "source": [
    "print(dataframe.drop_duplicates().head()) #Supprime les duplicatas des lignes exactement pareille (garde la première)\n",
    "print(dataframe.drop_duplicates(subset=['Age']).head()) #Supprime les duplicatas de la colonne Age (garde la première)"
   ]
  },
  {
   "cell_type": "code",
   "execution_count": 18,
   "metadata": {},
   "outputs": [
    {
     "name": "stdout",
     "output_type": "stream",
     "text": [
      "     Driver\n",
      "Age        \n",
      "2     False\n",
      "23     True\n",
      "     Driver\n",
      "Age        \n",
      "2         0\n",
      "23        2\n",
      "     Name  Driver\n",
      "Age              \n",
      "2       1       1\n",
      "23      2       2\n"
     ]
    }
   ],
   "source": [
    "print(dataframe.groupby('Age').mean()) #Regroupe les lignes selon Age et réalise le calcul souhiaté sur autres colonnes\n",
    "print(dataframe.groupby('Age').sum())\n",
    "print(dataframe.groupby('Age').count())"
   ]
  },
  {
   "cell_type": "markdown",
   "metadata": {},
   "source": [
    "### II.5. Application d'une fonction <a class=\"anchor\" id=\"Partie2.5\"></a>"
   ]
  },
  {
   "cell_type": "code",
   "execution_count": 19,
   "metadata": {},
   "outputs": [
    {
     "name": "stdout",
     "output_type": "stream",
     "text": [
      "Name\n",
      "Thibaud      THIBAUD\n",
      "Ophelia      OPHELIA\n",
      "Cessprin    CESSPRIN\n",
      "Name: Name, dtype: object\n"
     ]
    }
   ],
   "source": [
    "print(dataframe['Name'].apply(lambda x: x.upper())) #Applique la fonction lambda à Name"
   ]
  },
  {
   "cell_type": "markdown",
   "metadata": {},
   "source": [
    "### II.6. Concatenation et fusion de DataFrame <a class=\"anchor\" id=\"Partie2.6\"></a>"
   ]
  },
  {
   "cell_type": "code",
   "execution_count": 20,
   "metadata": {},
   "outputs": [],
   "source": [
    "dataframe_2=pd.DataFrame()\n",
    "dataframe_2['Name']=[\"Arnaud\",\"Sabine\"]\n",
    "dataframe_2['Age']=[70,65]\n",
    "dataframe_2['Driver']=[True,True]"
   ]
  },
  {
   "cell_type": "code",
   "execution_count": 21,
   "metadata": {},
   "outputs": [
    {
     "name": "stdout",
     "output_type": "stream",
     "text": [
      "              Name  Age  Driver\n",
      "Thibaud    Thibaud   23    True\n",
      "Ophelia    Ophelia   23    True\n",
      "Cessprin  Cessprin    2   False\n",
      "0           Arnaud   70    True\n",
      "1           Sabine   65    True\n",
      "              Name   Age Driver    Name   Age Driver\n",
      "0              NaN   NaN    NaN  Arnaud  70.0   True\n",
      "1              NaN   NaN    NaN  Sabine  65.0   True\n",
      "Cessprin  Cessprin   2.0  False     NaN   NaN    NaN\n",
      "Ophelia    Ophelia  23.0   True     NaN   NaN    NaN\n",
      "Thibaud    Thibaud  23.0   True     NaN   NaN    NaN\n"
     ]
    }
   ],
   "source": [
    "print(pd.concat([dataframe,dataframe_2],axis=0)) # Concatenation sur les lignes\n",
    "print(pd.concat([dataframe,dataframe_2],axis=1)) # Concatenation sur les colonnes"
   ]
  },
  {
   "cell_type": "code",
   "execution_count": 22,
   "metadata": {},
   "outputs": [
    {
     "data": {
      "text/html": [
       "<div>\n",
       "<style scoped>\n",
       "    .dataframe tbody tr th:only-of-type {\n",
       "        vertical-align: middle;\n",
       "    }\n",
       "\n",
       "    .dataframe tbody tr th {\n",
       "        vertical-align: top;\n",
       "    }\n",
       "\n",
       "    .dataframe thead th {\n",
       "        text-align: right;\n",
       "    }\n",
       "</style>\n",
       "<table border=\"1\" class=\"dataframe\">\n",
       "  <thead>\n",
       "    <tr style=\"text-align: right;\">\n",
       "      <th></th>\n",
       "      <th>Name</th>\n",
       "      <th>Age</th>\n",
       "      <th>Driver</th>\n",
       "    </tr>\n",
       "  </thead>\n",
       "  <tbody>\n",
       "    <tr>\n",
       "      <th>0</th>\n",
       "      <td>Thibaud</td>\n",
       "      <td>23</td>\n",
       "      <td>True</td>\n",
       "    </tr>\n",
       "    <tr>\n",
       "      <th>1</th>\n",
       "      <td>Ophelia</td>\n",
       "      <td>23</td>\n",
       "      <td>True</td>\n",
       "    </tr>\n",
       "    <tr>\n",
       "      <th>2</th>\n",
       "      <td>Cessprin</td>\n",
       "      <td>2</td>\n",
       "      <td>False</td>\n",
       "    </tr>\n",
       "    <tr>\n",
       "      <th>3</th>\n",
       "      <td>Francine</td>\n",
       "      <td>61</td>\n",
       "      <td>True</td>\n",
       "    </tr>\n",
       "  </tbody>\n",
       "</table>\n",
       "</div>"
      ],
      "text/plain": [
       "       Name  Age  Driver\n",
       "0   Thibaud   23    True\n",
       "1   Ophelia   23    True\n",
       "2  Cessprin    2   False\n",
       "3  Francine   61    True"
      ]
     },
     "execution_count": 22,
     "metadata": {},
     "output_type": "execute_result"
    }
   ],
   "source": [
    "new_person=pd.Series([\"Francine\",61,True],index={'Name','Age','Driver'}) #Création d'une nouvelle ligne\n",
    "dataframe.append(new_person,ignore_index=True) #Ajout d'une nouvelle ligne"
   ]
  },
  {
   "cell_type": "code",
   "execution_count": 23,
   "metadata": {},
   "outputs": [
    {
     "name": "stdout",
     "output_type": "stream",
     "text": [
      "     Name_x  Age Driver_x  Name_y Driver_y\n",
      "0   Thibaud   23     True     NaN      NaN\n",
      "1   Ophelia   23     True     NaN      NaN\n",
      "2  Cessprin    2    False     NaN      NaN\n",
      "3       NaN   70      NaN  Arnaud     True\n",
      "4       NaN   65      NaN  Sabine     True\n"
     ]
    }
   ],
   "source": [
    "print(pd.merge(dataframe,dataframe_2,on='Age',how='outer')) # joint les df sur la clé mis en argument "
   ]
  }
 ],
 "metadata": {
  "kernelspec": {
   "display_name": "Python 3",
   "language": "python",
   "name": "python3"
  },
  "language_info": {
   "codemirror_mode": {
    "name": "ipython",
    "version": 3
   },
   "file_extension": ".py",
   "mimetype": "text/x-python",
   "name": "python",
   "nbconvert_exporter": "python",
   "pygments_lexer": "ipython3",
   "version": "3.8.5"
  }
 },
 "nbformat": 4,
 "nbformat_minor": 4
}
