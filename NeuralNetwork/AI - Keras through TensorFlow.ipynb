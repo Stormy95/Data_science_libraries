{
 "cells": [
  {
   "cell_type": "markdown",
   "metadata": {},
   "source": [
    "# AI - Keras through TensorFlow"
   ]
  },
  {
   "cell_type": "markdown",
   "metadata": {},
   "source": [
    "# Import"
   ]
  },
  {
   "cell_type": "code",
   "execution_count": 40,
   "metadata": {},
   "outputs": [],
   "source": [
    "import tensorflow as tf \n",
    "from tensorflow import keras \n",
    "from keras.layers import Input, Dense, TimeDistributed\n",
    "import numpy as np"
   ]
  },
  {
   "cell_type": "markdown",
   "metadata": {},
   "source": [
    "\n",
    "# Sommaire\n",
    "\n",
    "[I. Understanding Keras layers](#Partie1)\n",
    "\n",
    "[II. Using the Keras Sequential API](#Partie2)\n",
    "\n",
    "[III. Using the Keras Functional API](#Partie3)\n",
    "\n",
    "[IV. Using the Keras Subclassing API](#Partie4)"
   ]
  },
  {
   "cell_type": "markdown",
   "metadata": {},
   "source": [
    "## I. Understanding Keras layers<a class=\"anchor\" id=\"Partie1\"></a>"
   ]
  },
  {
   "cell_type": "markdown",
   "metadata": {},
   "source": [
    "Keras layers are the fundamental building blocks of Keras models. \n",
    "Each layer receives data as input, does a specific task, and returns an output.\n",
    "Keras includes a wide range of built-in layers: \n",
    "\n",
    "- Core layers: Dense, Activation, Flatten, Input, Reshape, Permute, RepeatVector, SpatialDropOut, and many more. \n",
    "- Convolutional layers for Convolutional Neural Networks: Conv1D, Conv2D, SeparableConv1D, Conv3D, Cropping2D, and many more. \n",
    "- Pooling layers that perform a downsampling operation to reduce feature maps: MaxPooling1D, AveragePooling2D, and GlobalAveragePooling3D. \n",
    "- Recurrent layers for recurrent neural networks to process recurrent or sequence data: RNN, SimpleRNN, GRU, LSTM, ConvLSTM2D, etc.\n",
    "- The embedding layer, only used as the first layer in a model and turns positive integers into dense vectors of fixed size.\n",
    "-  Merge layers: Add, Subtract, Multiply, Average, Maximum, Minimum, and many more. \n",
    "- Advanced activation layers: LeakyReLU, PReLU, Softmax, ReLU, etc. \n",
    "- The batch normalization layer, which normalizes the activation of the previous layer at each batch. f Noise layers: GausianNoise, GausianDropout, and AlphaDropout. \n",
    "- Layer wrappers: TimeDistributed applies a layer to every temporal slice of an input and bidirectional wrapper for RNNs. \n",
    "- Locally-connected layers: LocallyConnected1D and LocallyConnected2D. They work like Conv1D or Conv2D without sharing their weights."
   ]
  },
  {
   "cell_type": "markdown",
   "metadata": {},
   "source": [
    "On génère des sets random pour utiliser nos modèles."
   ]
  },
  {
   "cell_type": "code",
   "execution_count": 41,
   "metadata": {},
   "outputs": [],
   "source": [
    "data = np.random.random((2000, 64))\n",
    "labels = np.random.random((2000, 10))\n",
    "val_data = np.random.random((500, 64))\n",
    "val_labels = np.random.random((500, 10))\n",
    "test_data = np.random.random((500, 64))\n",
    "test_labels = np.random.random((500, 10))\n",
    "mnist = tf.keras.datasets.mnist\n",
    "(X_mnist_train, y_mnist_train),(X_mnist_test, y_mnist_test) = mnist.load_data()\n",
    "train_mnist_features = X_mnist_train/255\n",
    "test_mnist_features = X_mnist_test/255"
   ]
  },
  {
   "cell_type": "markdown",
   "metadata": {},
   "source": [
    "## II. Using the Keras Sequential API<a class=\"anchor\" id=\"Partie2\"></a>"
   ]
  },
  {
   "cell_type": "markdown",
   "metadata": {},
   "source": [
    "L'objectif principal de Keras est de faciliter la création de modèles d'apprentissage profond. L'API séquentielle nous permet de créer des modèles séquentiels, qui sont une pile linéaire de couches. Les modèles qui sont connectés couche par couche peuvent résoudre de nombreux problèmes. Pour créer un modèle séquentiel, nous devons créer une instance d'une classe Sequential, créer quelques couches de modèle et les ajouter à celle-ci."
   ]
  },
  {
   "cell_type": "markdown",
   "metadata": {},
   "source": [
    "Tout d'abord, une première méthode est de fournir une liste de couche au constructeur Sequential. \n",
    "Nous allons construire un classificateur multi-classes (10 catégories), un modèle entièrement connecté, un perceptron multi-couches."
   ]
  },
  {
   "cell_type": "code",
   "execution_count": 42,
   "metadata": {},
   "outputs": [],
   "source": [
    "model = tf.keras.Sequential([\n",
    "    # Add a fully connected layer with 1024 units to the model\n",
    "    tf.keras.layers.Dense(1024, input_dim=64),\n",
    "    # Add an activation layer with ReLU activation function\n",
    "    tf.keras.layers.Activation('relu'),\n",
    "    # Add a fully connected layer with 256 units to the model\n",
    "    tf.keras.layers.Dense(256),\n",
    "    # Add an activation layer with ReLU activation function\n",
    "    tf.keras.layers.Activation('relu'),\n",
    "    # Add a fully connected layer with 10 units to the model\n",
    "    tf.keras.layers.Dense(10),\n",
    "    # Add an activation layer with softmax activation function\n",
    "    tf.keras.layers.Activation('softmax')])"
   ]
  },
  {
   "cell_type": "markdown",
   "metadata": {},
   "source": [
    "Une autre façon de créer un modèle séquentiel consiste à instancier une classe Sequential, puis à ajouter des couches via la méthode .add()."
   ]
  },
  {
   "cell_type": "code",
   "execution_count": 43,
   "metadata": {},
   "outputs": [],
   "source": [
    "model = tf.keras.Sequential()\n",
    "# Add a fully connected layer with 1024 units to the model\n",
    "model.add(tf.keras.layers.Dense(1024, input_dim=64))\n",
    "# Add an activation layer with ReLU activation function\n",
    "model.add(tf.keras.layers.Activation('relu'))\n",
    "# Add a fully connected layer with 256 units to the model\n",
    "model.add(tf.keras.layers.Dense(256))\n",
    "# Add an activation layer with ReLU activation function\n",
    "model.add(tf.keras.layers.Activation('relu'))\n",
    "# Add a fully connected Layer with 10 units to the model\n",
    "model.add(tf.keras.layers.Dense(10))\n",
    "# Add an activation layer with softmax activation function\n",
    "model.add(tf.keras.layers.Activation('softmax'))"
   ]
  },
  {
   "cell_type": "markdown",
   "metadata": {},
   "source": [
    "Nous pouvons ajouter une **fonction d'activation** en spécifiant le nom d'une fonction intégrée ou en tant qu'objet appelable. Cette fonction décide si un neurone doit être activé ou non. Par défaut, une couche n'a pas de fonction d'activation, c'est pourquoi une manière plus \"orthodoxe\" d'ajouter une couche d'activation est de directement ajouter une layer d'activation pour pouvoir facilement interagir avec. "
   ]
  },
  {
   "cell_type": "code",
   "execution_count": 44,
   "metadata": {},
   "outputs": [
    {
     "data": {
      "text/plain": [
       "<keras.layers.core.dense.Dense at 0x213931b9400>"
      ]
     },
     "execution_count": 44,
     "metadata": {},
     "output_type": "execute_result"
    }
   ],
   "source": [
    "# Creation of a dense layer with a sigmoid activation  function:\n",
    "Dense(256, activation='sigmoid')\n",
    "# Or:\n",
    "Dense(256, activation=tf.keras.activations.sigmoid)"
   ]
  },
  {
   "cell_type": "markdown",
   "metadata": {},
   "source": [
    "Nous pouvons également spécifier une **stratégie d'initialisation** pour les poids initiaux (noyau et biais) en passant l'identité de la chaîne des initialisateurs intégrés ou un objet appelable. Le noyau est fixé par défaut à l'initialisateur \"Glorot uniform\", et le biais est fixé à zéro."
   ]
  },
  {
   "cell_type": "code",
   "execution_count": 45,
   "metadata": {},
   "outputs": [
    {
     "data": {
      "text/plain": [
       "<keras.layers.core.dense.Dense at 0x213935b88e0>"
      ]
     },
     "execution_count": 45,
     "metadata": {},
     "output_type": "execute_result"
    }
   ],
   "source": [
    "# A dense layer with a kernel initialized to a truncated normal distribution:\n",
    "Dense(256, kernel_initializer='random_normal')\n",
    "# A dense layer with a bias vector initialized with a constant value of 5.0:\n",
    "Dense(256, bias_initializer=tf.keras.initializers.Constant(value=5))"
   ]
  },
  {
   "cell_type": "markdown",
   "metadata": {},
   "source": [
    "Nous pouvons également spécifier des **régularisateurs** pour le noyau et le biais, tels que la régularisation L1 (également appelée Lasso) ou L2 (également appelée Ridge). Par défaut, aucune régularisation n'est appliquée. Un régularisateur vise à empêcher le surentrainement en pénalisant un modèle pour avoir des poids importants. Ces pénalités sont incorporées dans la fonction de perte que le réseau optimise."
   ]
  },
  {
   "cell_type": "code",
   "execution_count": 46,
   "metadata": {},
   "outputs": [
    {
     "data": {
      "text/plain": [
       "<keras.layers.core.dense.Dense at 0x21393532250>"
      ]
     },
     "execution_count": 46,
     "metadata": {},
     "output_type": "execute_result"
    }
   ],
   "source": [
    "# A dense layer with L1 regularization of factor 0.01 applied  to the kernel matrix:\n",
    "Dense(256, kernel_regularizer=tf.keras.regularizers.l1(0.01))\n",
    "# A dense layer with L2 regularization of factor 0.01 applied to the bias vector:\n",
    "Dense(256, bias_regularizer=tf.keras.regularizers.l2(0.01))"
   ]
  },
  {
   "cell_type": "markdown",
   "metadata": {},
   "source": [
    "Avant la phase d'apprentissage, notre modèle doit être configuré. Ceci est fait par la méthode de compilation. Nous devons spécifier:\n",
    "\n",
    "- Un algorithme d'optimisation pour l'entraînement de notre réseau neuronal. Nous pouvons transmettre une instance d'optimiseur à partir du module tf.keras.optimizers.\n",
    "- Une fonction de perte appelée fonction objectif ou fonction de score d'optimisation vise à minimiser le modèle.\n",
    "- Une liste de métriques utilisées pour évaluer les performances de notre modèle et qui ne sont pas utilisées dans le processus de formation du modèle.\n",
    "\n",
    "Ensuite on effectue l'entraînement de notre modèle grâce à la méthode fit, enfin nous pouvons évaluer le modèle grâce aux critères mentionnés dans la compilation. Pour finir on peut utiliser notre modèle sur "
   ]
  },
  {
   "cell_type": "code",
   "execution_count": 47,
   "metadata": {},
   "outputs": [
    {
     "name": "stdout",
     "output_type": "stream",
     "text": [
      "Epoch 1/10\n",
      "40/40 [==============================] - 1s 11ms/step - loss: 31.6861 - accuracy: 0.1005 - val_loss: 73.8827 - val_accuracy: 0.0940\n",
      "Epoch 2/10\n",
      "40/40 [==============================] - 0s 6ms/step - loss: 121.9211 - accuracy: 0.1085 - val_loss: 139.1443 - val_accuracy: 0.1160\n",
      "Epoch 3/10\n",
      "40/40 [==============================] - 0s 6ms/step - loss: 174.6562 - accuracy: 0.1175 - val_loss: 168.8280 - val_accuracy: 0.0860\n",
      "Epoch 4/10\n",
      "40/40 [==============================] - 0s 6ms/step - loss: 534.4794 - accuracy: 0.0940 - val_loss: 1165.6456 - val_accuracy: 0.1260\n",
      "Epoch 5/10\n",
      "40/40 [==============================] - 0s 6ms/step - loss: 1287.0070 - accuracy: 0.0885 - val_loss: 1466.0035 - val_accuracy: 0.0920\n",
      "Epoch 6/10\n",
      "40/40 [==============================] - 0s 6ms/step - loss: 2035.4275 - accuracy: 0.0980 - val_loss: 2063.7439 - val_accuracy: 0.0940\n",
      "Epoch 7/10\n",
      "40/40 [==============================] - 0s 6ms/step - loss: 2658.8420 - accuracy: 0.0940 - val_loss: 5046.7339 - val_accuracy: 0.0920\n",
      "Epoch 8/10\n",
      "40/40 [==============================] - 0s 6ms/step - loss: 4623.2773 - accuracy: 0.0975 - val_loss: 5679.2983 - val_accuracy: 0.0940\n",
      "Epoch 9/10\n",
      "40/40 [==============================] - 0s 7ms/step - loss: 5896.3042 - accuracy: 0.1000 - val_loss: 4524.2056 - val_accuracy: 0.1160\n",
      "Epoch 10/10\n",
      "40/40 [==============================] - 0s 6ms/step - loss: 7572.9121 - accuracy: 0.1025 - val_loss: 6431.3130 - val_accuracy: 0.1160\n",
      "40/40 [==============================] - 0s 2ms/step - loss: 6392.0879 - accuracy: 0.1155\n"
     ]
    }
   ],
   "source": [
    "model.compile(\n",
    "    optimizer=\"adam\", \n",
    "    loss=\"categorical_crossentropy\",\n",
    "    metrics=[\"accuracy\"]\n",
    ")\n",
    "\n",
    "model.fit(data, labels, epochs=10, batch_size=50,\n",
    "          validation_data=(val_data, val_labels))\n",
    "\n",
    "model.evaluate(data, labels, batch_size=50)\n",
    "\n",
    "result = model.predict(data, batch_size=50)"
   ]
  },
  {
   "cell_type": "markdown",
   "metadata": {},
   "source": [
    "## III. Using the Keras Functional API<a class=\"anchor\" id=\"Partie3\"></a>"
   ]
  },
  {
   "cell_type": "markdown",
   "metadata": {},
   "source": [
    "L'API séquentielle Keras est idéale pour développer des modèles d'apprentissage profond dans la plupart des situations. Cependant, cette API présente certaines limites, comme une topologie linéaire, qui pourraient être surmontées avec l'API fonctionnelle. Notez que de nombreux réseaux très performants sont basés sur une topologie non linéaire, comme Inception, ResNet, etc. \n",
    "\n",
    "L'API fonctionnelle permet de créer des modèles complexes avec une topologie non linéaire, des entrées multiples, des sorties multiples, des connexions résiduelles non séquentielles et des couches partagées et réutilisables. L'API fonctionnelle est un moyen de construire un DAG (directed acyclic graph) et de créer des modèles plus flexibles que l'API séquentielle tf.keras.Sequential."
   ]
  },
  {
   "cell_type": "markdown",
   "metadata": {},
   "source": [
    "Nous allons créer un nœud d'entrée avec une forme de dimension 28x28. Rappelez-vous que dans Keras, la couche d'entrée n'est pas une couche mais un tenseur, et nous devons spécifier la forme d'entrée pour la première couche. Input() est utilisé pour instancier un tenseur Keras.\n",
    "On construit ci-dessous le graphe de l'entré à la sortie passant par 2 couches denses (50 et 10 neurones)."
   ]
  },
  {
   "cell_type": "code",
   "execution_count": 48,
   "metadata": {},
   "outputs": [],
   "source": [
    "inputs = tf.keras.Input(shape=(28,28))\n",
    "flatten_layer = keras.layers.Flatten()\n",
    "flatten_output = flatten_layer(inputs)\n",
    "dense_layer = tf.keras.layers.Dense(50, activation='relu')\n",
    "dense_output = dense_layer(flatten_output)\n",
    "predictions = tf.keras.layers.Dense(10, activation='softmax')(dense_output)"
   ]
  },
  {
   "cell_type": "markdown",
   "metadata": {},
   "source": [
    "Le ou les tenseurs d'entrée et le ou les tenseurs de sortie sont utilisés pour définir un modèle. Le modèle est une fonction d'une ou plusieurs couches d'entrée et d'une ou plusieurs couches de sortie. L'instance de \"model\" formalise le graphe sur la façon dont les données passent de l'entrée (s) à la sortie (s)."
   ]
  },
  {
   "cell_type": "code",
   "execution_count": 49,
   "metadata": {},
   "outputs": [
    {
     "name": "stdout",
     "output_type": "stream",
     "text": [
      "Model: \"model_2\"\n",
      "_________________________________________________________________\n",
      " Layer (type)                Output Shape              Param #   \n",
      "=================================================================\n",
      " input_3 (InputLayer)        [(None, 28, 28)]          0         \n",
      "                                                                 \n",
      " flatten_3 (Flatten)         (None, 784)               0         \n",
      "                                                                 \n",
      " dense_61 (Dense)            (None, 50)                39250     \n",
      "                                                                 \n",
      " dense_62 (Dense)            (None, 10)                510       \n",
      "                                                                 \n",
      "=================================================================\n",
      "Total params: 39,760\n",
      "Trainable params: 39,760\n",
      "Non-trainable params: 0\n",
      "_________________________________________________________________\n"
     ]
    }
   ],
   "source": [
    "model = keras.Model(inputs=inputs, outputs=predictions)\n",
    "model.summary()"
   ]
  },
  {
   "cell_type": "markdown",
   "metadata": {},
   "source": [
    "On peut maintenant compiler le modèle avec la configuration d'entraînement et de critères puis entraîner ce modèle."
   ]
  },
  {
   "cell_type": "code",
   "execution_count": 50,
   "metadata": {},
   "outputs": [
    {
     "name": "stdout",
     "output_type": "stream",
     "text": [
      "Epoch 1/10\n",
      "1875/1875 [==============================] - 7s 3ms/step - loss: 26.3807 - accuracy: 0.1390 - val_loss: 2.3017 - val_accuracy: 0.1049\n",
      "Epoch 2/10\n",
      "1875/1875 [==============================] - 6s 3ms/step - loss: 2.2848 - accuracy: 0.1173 - val_loss: 2.2623 - val_accuracy: 0.1298\n",
      "Epoch 3/10\n",
      "1875/1875 [==============================] - 6s 3ms/step - loss: 2.2963 - accuracy: 0.1169 - val_loss: 2.3008 - val_accuracy: 0.1125\n",
      "Epoch 4/10\n",
      "1875/1875 [==============================] - 6s 3ms/step - loss: 2.3009 - accuracy: 0.1127 - val_loss: 2.3007 - val_accuracy: 0.1125\n",
      "Epoch 5/10\n",
      "1875/1875 [==============================] - 6s 3ms/step - loss: 2.3008 - accuracy: 0.1125 - val_loss: 2.3007 - val_accuracy: 0.1125\n",
      "Epoch 6/10\n",
      "1875/1875 [==============================] - 6s 3ms/step - loss: 2.2779 - accuracy: 0.1246 - val_loss: 2.2924 - val_accuracy: 0.2012\n",
      "Epoch 7/10\n",
      "1875/1875 [==============================] - 6s 3ms/step - loss: 2.2252 - accuracy: 0.1543 - val_loss: 2.3074 - val_accuracy: 0.1125\n",
      "Epoch 8/10\n",
      "1875/1875 [==============================] - 6s 3ms/step - loss: 2.3028 - accuracy: 0.1125 - val_loss: 2.3010 - val_accuracy: 0.1125\n",
      "Epoch 9/10\n",
      "1875/1875 [==============================] - 6s 3ms/step - loss: 2.3009 - accuracy: 0.1125 - val_loss: 2.3008 - val_accuracy: 0.1125\n",
      "Epoch 10/10\n",
      "1875/1875 [==============================] - 6s 3ms/step - loss: 2.3008 - accuracy: 0.1125 - val_loss: 2.3008 - val_accuracy: 0.1125\n"
     ]
    },
    {
     "data": {
      "text/plain": [
       "<keras.callbacks.History at 0x21392f8b5b0>"
      ]
     },
     "execution_count": 50,
     "metadata": {},
     "output_type": "execute_result"
    }
   ],
   "source": [
    "model.compile(optimizer='sgd',\n",
    "             loss='sparse_categorical_crossentropy',\n",
    "             metrics=['accuracy'])\n",
    "             \n",
    "model.fit(X_mnist_train, y_mnist_train,\n",
    "          validation_data=(X_mnist_train, y_mnist_train),\n",
    "          epochs=10)"
   ]
  },
  {
   "cell_type": "markdown",
   "metadata": {},
   "source": [
    "### Creating a model with multiple inputs and outputs"
   ]
  },
  {
   "cell_type": "markdown",
   "metadata": {},
   "source": [
    "L'API fonctionnelle permet de manipuler facilement un grand nombre de flux de données entrelacés avec des entrées et des sorties multiples et des topologies de connectivité non linéaires. Ces éléments ne peuvent pas être traités avec l'API séquentielle, qui n'est pas en mesure de créer un modèle avec des couches qui ne sont pas connectées séquentiellement ou avec des entrées ou sorties multiples. \n",
    "\n",
    "Nous allons construire un système pour prédire le prix d'une maison spécifique et le temps écoulé avant sa vente.\n",
    "\n",
    "Le modèle aura deux entrées : \n",
    "- Des données sur la maison telles que le nombre de chambres, la taille de la maison, la climatisation, cuisine équipée, etc. \n",
    "- Une photo récente de la maison\n",
    "\n",
    "Ce modèle aura deux sorties : \n",
    "- Le temps écoulé avant la vente (deux catégories - lent ou rapide). \n",
    "- Le prix prédit"
   ]
  },
  {
   "cell_type": "markdown",
   "metadata": {},
   "source": [
    "Pour construire ce système, nous allons commencer par construire le premier bloc pour traiter les données tabulaires sur la maison."
   ]
  },
  {
   "cell_type": "code",
   "execution_count": 51,
   "metadata": {},
   "outputs": [],
   "source": [
    "house_data_inputs = tf.keras.Input(shape=(128,), name='house_data')\n",
    "x = tf.keras.layers.Dense(64, activation='relu')(house_data_inputs)\n",
    "block_1_output = tf.keras.layers.Dense(32, activation='relu')(x)"
   ]
  },
  {
   "cell_type": "markdown",
   "metadata": {},
   "source": [
    "Ensuite, nous construirons le deuxième bloc pour traiter les données de l'image de la maison."
   ]
  },
  {
   "cell_type": "code",
   "execution_count": 52,
   "metadata": {},
   "outputs": [],
   "source": [
    "house_picture_inputs = tf.keras.Input(shape=(128,128,3), name='house_picture')\n",
    "x = tf.keras.layers.Conv2D(64, 3, activation='relu', padding='same')(house_picture_inputs)\n",
    "x = tf.keras.layers.Conv2D(64, 3, activation='relu', padding='same')(x)\n",
    "block_2_output = tf.keras.layers.Flatten()(x)"
   ]
  },
  {
   "cell_type": "markdown",
   "metadata": {},
   "source": [
    "Maintenant, nous allons fusionner toutes les caractéristiques disponibles en un seul grand vecteur par concaténation."
   ]
  },
  {
   "cell_type": "code",
   "execution_count": 53,
   "metadata": {},
   "outputs": [],
   "source": [
    "x = tf.keras.layers.concatenate([block_1_output, block_2_output])"
   ]
  },
  {
   "cell_type": "markdown",
   "metadata": {},
   "source": [
    "Ensuite, nous ajouterons à ces caractéristiques une régression logistique pour la prédiction des prix."
   ]
  },
  {
   "cell_type": "code",
   "execution_count": 54,
   "metadata": {},
   "outputs": [],
   "source": [
    "price_pred = tf.keras.layers.Dense(1, name='price', activation='relu')(x)"
   ]
  },
  {
   "cell_type": "markdown",
   "metadata": {},
   "source": [
    "Et nous ajouterons une classification temporelle à ces caractéristiques."
   ]
  },
  {
   "cell_type": "code",
   "execution_count": 55,
   "metadata": {},
   "outputs": [],
   "source": [
    "time_elapsed_pred = tf.keras.layers.Dense(2, name='elapsed_time', activation='softmax')(x)"
   ]
  },
  {
   "cell_type": "markdown",
   "metadata": {},
   "source": [
    "Nous pouvons maintenant construire notre modèle."
   ]
  },
  {
   "cell_type": "code",
   "execution_count": 56,
   "metadata": {},
   "outputs": [
    {
     "data": {
      "image/png": "[encoded data removed]",
      "text/plain": [
       "<IPython.core.display.Image object>"
      ]
     },
     "execution_count": 56,
     "metadata": {},
     "output_type": "execute_result"
    }
   ],
   "source": [
    "model = keras.Model([house_data_inputs, house_picture_inputs],\n",
    "                   [price_pred, time_elapsed_pred],\n",
    "                   name='toy_house_pred')\n",
    "\n",
    "keras.utils.plot_model(model, 'multi_input_and_output_model.png',show_shapes=True)"
   ]
  },
  {
   "cell_type": "markdown",
   "metadata": {},
   "source": [
    "## IV. Using the Keras Subclassing API<a class=\"anchor\" id=\"Partie4\"></a>"
   ]
  },
  {
   "cell_type": "markdown",
   "metadata": {},
   "source": [
    "Keras est basé sur les principes de conception orientée objet. Ainsi, nous pouvons sous-classer la classe Model et créer la définition de l'architecture de notre modèle.\n",
    "\n",
    "L'API Keras Subclassing est la troisième voie proposée par Keras pour construire des modèles de réseaux de neurones profonds. Cette API est entièrement personnalisable, mais cette flexibilité est aussi synonyme de complexité ! \n",
    "\n",
    "Vous vous demandez sans doute pourquoi nous avons besoin de cette API si elle est si difficile à utiliser.  Certaines architectures de modèles et certaines couches personnalisées peuvent être extrêmement difficiles. Certains chercheurs et certains développeurs espèrent avoir le contrôle total de leurs modèles et de la manière de les former. L'API de sous-classement offre ces fonctionnalités."
   ]
  },
  {
   "cell_type": "markdown",
   "metadata": {},
   "source": [
    "### Creating a custom layer"
   ]
  },
  {
   "cell_type": "markdown",
   "metadata": {},
   "source": [
    "Tout d'abord créons notre couche dense customisable."
   ]
  },
  {
   "cell_type": "code",
   "execution_count": 57,
   "metadata": {},
   "outputs": [],
   "source": [
    "class MyCustomDense(tf.keras.layers.Layer):\n",
    "    # Initialize this class with the number of units\n",
    "    def __init__(self, units):\n",
    "        super(MyCustomDense, self).__init__()\n",
    "        self.units = units\n",
    " \n",
    "    # Define the weights and the bias\n",
    "    def build(self, input_shape):\n",
    "        self.w = self.add_weight(shape=(input_shape[-1], self.units),\n",
    "                            initializer='random_normal',\n",
    "                            trainable=True)\n",
    "                            \n",
    "        self.b = self.add_weight(shape=(self.units,),\n",
    "                            initializer='random_normal',\n",
    "                            trainable=True)\n",
    " \n",
    "    # Applying this layer transformation to the input tensor\n",
    "    def call(self, inputs):\n",
    "        return tf.matmul(inputs, self.w) + self.b\n",
    "    \n",
    "    # Function to retrieve the configuration\n",
    "    def get_config(self):\n",
    "        return {'units': self.units}"
   ]
  },
  {
   "cell_type": "markdown",
   "metadata": {},
   "source": [
    "Ensuite, nous allons créer un modèle en utilisant la couche MyCustomDense créée à l'étape précédente"
   ]
  },
  {
   "cell_type": "code",
   "execution_count": 58,
   "metadata": {},
   "outputs": [],
   "source": [
    "# Create an input layer\n",
    "inputs = keras.Input((12,4))\n",
    "# Add an instance of MyCustomeDense layer\n",
    "outputs = MyCustomDense(2)(inputs)\n",
    "# Create a model\n",
    "model = keras.Model(inputs, outputs)\n",
    "# Get the model config\n",
    "config = model.get_config()"
   ]
  },
  {
   "cell_type": "code",
   "execution_count": 59,
   "metadata": {},
   "outputs": [],
   "source": [
    "new_model = keras.Model.from_config(config,                        \n",
    "                                    custom_objects={'MyCustomDense': MyCustomDense})"
   ]
  },
  {
   "cell_type": "markdown",
   "metadata": {},
   "source": [
    "### Creating a custom model"
   ]
  },
  {
   "cell_type": "code",
   "execution_count": 60,
   "metadata": {},
   "outputs": [],
   "source": [
    "class MyMNISTModel(tf.keras.Model):\n",
    "    \n",
    "    def __init__(self, num_classes):\n",
    "        super(MyMNISTModel, self).__init__(name='my_mnist_model')\n",
    "        self.num_classes = num_classes\n",
    "        self.flatten_1 = tf.keras.layers.Flatten()\n",
    "        self.dropout = tf.keras.layers.Dropout(0.1)\n",
    "        self.dense_1 = tf.keras.layers.Dense(50, activation='relu')\n",
    "        self.dense_2 = tf.keras.layers.Dense(10, activation='softmax')\n",
    "    \n",
    "    def call(self, inputs, training=False):\n",
    "        x = self.flatten_1(inputs)\n",
    "        # Apply dropout only during the training phase\n",
    "        x = self.dense_1(x)\n",
    "        if training:\n",
    "            x = self.dropout(x, training=training)\n",
    "        return self.dense_2(x)"
   ]
  },
  {
   "cell_type": "code",
   "execution_count": 61,
   "metadata": {},
   "outputs": [
    {
     "name": "stdout",
     "output_type": "stream",
     "text": [
      "Epoch 1/10\n",
      "1875/1875 [==============================] - 5s 2ms/step - loss: 0.7666 - accuracy: 0.7900 - val_loss: 0.3847 - val_accuracy: 0.8961\n",
      "Epoch 2/10\n",
      "1875/1875 [==============================] - 4s 2ms/step - loss: 0.4056 - accuracy: 0.8840 - val_loss: 0.3123 - val_accuracy: 0.9131\n",
      "Epoch 3/10\n",
      "1875/1875 [==============================] - 4s 2ms/step - loss: 0.3448 - accuracy: 0.9004 - val_loss: 0.2744 - val_accuracy: 0.9224\n",
      "Epoch 4/10\n",
      "1875/1875 [==============================] - 4s 2ms/step - loss: 0.3101 - accuracy: 0.9116 - val_loss: 0.2505 - val_accuracy: 0.9292\n",
      "Epoch 5/10\n",
      "1875/1875 [==============================] - 4s 2ms/step - loss: 0.2820 - accuracy: 0.9189 - val_loss: 0.2308 - val_accuracy: 0.9337\n",
      "Epoch 6/10\n",
      "1875/1875 [==============================] - 4s 2ms/step - loss: 0.2643 - accuracy: 0.9243 - val_loss: 0.2145 - val_accuracy: 0.9389\n",
      "Epoch 7/10\n",
      "1875/1875 [==============================] - 4s 2ms/step - loss: 0.2456 - accuracy: 0.9301 - val_loss: 0.1992 - val_accuracy: 0.9441\n",
      "Epoch 8/10\n",
      "1875/1875 [==============================] - 4s 2ms/step - loss: 0.2326 - accuracy: 0.9338 - val_loss: 0.1879 - val_accuracy: 0.9469\n",
      "Epoch 9/10\n",
      "1875/1875 [==============================] - 4s 2ms/step - loss: 0.2199 - accuracy: 0.9371 - val_loss: 0.1798 - val_accuracy: 0.9473\n",
      "Epoch 10/10\n",
      "1875/1875 [==============================] - 4s 2ms/step - loss: 0.2115 - accuracy: 0.9397 - val_loss: 0.1707 - val_accuracy: 0.9503\n"
     ]
    },
    {
     "data": {
      "text/plain": [
       "<keras.callbacks.History at 0x21395e6d3d0>"
      ]
     },
     "execution_count": 61,
     "metadata": {},
     "output_type": "execute_result"
    }
   ],
   "source": [
    "my_mnist_model = MyMNISTModel(10)\n",
    "# Compile\n",
    "my_mnist_model.compile(optimizer='sgd',\n",
    "                      loss='sparse_categorical_crossentropy',\n",
    "                      metrics=['accuracy'])\n",
    "# Train\n",
    "my_mnist_model.fit(train_mnist_features , y_mnist_train,\n",
    "                  validation_data=(test_mnist_features , y_mnist_test),\n",
    "                  epochs=10)"
   ]
  }
 ],
 "metadata": {
  "interpreter": {
   "hash": "facb5e61a4394193cb0f4fe6a1e15649a9df4920ef6ba80a21095838ac15af6e"
  },
  "kernelspec": {
   "display_name": "Python 3.8.5 ('base')",
   "language": "python",
   "name": "python3"
  },
  "language_info": {
   "codemirror_mode": {
    "name": "ipython",
    "version": 3
   },
   "file_extension": ".py",
   "mimetype": "text/x-python",
   "name": "python",
   "nbconvert_exporter": "python",
   "pygments_lexer": "ipython3",
   "version": "3.8.5"
  },
  "orig_nbformat": 4
 },
 "nbformat": 4,
 "nbformat_minor": 2
}
