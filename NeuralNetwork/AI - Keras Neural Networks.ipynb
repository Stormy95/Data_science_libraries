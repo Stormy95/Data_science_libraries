{
 "cells": [
  {
   "cell_type": "markdown",
   "metadata": {},
   "source": [
    "# AI - Keras Neural Network"
   ]
  },
  {
   "cell_type": "markdown",
   "metadata": {},
   "source": [
    "La spécificité de keras est quelle utilise TensorFlow et Theano comme \"engine\". Cette librairie permet de se concentrer sur l'aspect design et training et les specificités liées au tensor sont laissé à tensorflow et theano."
   ]
  },
  {
   "cell_type": "markdown",
   "metadata": {},
   "source": [
    "# Import"
   ]
  },
  {
   "cell_type": "code",
   "execution_count": 21,
   "metadata": {},
   "outputs": [],
   "source": [
    "import  numpy as np\n",
    "import cv2\n",
    "from matplotlib import pyplot as plt\n",
    "from IPython.display import SVG\n",
    "\n",
    "from keras import models\n",
    "from keras import layers\n",
    "from keras.datasets import imdb, reuters, mnist\n",
    "from keras.preprocessing.text import Tokenizer\n",
    "from keras.utils.np_utils import to_categorical\n",
    "from keras import regularizers\n",
    "from keras.callbacks import EarlyStopping, ModelCheckpoint\n",
    "from keras.wrappers.scikit_learn import KerasClassifier\n",
    "from keras.utils.vis_utils import model_to_dot\n",
    "from keras.layers import Dense, Dropout, Flatten\n",
    "from keras.layers.convolutional import Conv2D, MaxPooling2D\n",
    "from keras.utils import np_utils\n",
    "from keras import backend as K\n",
    "from keras.preprocessing.image import ImageDataGenerator\n",
    "from keras.preprocessing import sequence\n",
    "from keras.models import load_model\n",
    "\n",
    "from sklearn.model_selection import cross_val_score\n",
    "from sklearn.datasets import make_classification\n",
    "from sklearn.datasets import make_regression\n",
    "from sklearn.model_selection import train_test_split\n",
    "from sklearn.model_selection import GridSearchCV\n",
    "from sklearn import preprocessing"
   ]
  },
  {
   "cell_type": "markdown",
   "metadata": {},
   "source": [
    "\n",
    "# Sommaire\n",
    "\n",
    "[I. Designing a neural network](#Partie1)\n",
    "\n",
    "[II. Training a binary and multiclass classifier](#Partie2)\n",
    "- [II.1. Binary](#Partie2.1) \n",
    "- [II.2. Multiclass](#Partie2.2) \n",
    "\n",
    "[III. Training a regressor](#Partie3)\n",
    "\n",
    "[IV. Visualizing training and making predictions](#Partie4)\n",
    "- [IV.1. Visualizing training](#Partie4.1) \n",
    "- [IV.2. Making predictions](#Partie4.2) \n",
    "\n",
    "[V. Reduce overfitting](#Partie5)\n",
    "- [V.1. With weight regularization](#Partie5.1) \n",
    "- [V.2. With early stopping](#Partie5.2)\n",
    "- [V.3. With dropout](#Partie5.3) \n",
    "\n",
    "[VI. k-fold cross-validation and tunning a neural network](#Partie6)\n",
    "- [VI.1. K-fold cross validation](#Partie6.1) \n",
    "- [VI.2. Tuning neural networks](#Partie6.2)\n",
    "\n",
    "[VII. Visualizing neural networks](#Partie7)\n",
    "\n",
    "[VIII. Classifying images](#Partie8)\n",
    "- [VIII.1. Image classification](#Partie8.1) \n",
    "- [VIII.2. Improving performance with image augmentation](#Partie8.2)\n",
    "\n",
    "[IX. Classifying text](#Partie9)\n",
    "\n",
    "[X. Saving & loading a model](#Partie10)"
   ]
  },
  {
   "cell_type": "markdown",
   "metadata": {},
   "source": [
    "## I. Designing a neural network<a class=\"anchor\" id=\"Partie1\"></a>"
   ]
  },
  {
   "cell_type": "markdown",
   "metadata": {},
   "source": [
    "Tout d'abord les données sont preprocessées selon leur type (si numérique alors on utilise standardscaler)\n",
    "\n",
    "Les reseaux de neurones consistent en des couches d'unité (neurone). Pour construire ici un reseau feed forward on doit faire plusieurs choix pour l'architecture et le processus d'entrainement. Il faut tout d'abord se rappeler que chaque unit (ie neurone) recoit :\n",
    "- un certain nombe d'inputs\n",
    "- toutes les inputs sont pondérés par un paramètre\n",
    "- on fait la combinaison linéaire de toutes les inputs pondérés et d'un biais (1 en général)\n",
    "- on y applique ensuite une fonction d'activation\n",
    "- on envoie l'output a la couche suivante\n",
    "\n",
    "1/ De manière générale: plus il y a de neurones sur une couche plus le reseau sera capable d'apprendre des pattern complexes mais plus le reseau est susceptible de surappendre. On doit d'abord chosir la fonction d'activation (relu est un bon choix si la somme pondérée est inférieur à 0 alors la fonction renvoie 0 sinon elle renvoie la somme)\n",
    "\n",
    "2/ On doit ensuite définir le nombre de couche cachée à ajouter à l'architecture. Plus il y a de couche plus le reseau peut appendre des relations complexes mais avec un coût sur la complexité.\n",
    " \n",
    "3/On doit ensuite définir la couche d'activation pour la dernière couche. Cela depend du but du reseau:\n",
    "- pour une classification binaire on utilisera sigmoide\n",
    "- pour une classifcation multiclass on utilisera softmax\n",
    "- pour une regression on utilisera pas d'activation (ie linéaire)\n",
    "\n",
    "4/ Dans un 4eme temps on définit la loss function (qui mesure à quel point les valeurs prédites sont poches des vrais valeurs)\n",
    "- binary classification: binary cross entropy\n",
    "- multiclass classification: categorical cross entropy\n",
    "- regression: mse\n",
    "\n",
    "5/ On définit ensuite \"l'optimizer\" qui est note stratégie pour trouver les meilleurs paramètres pou poduire une loss minimale. les choix communs sont: stochastic gradient descent, with momentum, rms propagation, adaptative moment...\n",
    "\n",
    "6/ On selectionne les metriques de performance de notre algorithme.\n",
    "\n",
    "Keras permet de construire un reseau avec sequential qui va juxtaposer chaque couche. Dans notre reseau on a crée un reseau à 2 couches (on ne compte pas la couche d'entrée car elle n'a pas de poid). Les couches sont \"dense\" (qui correspond à des couches fully connected ie tous les neurones de la couche précédente sont connectés au neurones de la couche suivante). Units=16 signifie qu'il y a 16 neurones sur la couche. Dans Keras la première couche cachée doti comporter l'argument \"input_shape\" qui est la dimension des features (ie leur nombre). (10,) signifie que chaque observation a 10 features. ici on a designé un reseau pour une classification binaire donc il y a une seule sortie avec activation sigmoide qui sera entre 0 et 1 qui correspond à la probabilité d'obtenir la classe 1."
   ]
  },
  {
   "cell_type": "code",
   "execution_count": 2,
   "metadata": {},
   "outputs": [],
   "source": [
    "network=models.Sequential() #start neural network\n",
    "\n",
    "network.add(layers.Dense(units=16,activation=\"relu\",input_shape=(10,))) #ajout d'une fully connected layer avec Relu\n",
    "network.add(layers.Dense(units=16,activation=\"relu\")) #ajout d'une fully connected layer avec Relu\n",
    "network.add(layers.Dense(units=1,activation=\"sigmoid\")) #ajout d'une fully connected layer avec sigmoide\n",
    "\n",
    "network.compile(loss=\"binary_crossentropy\", # loss de cross entropy pour pb de classification\n",
    "                optimizer=\"rmsprop\", # propagation avec root mean square \n",
    "                metrics=[\"accuracy\"]) #accuracy comme metrique de performance"
   ]
  },
  {
   "cell_type": "markdown",
   "metadata": {},
   "source": [
    "## II. Training a binary and multiclass classifier<a class=\"anchor\" id=\"Partie2\"></a>"
   ]
  },
  {
   "cell_type": "markdown",
   "metadata": {},
   "source": [
    "### II.1. Binary<a class=\"anchor\" id=\"Partie2.1\"></a>"
   ]
  },
  {
   "cell_type": "markdown",
   "metadata": {},
   "source": [
    "Dans cet entrainement d'un modele de classification binaire on utilise les données: de movie review (text) qui sont catégorisées en bonne (1) ou mauvaise (0). On convertit les reviews en 5000 features binaire qui indique ou non la présence des 1000 mots les plus fréquents (en one-hot encoder: si mot existe 1 sinon 0). Ces one hot vecteurs correspondent au set de train et test avec leur label correspondant.\n",
    "\n",
    "On utilise la fonction fit de Keras pour entrainer le modèle:\n",
    "- 2 premiers paramètres: features et target vecteurs du set de train\n",
    "- paramètre epoch: nombre d'itération de train sur tout le set de train (ie tous les batchs)\n",
    "- verbose 0,1,2 : donne des informations plus ou moins détaillé sur les epochs\n",
    "- batch_size: taille des batchs pendant les epoch\n",
    "- test data\n",
    "\n",
    "La méthode fit de Keras renvoie un object qui contient les valeurs de loss et les metriques de performance demandées"
   ]
  },
  {
   "cell_type": "code",
   "execution_count": 3,
   "metadata": {},
   "outputs": [
    {
     "name": "stdout",
     "output_type": "stream",
     "text": [
      "Epoch 1/3\n",
      "250/250 [==============================] - 2s 5ms/step - loss: 0.4247 - accuracy: 0.8104 - val_loss: 0.3370 - val_accuracy: 0.8578\n",
      "Epoch 2/3\n",
      "250/250 [==============================] - 1s 4ms/step - loss: 0.3261 - accuracy: 0.8638 - val_loss: 0.3490 - val_accuracy: 0.8503\n",
      "Epoch 3/3\n",
      "250/250 [==============================] - 1s 4ms/step - loss: 0.3156 - accuracy: 0.8687 - val_loss: 0.3269 - val_accuracy: 0.8612\n"
     ]
    }
   ],
   "source": [
    "np.random.seed(0) #on confidure la random seed\n",
    "number_of_features=1000 #nombre de features dans le set\n",
    "\n",
    "#on utilise le set movie review pour créer le set de train et test\n",
    "(data_train,target_train),(data_test,target_test)=imdb.load_data(num_words=number_of_features) \n",
    "\n",
    "#On convertit les data movie review en one-hot feature matrice encodée\n",
    "# dans les observation on ne garde que les 1000 mots les plus féquents des data set\n",
    "# en encodant les obersavtion en one hot vecteur de longeur 1000\n",
    "tokenizer=Tokenizer(num_words=number_of_features) \n",
    "features_train=tokenizer.sequences_to_matrix(data_train,mode=\"binary\")\n",
    "features_test=tokenizer.sequences_to_matrix(data_test,mode=\"binary\")\n",
    "\n",
    "network=models.Sequential() #start neural network\n",
    "\n",
    "network.add(layers.Dense(units=16,activation=\"relu\",input_shape=(number_of_features,))) \n",
    "network.add(layers.Dense(units=16,activation=\"relu\"))\n",
    "network.add(layers.Dense(units=1,activation=\"sigmoid\")) \n",
    "\n",
    "network.compile(loss=\"binary_crossentropy\", \n",
    "                optimizer=\"rmsprop\", \n",
    "                metrics=[\"accuracy\"])\n",
    "\n",
    "# train neural network\n",
    "\n",
    "history=network.fit(features_train, #set de training\n",
    "                    target_train, #label de training\n",
    "                    epochs=3, #nombre d'epoch\n",
    "                    verbose=1, #print la description a chaque epoch\n",
    "                    batch_size=100, #nombre d'observation par batch\n",
    "                    validation_data=(features_test,target_test)) #test data\n",
    "\n"
   ]
  },
  {
   "cell_type": "markdown",
   "metadata": {},
   "source": [
    "### II.2. Multiclass<a class=\"anchor\" id=\"Partie2.2\"></a>"
   ]
  },
  {
   "cell_type": "markdown",
   "metadata": {},
   "source": [
    "La différence entre le classifier ci-dessus et dessous est la catégorisation en 46 classe plutôt que une classe 0 et une classe 1 il doit donc y avoir 46 noeuds sur la dernière couche par rapport à un noeud sur la première. Le vecteur de target doit donc également être encodé en one-hot, c'est à dire chaque ligne de ces matrices contient 46 élements avec des 0 partout sauf au numéro de la classe correspondante.\n",
    "Un élément important à prendre en compte est l'utilisation de la fonction d'activation softmax sur la dernière couche qui va permettre d'avoir une somme des issues égale à 1 (correspondant donc au probabilité d'occurence de chaque classe)."
   ]
  },
  {
   "cell_type": "code",
   "execution_count": 4,
   "metadata": {},
   "outputs": [
    {
     "name": "stdout",
     "output_type": "stream",
     "text": [
      "Epoch 1/3\n",
      "90/90 [==============================] - 2s 16ms/step - loss: 1.5288 - accuracy: 0.6627 - val_loss: 1.1213 - val_accuracy: 0.7422\n",
      "Epoch 2/3\n",
      "90/90 [==============================] - 1s 13ms/step - loss: 0.7980 - accuracy: 0.8211 - val_loss: 0.9409 - val_accuracy: 0.7872\n",
      "Epoch 3/3\n",
      "90/90 [==============================] - 1s 13ms/step - loss: 0.5101 - accuracy: 0.8927 - val_loss: 0.8748 - val_accuracy: 0.7974\n"
     ]
    }
   ],
   "source": [
    "np.random.seed(0) #on confidure la random seed\n",
    "number_of_features=5000 #nombre de features dans le set\n",
    "\n",
    "#on utilise le set reuters pour créer le set de train et test\n",
    "data=reuters.load_data(num_words=number_of_features) \n",
    "(data_train,target_train),(data_test,target_test)=data\n",
    "\n",
    "# On convertit les data movie review en one-hot feature matrice encodée\n",
    "# dans les observation on ne garde que les 5000 mots les plus féquents des data set\n",
    "# en encodant les obersavtion en one hot vecteur de longeur 1000\n",
    "tokenizer=Tokenizer(num_words=number_of_features) \n",
    "features_train=tokenizer.sequences_to_matrix(data_train,mode=\"binary\")\n",
    "features_test=tokenizer.sequences_to_matrix(data_test,mode=\"binary\")\n",
    "\n",
    "# on one-hot encode le vecteur de target\n",
    "target_train=to_categorical(target_train)\n",
    "target_test=to_categorical(target_test)\n",
    "\n",
    "\n",
    "network=models.Sequential() #start neural network\n",
    "\n",
    "network.add(layers.Dense(units=100,activation=\"relu\",input_shape=(number_of_features,))) \n",
    "network.add(layers.Dense(units=100,activation=\"relu\"))\n",
    "network.add(layers.Dense(units=46,activation=\"softmax\")) #units = nombre de classe dans le set\n",
    "\n",
    "network.compile(loss=\"categorical_crossentropy\", \n",
    "                optimizer=\"rmsprop\", \n",
    "                metrics=[\"accuracy\"])\n",
    "\n",
    "# train neural network\n",
    "\n",
    "history=network.fit(features_train, #set de training\n",
    "                    target_train, #label de training\n",
    "                    epochs=3, #nombre d'epoch\n",
    "                    verbose=1, #print la description a chaque epoch\n",
    "                    batch_size=100, #nombre d'observation par batch\n",
    "                    validation_data=(features_test,target_test)) #test data"
   ]
  },
  {
   "cell_type": "markdown",
   "metadata": {},
   "source": [
    "## III. Training a regressor<a class=\"anchor\" id=\"Partie3\"></a>"
   ]
  },
  {
   "cell_type": "markdown",
   "metadata": {},
   "source": [
    "Dans les cas précédents nous appliquions des fonctions activation sur la dernière couche. Dans le cas d'une regression on utilise une activation \"linéaire\" c'est à dire on utilise pas de fonction d'activation on renvoie directement le résultat de la combinaison linéaire de la dernière couche de neurones. On utilise ici une loss approriée comme la mse ou la mae selon la distribution des valeurs et notamment des anomalies pour leur donner plus ou moins de poid.."
   ]
  },
  {
   "cell_type": "code",
   "execution_count": 5,
   "metadata": {},
   "outputs": [
    {
     "name": "stdout",
     "output_type": "stream",
     "text": [
      "Epoch 1/50\n",
      "67/67 [==============================] - 1s 5ms/step - loss: 17283.7715 - mse: 17283.7715 - val_loss: 17622.2363 - val_mse: 17622.2363\n",
      "Epoch 2/50\n",
      "67/67 [==============================] - 0s 3ms/step - loss: 16387.2734 - mse: 16387.2734 - val_loss: 16313.6318 - val_mse: 16313.6318\n",
      "Epoch 3/50\n",
      "67/67 [==============================] - 0s 2ms/step - loss: 14727.8926 - mse: 14727.8926 - val_loss: 14159.8477 - val_mse: 14159.8477\n",
      "Epoch 4/50\n",
      "67/67 [==============================] - 0s 2ms/step - loss: 12265.2920 - mse: 12265.2920 - val_loss: 11216.7344 - val_mse: 11216.7344\n",
      "Epoch 5/50\n",
      "67/67 [==============================] - 0s 2ms/step - loss: 9179.9346 - mse: 9179.9346 - val_loss: 7859.4199 - val_mse: 7859.4199\n",
      "Epoch 6/50\n",
      "67/67 [==============================] - 0s 3ms/step - loss: 5942.0479 - mse: 5942.0479 - val_loss: 4629.0483 - val_mse: 4629.0483\n",
      "Epoch 7/50\n",
      "67/67 [==============================] - 0s 3ms/step - loss: 3283.6599 - mse: 3283.6599 - val_loss: 2389.8352 - val_mse: 2389.8352\n",
      "Epoch 8/50\n",
      "67/67 [==============================] - 0s 2ms/step - loss: 1615.6670 - mse: 1615.6670 - val_loss: 1115.0990 - val_mse: 1115.0990\n",
      "Epoch 9/50\n",
      "67/67 [==============================] - 0s 3ms/step - loss: 752.1387 - mse: 752.1387 - val_loss: 531.9846 - val_mse: 531.9846\n",
      "Epoch 10/50\n",
      "67/67 [==============================] - 0s 3ms/step - loss: 444.3413 - mse: 444.3413 - val_loss: 358.0852 - val_mse: 358.0852\n",
      "Epoch 11/50\n",
      "67/67 [==============================] - 0s 2ms/step - loss: 305.9139 - mse: 305.9139 - val_loss: 243.8978 - val_mse: 243.8978\n",
      "Epoch 12/50\n",
      "67/67 [==============================] - 0s 2ms/step - loss: 198.9214 - mse: 198.9214 - val_loss: 154.6958 - val_mse: 154.6958\n",
      "Epoch 13/50\n",
      "67/67 [==============================] - 0s 3ms/step - loss: 134.9572 - mse: 134.9572 - val_loss: 112.1084 - val_mse: 112.1084\n",
      "Epoch 14/50\n",
      "67/67 [==============================] - 0s 2ms/step - loss: 99.7500 - mse: 99.7500 - val_loss: 80.0157 - val_mse: 80.0157\n",
      "Epoch 15/50\n",
      "67/67 [==============================] - 0s 3ms/step - loss: 67.2452 - mse: 67.2452 - val_loss: 51.9975 - val_mse: 51.9975\n",
      "Epoch 16/50\n",
      "67/67 [==============================] - 0s 3ms/step - loss: 39.5460 - mse: 39.5460 - val_loss: 26.1007 - val_mse: 26.1007\n",
      "Epoch 17/50\n",
      "67/67 [==============================] - 0s 3ms/step - loss: 18.4223 - mse: 18.4223 - val_loss: 9.9754 - val_mse: 9.9754\n",
      "Epoch 18/50\n",
      "67/67 [==============================] - 0s 3ms/step - loss: 5.8725 - mse: 5.8725 - val_loss: 2.2964 - val_mse: 2.2964\n",
      "Epoch 19/50\n",
      "67/67 [==============================] - 0s 3ms/step - loss: 1.5442 - mse: 1.5442 - val_loss: 0.8549 - val_mse: 0.8549\n",
      "Epoch 20/50\n",
      "67/67 [==============================] - 0s 2ms/step - loss: 0.8986 - mse: 0.8986 - val_loss: 0.9616 - val_mse: 0.9616\n",
      "Epoch 21/50\n",
      "67/67 [==============================] - 0s 2ms/step - loss: 0.6841 - mse: 0.6841 - val_loss: 0.8826 - val_mse: 0.8826\n",
      "Epoch 22/50\n",
      "67/67 [==============================] - 0s 3ms/step - loss: 0.5693 - mse: 0.5693 - val_loss: 0.3552 - val_mse: 0.3552\n",
      "Epoch 23/50\n",
      "67/67 [==============================] - 0s 3ms/step - loss: 0.5013 - mse: 0.5013 - val_loss: 0.3052 - val_mse: 0.3052\n",
      "Epoch 24/50\n",
      "67/67 [==============================] - 0s 3ms/step - loss: 0.4651 - mse: 0.4651 - val_loss: 0.3923 - val_mse: 0.3923\n",
      "Epoch 25/50\n",
      "67/67 [==============================] - 0s 2ms/step - loss: 0.4214 - mse: 0.4214 - val_loss: 0.2780 - val_mse: 0.2780\n",
      "Epoch 26/50\n",
      "67/67 [==============================] - 0s 2ms/step - loss: 0.4128 - mse: 0.4128 - val_loss: 0.3301 - val_mse: 0.3301\n",
      "Epoch 27/50\n",
      "67/67 [==============================] - 0s 3ms/step - loss: 0.3798 - mse: 0.3798 - val_loss: 0.2018 - val_mse: 0.2018\n",
      "Epoch 28/50\n",
      "67/67 [==============================] - 0s 2ms/step - loss: 0.3702 - mse: 0.3702 - val_loss: 0.5044 - val_mse: 0.5044\n",
      "Epoch 29/50\n",
      "67/67 [==============================] - 0s 3ms/step - loss: 0.3605 - mse: 0.3605 - val_loss: 0.4092 - val_mse: 0.4092\n",
      "Epoch 30/50\n",
      "67/67 [==============================] - 0s 3ms/step - loss: 0.3418 - mse: 0.3418 - val_loss: 0.2440 - val_mse: 0.2440\n",
      "Epoch 31/50\n",
      "67/67 [==============================] - 0s 3ms/step - loss: 0.3402 - mse: 0.3402 - val_loss: 0.2098 - val_mse: 0.2098\n",
      "Epoch 32/50\n",
      "67/67 [==============================] - 0s 2ms/step - loss: 0.3192 - mse: 0.3192 - val_loss: 0.4718 - val_mse: 0.4718\n",
      "Epoch 33/50\n",
      "67/67 [==============================] - 0s 2ms/step - loss: 0.3127 - mse: 0.3127 - val_loss: 0.1253 - val_mse: 0.1253\n",
      "Epoch 34/50\n",
      "67/67 [==============================] - 0s 2ms/step - loss: 0.3354 - mse: 0.3354 - val_loss: 0.1181 - val_mse: 0.1181\n",
      "Epoch 35/50\n",
      "67/67 [==============================] - 0s 3ms/step - loss: 0.2877 - mse: 0.2877 - val_loss: 0.2857 - val_mse: 0.2857\n",
      "Epoch 36/50\n",
      "67/67 [==============================] - 0s 3ms/step - loss: 0.2936 - mse: 0.2936 - val_loss: 0.1554 - val_mse: 0.1554\n",
      "Epoch 37/50\n",
      "67/67 [==============================] - 0s 3ms/step - loss: 0.3033 - mse: 0.3033 - val_loss: 0.3879 - val_mse: 0.3879\n",
      "Epoch 38/50\n",
      "67/67 [==============================] - 0s 3ms/step - loss: 0.3013 - mse: 0.3013 - val_loss: 0.2617 - val_mse: 0.2617\n",
      "Epoch 39/50\n",
      "67/67 [==============================] - 0s 3ms/step - loss: 0.2597 - mse: 0.2597 - val_loss: 0.7626 - val_mse: 0.7626\n",
      "Epoch 40/50\n",
      "67/67 [==============================] - 0s 3ms/step - loss: 0.2825 - mse: 0.2825 - val_loss: 0.3335 - val_mse: 0.3335\n",
      "Epoch 41/50\n",
      "67/67 [==============================] - 0s 3ms/step - loss: 0.2863 - mse: 0.2863 - val_loss: 0.0756 - val_mse: 0.0756\n",
      "Epoch 42/50\n",
      "67/67 [==============================] - 0s 3ms/step - loss: 0.2670 - mse: 0.2670 - val_loss: 0.3337 - val_mse: 0.3337\n",
      "Epoch 43/50\n",
      "67/67 [==============================] - 0s 2ms/step - loss: 0.2888 - mse: 0.2888 - val_loss: 0.1116 - val_mse: 0.1116\n",
      "Epoch 44/50\n",
      "67/67 [==============================] - 0s 2ms/step - loss: 0.2448 - mse: 0.2448 - val_loss: 0.2085 - val_mse: 0.2085\n",
      "Epoch 45/50\n",
      "67/67 [==============================] - 0s 2ms/step - loss: 0.2886 - mse: 0.2886 - val_loss: 0.0978 - val_mse: 0.0978\n",
      "Epoch 46/50\n",
      "67/67 [==============================] - 0s 3ms/step - loss: 0.2676 - mse: 0.2676 - val_loss: 0.1335 - val_mse: 0.1335\n",
      "Epoch 47/50\n",
      "67/67 [==============================] - 0s 2ms/step - loss: 0.2620 - mse: 0.2620 - val_loss: 0.4359 - val_mse: 0.4359\n",
      "Epoch 48/50\n",
      "67/67 [==============================] - 0s 4ms/step - loss: 0.2541 - mse: 0.2541 - val_loss: 0.1203 - val_mse: 0.1203\n",
      "Epoch 49/50\n",
      "67/67 [==============================] - 0s 3ms/step - loss: 0.2623 - mse: 0.2623 - val_loss: 0.1814 - val_mse: 0.1814\n",
      "Epoch 50/50\n",
      "67/67 [==============================] - 0s 3ms/step - loss: 0.2480 - mse: 0.2480 - val_loss: 0.3369 - val_mse: 0.3369\n"
     ]
    }
   ],
   "source": [
    "np.random.seed(0) #on confidure la random seed\n",
    "\n",
    "#on génere les matrices de features et de target\n",
    "features,target=make_regression(n_samples=10000,\n",
    "                                n_features=3,\n",
    "                                n_informative=3,\n",
    "                                n_targets=1,\n",
    "                                noise=0,\n",
    "                                random_state=0)\n",
    "\n",
    "# On divise notre matrice et nos targets en train et test\n",
    "features_train, features_test, target_train,target_test=train_test_split(features, target, test_size=0.33, random_state=0)\n",
    "\n",
    "network=models.Sequential() #start neural network\n",
    "\n",
    "network.add(layers.Dense(units=32,activation=\"relu\",input_shape=(features_train.shape[1],))) \n",
    "network.add(layers.Dense(units=32,activation=\"relu\"))\n",
    "network.add(layers.Dense(units=1))\n",
    "\n",
    "network.compile(loss=\"mse\", \n",
    "                optimizer=\"RMSprop\", \n",
    "                metrics=[\"mse\"])\n",
    "\n",
    "# train neural network\n",
    "\n",
    "history=network.fit(features_train, #set de training\n",
    "                    target_train, #label de training\n",
    "                    epochs=50, #nombre d'epoch\n",
    "                    verbose=1, #print la description a chaque epoch\n",
    "                    batch_size=100, #nombre d'observation par batch\n",
    "                    validation_data=(features_test,target_test)) #test data\n",
    "\n",
    "\n"
   ]
  },
  {
   "cell_type": "markdown",
   "metadata": {},
   "source": [
    "## IV. Visualizing training and making predictions<a class=\"anchor\" id=\"Partie4\"></a>"
   ]
  },
  {
   "cell_type": "code",
   "execution_count": 6,
   "metadata": {},
   "outputs": [
    {
     "name": "stdout",
     "output_type": "stream",
     "text": [
      "Epoch 1/30\n",
      "250/250 [==============================] - 2s 4ms/step - loss: 0.4137 - accuracy: 0.8180 - val_loss: 0.3345 - val_accuracy: 0.8578\n",
      "Epoch 2/30\n",
      "250/250 [==============================] - 1s 4ms/step - loss: 0.3244 - accuracy: 0.8631 - val_loss: 0.3332 - val_accuracy: 0.8574\n",
      "Epoch 3/30\n",
      "250/250 [==============================] - 1s 4ms/step - loss: 0.3147 - accuracy: 0.8682 - val_loss: 0.3287 - val_accuracy: 0.8595\n",
      "Epoch 4/30\n",
      "250/250 [==============================] - 1s 4ms/step - loss: 0.3069 - accuracy: 0.8707 - val_loss: 0.3361 - val_accuracy: 0.8550\n",
      "Epoch 5/30\n",
      "250/250 [==============================] - 1s 4ms/step - loss: 0.2991 - accuracy: 0.8743 - val_loss: 0.3294 - val_accuracy: 0.8578\n",
      "Epoch 6/30\n",
      "250/250 [==============================] - 1s 4ms/step - loss: 0.2892 - accuracy: 0.8771 - val_loss: 0.3247 - val_accuracy: 0.8600\n",
      "Epoch 7/30\n",
      "250/250 [==============================] - 1s 4ms/step - loss: 0.2788 - accuracy: 0.8828 - val_loss: 0.3279 - val_accuracy: 0.8580\n",
      "Epoch 8/30\n",
      "250/250 [==============================] - 1s 4ms/step - loss: 0.2679 - accuracy: 0.8887 - val_loss: 0.3337 - val_accuracy: 0.8556\n",
      "Epoch 9/30\n",
      "250/250 [==============================] - 1s 4ms/step - loss: 0.2552 - accuracy: 0.8944 - val_loss: 0.3354 - val_accuracy: 0.8557\n",
      "Epoch 10/30\n",
      "250/250 [==============================] - 1s 4ms/step - loss: 0.2428 - accuracy: 0.8998 - val_loss: 0.3515 - val_accuracy: 0.8497\n",
      "Epoch 11/30\n",
      "250/250 [==============================] - 1s 4ms/step - loss: 0.2297 - accuracy: 0.9064 - val_loss: 0.3609 - val_accuracy: 0.8516\n",
      "Epoch 12/30\n",
      "250/250 [==============================] - 1s 4ms/step - loss: 0.2163 - accuracy: 0.9130 - val_loss: 0.3702 - val_accuracy: 0.8475\n",
      "Epoch 13/30\n",
      "250/250 [==============================] - 1s 4ms/step - loss: 0.2042 - accuracy: 0.9200 - val_loss: 0.3830 - val_accuracy: 0.8457\n",
      "Epoch 14/30\n",
      "250/250 [==============================] - 1s 4ms/step - loss: 0.1916 - accuracy: 0.9274 - val_loss: 0.4029 - val_accuracy: 0.8449\n",
      "Epoch 15/30\n",
      "250/250 [==============================] - 1s 4ms/step - loss: 0.1780 - accuracy: 0.9325 - val_loss: 0.4352 - val_accuracy: 0.8385\n",
      "Epoch 16/30\n",
      "250/250 [==============================] - 1s 4ms/step - loss: 0.1661 - accuracy: 0.9382 - val_loss: 0.4552 - val_accuracy: 0.8419\n",
      "Epoch 17/30\n",
      "250/250 [==============================] - 1s 4ms/step - loss: 0.1542 - accuracy: 0.9439 - val_loss: 0.4723 - val_accuracy: 0.8418\n",
      "Epoch 18/30\n",
      "250/250 [==============================] - 1s 4ms/step - loss: 0.1422 - accuracy: 0.9484 - val_loss: 0.4940 - val_accuracy: 0.8383\n",
      "Epoch 19/30\n",
      "250/250 [==============================] - 1s 4ms/step - loss: 0.1303 - accuracy: 0.9538 - val_loss: 0.5390 - val_accuracy: 0.8377\n",
      "Epoch 20/30\n",
      "250/250 [==============================] - 1s 4ms/step - loss: 0.1209 - accuracy: 0.9574 - val_loss: 0.5527 - val_accuracy: 0.8366\n",
      "Epoch 21/30\n",
      "250/250 [==============================] - 1s 4ms/step - loss: 0.1093 - accuracy: 0.9621 - val_loss: 0.5851 - val_accuracy: 0.8313\n",
      "Epoch 22/30\n",
      "250/250 [==============================] - 1s 4ms/step - loss: 0.0992 - accuracy: 0.9673 - val_loss: 0.6277 - val_accuracy: 0.8298\n",
      "Epoch 23/30\n",
      "250/250 [==============================] - 1s 4ms/step - loss: 0.0885 - accuracy: 0.9714 - val_loss: 0.6810 - val_accuracy: 0.8298\n",
      "Epoch 24/30\n",
      "250/250 [==============================] - 1s 4ms/step - loss: 0.0803 - accuracy: 0.9745 - val_loss: 0.7191 - val_accuracy: 0.8295\n",
      "Epoch 25/30\n",
      "250/250 [==============================] - 1s 4ms/step - loss: 0.0719 - accuracy: 0.9794 - val_loss: 0.7527 - val_accuracy: 0.8276\n",
      "Epoch 26/30\n",
      "250/250 [==============================] - 1s 4ms/step - loss: 0.0645 - accuracy: 0.9812 - val_loss: 0.8045 - val_accuracy: 0.8276\n",
      "Epoch 27/30\n",
      "250/250 [==============================] - 1s 4ms/step - loss: 0.0573 - accuracy: 0.9842 - val_loss: 0.8487 - val_accuracy: 0.8244\n",
      "Epoch 28/30\n",
      "250/250 [==============================] - 1s 4ms/step - loss: 0.0510 - accuracy: 0.9864 - val_loss: 0.9325 - val_accuracy: 0.8219\n",
      "Epoch 29/30\n",
      "250/250 [==============================] - 1s 4ms/step - loss: 0.0458 - accuracy: 0.9883 - val_loss: 0.9607 - val_accuracy: 0.8256\n",
      "Epoch 30/30\n",
      "250/250 [==============================] - 1s 4ms/step - loss: 0.0400 - accuracy: 0.9902 - val_loss: 1.0190 - val_accuracy: 0.8227\n"
     ]
    }
   ],
   "source": [
    "np.random.seed(0) #on confidure la random seed\n",
    "number_of_features=1000 #nombre de features dans le set\n",
    "\n",
    "#on utilise le set movie review pour créer le set de train et test\n",
    "(data_train,target_train),(data_test,target_test)=imdb.load_data(num_words=number_of_features) \n",
    "\n",
    "#On convertit les data movie review en one-hot feature matrice encodée\n",
    "# dans les observation on ne garde que les 1000 mots les plus féquents des data set\n",
    "# en encodant les obersavtion en one hot vecteur de longeur 1000\n",
    "tokenizer=Tokenizer(num_words=number_of_features) \n",
    "features_train=tokenizer.sequences_to_matrix(data_train,mode=\"binary\")\n",
    "features_test=tokenizer.sequences_to_matrix(data_test,mode=\"binary\")\n",
    "\n",
    "network=models.Sequential() #start neural network\n",
    "\n",
    "network.add(layers.Dense(units=16,activation=\"relu\",input_shape=(number_of_features,))) \n",
    "network.add(layers.Dense(units=16,activation=\"relu\"))\n",
    "network.add(layers.Dense(units=1,activation=\"sigmoid\")) \n",
    "\n",
    "network.compile(loss=\"binary_crossentropy\", \n",
    "                optimizer=\"rmsprop\", \n",
    "                metrics=[\"accuracy\"])\n",
    "\n",
    "# train neural network\n",
    "\n",
    "history=network.fit(features_train, #set de training\n",
    "                    target_train, #label de training\n",
    "                    epochs=30, #nombre d'epoch\n",
    "                    verbose=1, #print la description a chaque epoch\n",
    "                    batch_size=100, #nombre d'observation par batch\n",
    "                    validation_data=(features_test,target_test)) #test data\n",
    "\n"
   ]
  },
  {
   "cell_type": "markdown",
   "metadata": {},
   "source": [
    "### IV.1. Visualizing training<a class=\"anchor\" id=\"Partie4.1\"></a>"
   ]
  },
  {
   "cell_type": "markdown",
   "metadata": {},
   "source": [
    "Pendant l'entrainement du resueau de neurones les 2 erreurs de test et de train vont diminuer. Mais à un certain point le réseau va sur-apprendre le set de train et se se \"rémorer\" celui-ci. C'est alors que l'on voit une divergence de croissance entre l'erreur de training et celle de test.  Il faut donc arreter l'entrainement avant cet instant là pour avoir une erreur de validation minmale."
   ]
  },
  {
   "cell_type": "code",
   "execution_count": 7,
   "metadata": {},
   "outputs": [
    {
     "data": {
      "image/png": "[encoded data removed]",
      "text/plain": [
       "<Figure size 432x288 with 1 Axes>"
      ]
     },
     "metadata": {
      "needs_background": "light"
     },
     "output_type": "display_data"
    }
   ],
   "source": [
    "# on recupère la loss de training et de validation et le nombre d'epoch\n",
    "training_loss=history.history[\"loss\"]\n",
    "test_loss=history.history[\"val_loss\"]\n",
    "epoch_count=range(1,len(training_loss)+1)\n",
    "\n",
    "# visualisation de la loss\n",
    "plt.plot(epoch_count[:15],training_loss[:15],\"r--\")\n",
    "plt.plot(epoch_count[:15],test_loss[:15],\"b-\")\n",
    "plt.legend([\"training\",\"test\"])\n",
    "plt.xlabel(\"epoch\")\n",
    "plt.ylabel(\"loss\")\n",
    "plt.show()"
   ]
  },
  {
   "cell_type": "code",
   "execution_count": 8,
   "metadata": {},
   "outputs": [
    {
     "data": {
      "image/png": "[encoded data removed]",
      "text/plain": [
       "<Figure size 432x288 with 1 Axes>"
      ]
     },
     "metadata": {
      "needs_background": "light"
     },
     "output_type": "display_data"
    }
   ],
   "source": [
    "training_acc=history.history[\"accuracy\"]\n",
    "test_acc=history.history[\"val_accuracy\"]\n",
    "\n",
    "# visualisation de l'accuracy\n",
    "plt.plot(epoch_count[:15],training_acc[:15],\"r--\")\n",
    "plt.plot(epoch_count[:15],test_acc[:15],\"b-\")\n",
    "plt.legend([\"training\",\"test\"])\n",
    "plt.xlabel(\"epoch\")\n",
    "plt.ylabel(\"mse\")\n",
    "plt.show()"
   ]
  },
  {
   "cell_type": "markdown",
   "metadata": {},
   "source": [
    "### IV.2. Making predictions<a class=\"anchor\" id=\"Partie4.2\"></a>"
   ]
  },
  {
   "cell_type": "markdown",
   "metadata": {},
   "source": [
    "Une fois le réseau entrainé on utilise la fonction predict pour prédire de nouvelle valeur avec le reseau. si le reseau prédit l'issu d'une classification binaire (notre cas) le résultat est la probabilité d'obtenir 1. Si c'est une multiclassification on a alors la probabilité de toutes les classes et on peut obtenir la classe avec la probabilité maximum en utilisant la fonction argmax. Enfin si c'est une régression on va avoir la valeur réelle prédite."
   ]
  },
  {
   "cell_type": "code",
   "execution_count": 9,
   "metadata": {},
   "outputs": [
    {
     "data": {
      "text/plain": [
       "array([0.9999884], dtype=float32)"
      ]
     },
     "execution_count": 9,
     "metadata": {},
     "output_type": "execute_result"
    }
   ],
   "source": [
    "predicted_target=network.predict(features_test)\n",
    "predicted_target[4]"
   ]
  },
  {
   "cell_type": "markdown",
   "metadata": {},
   "source": [
    "## V. Reduce overfitting<a class=\"anchor\" id=\"Partie5\"></a>"
   ]
  },
  {
   "cell_type": "markdown",
   "metadata": {},
   "source": [
    "### V.1. With weight regularization<a class=\"anchor\" id=\"Partie5.1\"></a>"
   ]
  },
  {
   "cell_type": "markdown",
   "metadata": {},
   "source": [
    "Ici on va réentrainer un classifieur binaire en utilisant une régularisation en \"pénalisant\" les paramètres (ie les poids les neurones) de sorte à ce qu'ils soient forcés à être des petites valeurs (ce qui conduit à un modèle plus simple et donc moins susceptible d'overfit). On force les poids à être plus petit car lors du calcul du gradient on ne va plus seulement soustraire le learning rate * dloss mais on va également soustraire 2 * lambda * w \n",
    "\n",
    "Cette méthode s'appelle le Weight Decay/Regularization. Cela consiste à rajouter à la loss la norme L2 des poids à chaque couche (ie la somme de chaque poid au carré pour chaque couche de neurones) multiplié par un coefficient (ici 0.01)."
   ]
  },
  {
   "cell_type": "code",
   "execution_count": 10,
   "metadata": {},
   "outputs": [
    {
     "name": "stdout",
     "output_type": "stream",
     "text": [
      "Epoch 1/30\n",
      "250/250 [==============================] - 2s 4ms/step - loss: 0.6458 - accuracy: 0.7991 - val_loss: 0.5006 - val_accuracy: 0.8435\n",
      "Epoch 2/30\n",
      "250/250 [==============================] - 1s 4ms/step - loss: 0.4638 - accuracy: 0.8535 - val_loss: 0.4596 - val_accuracy: 0.8484\n",
      "Epoch 3/30\n",
      "250/250 [==============================] - 1s 4ms/step - loss: 0.4379 - accuracy: 0.8542 - val_loss: 0.4520 - val_accuracy: 0.8426\n",
      "Epoch 4/30\n",
      "250/250 [==============================] - 1s 4ms/step - loss: 0.4214 - accuracy: 0.8586 - val_loss: 0.4395 - val_accuracy: 0.8438\n",
      "Epoch 5/30\n",
      "250/250 [==============================] - 1s 4ms/step - loss: 0.4116 - accuracy: 0.8568 - val_loss: 0.4235 - val_accuracy: 0.8484\n",
      "Epoch 6/30\n",
      "250/250 [==============================] - 1s 4ms/step - loss: 0.4055 - accuracy: 0.8604 - val_loss: 0.4373 - val_accuracy: 0.8380\n",
      "Epoch 7/30\n",
      "250/250 [==============================] - 1s 4ms/step - loss: 0.3978 - accuracy: 0.8616 - val_loss: 0.3960 - val_accuracy: 0.8593\n",
      "Epoch 8/30\n",
      "250/250 [==============================] - 1s 4ms/step - loss: 0.3917 - accuracy: 0.8623 - val_loss: 0.3908 - val_accuracy: 0.8606\n",
      "Epoch 9/30\n",
      "250/250 [==============================] - 1s 4ms/step - loss: 0.3861 - accuracy: 0.8619 - val_loss: 0.3897 - val_accuracy: 0.8594\n",
      "Epoch 10/30\n",
      "250/250 [==============================] - 1s 4ms/step - loss: 0.3802 - accuracy: 0.8640 - val_loss: 0.3818 - val_accuracy: 0.8606\n",
      "Epoch 11/30\n",
      "250/250 [==============================] - 1s 4ms/step - loss: 0.3749 - accuracy: 0.8633 - val_loss: 0.3794 - val_accuracy: 0.8598\n",
      "Epoch 12/30\n",
      "250/250 [==============================] - 1s 4ms/step - loss: 0.3716 - accuracy: 0.8665 - val_loss: 0.3813 - val_accuracy: 0.8582\n",
      "Epoch 13/30\n",
      "250/250 [==============================] - 1s 4ms/step - loss: 0.3696 - accuracy: 0.8655 - val_loss: 0.3793 - val_accuracy: 0.8577\n",
      "Epoch 14/30\n",
      "250/250 [==============================] - 1s 4ms/step - loss: 0.3673 - accuracy: 0.8650 - val_loss: 0.3768 - val_accuracy: 0.8584\n",
      "Epoch 15/30\n",
      "250/250 [==============================] - 1s 4ms/step - loss: 0.3655 - accuracy: 0.8653 - val_loss: 0.3728 - val_accuracy: 0.8598\n",
      "Epoch 16/30\n",
      "250/250 [==============================] - 1s 4ms/step - loss: 0.3624 - accuracy: 0.8664 - val_loss: 0.3809 - val_accuracy: 0.8544\n",
      "Epoch 17/30\n",
      "250/250 [==============================] - 1s 4ms/step - loss: 0.3613 - accuracy: 0.8675 - val_loss: 0.3767 - val_accuracy: 0.8572\n",
      "Epoch 18/30\n",
      "250/250 [==============================] - 1s 4ms/step - loss: 0.3587 - accuracy: 0.8687 - val_loss: 0.3714 - val_accuracy: 0.8596\n",
      "Epoch 19/30\n",
      "250/250 [==============================] - 1s 4ms/step - loss: 0.3587 - accuracy: 0.8669 - val_loss: 0.3706 - val_accuracy: 0.8595\n",
      "Epoch 20/30\n",
      "250/250 [==============================] - 1s 4ms/step - loss: 0.3567 - accuracy: 0.8678 - val_loss: 0.3694 - val_accuracy: 0.8603\n",
      "Epoch 21/30\n",
      "250/250 [==============================] - 1s 4ms/step - loss: 0.3561 - accuracy: 0.8693 - val_loss: 0.3682 - val_accuracy: 0.8620\n",
      "Epoch 22/30\n",
      "250/250 [==============================] - 1s 4ms/step - loss: 0.3534 - accuracy: 0.8694 - val_loss: 0.3741 - val_accuracy: 0.8556\n",
      "Epoch 23/30\n",
      "250/250 [==============================] - 1s 4ms/step - loss: 0.3528 - accuracy: 0.8711 - val_loss: 0.3703 - val_accuracy: 0.8595\n",
      "Epoch 24/30\n",
      "250/250 [==============================] - 1s 4ms/step - loss: 0.3513 - accuracy: 0.8714 - val_loss: 0.3719 - val_accuracy: 0.8592\n",
      "Epoch 25/30\n",
      "250/250 [==============================] - 1s 4ms/step - loss: 0.3500 - accuracy: 0.8711 - val_loss: 0.3686 - val_accuracy: 0.8608\n",
      "Epoch 26/30\n",
      "250/250 [==============================] - 1s 4ms/step - loss: 0.3492 - accuracy: 0.8713 - val_loss: 0.3755 - val_accuracy: 0.8563\n",
      "Epoch 27/30\n",
      "250/250 [==============================] - 1s 4ms/step - loss: 0.3473 - accuracy: 0.8711 - val_loss: 0.3709 - val_accuracy: 0.8598\n",
      "Epoch 28/30\n",
      "250/250 [==============================] - 1s 4ms/step - loss: 0.3461 - accuracy: 0.8730 - val_loss: 0.3708 - val_accuracy: 0.8598\n",
      "Epoch 29/30\n",
      "250/250 [==============================] - 1s 4ms/step - loss: 0.3453 - accuracy: 0.8736 - val_loss: 0.3955 - val_accuracy: 0.8463\n",
      "Epoch 30/30\n",
      "250/250 [==============================] - 1s 5ms/step - loss: 0.3440 - accuracy: 0.8729 - val_loss: 0.3874 - val_accuracy: 0.8528\n"
     ]
    }
   ],
   "source": [
    "np.random.seed(0) #on confidure la random seed\n",
    "number_of_features=1000 #nombre de features dans le set\n",
    "\n",
    "#on utilise le set movie review pour créer le set de train et test\n",
    "(data_train,target_train),(data_test,target_test)=imdb.load_data(num_words=number_of_features) \n",
    "\n",
    "#On convertit les data movie review en one-hot feature matrice encodée\n",
    "# dans les observation on ne garde que les 1000 mots les plus féquents des data set\n",
    "# en encodant les obersavtion en one hot vecteur de longeur 1000\n",
    "tokenizer=Tokenizer(num_words=number_of_features) \n",
    "features_train=tokenizer.sequences_to_matrix(data_train,mode=\"binary\")\n",
    "features_test=tokenizer.sequences_to_matrix(data_test,mode=\"binary\")\n",
    "\n",
    "network=models.Sequential() #start neural network\n",
    "\n",
    "network.add(layers.Dense(units=16,activation=\"relu\",kernel_regularizer=regularizers.l2(0.01),input_shape=(number_of_features,))) \n",
    "network.add(layers.Dense(units=16,activation=\"relu\",kernel_regularizer=regularizers.l2(0.01)))\n",
    "network.add(layers.Dense(units=1,activation=\"sigmoid\")) \n",
    "\n",
    "network.compile(loss=\"binary_crossentropy\", \n",
    "                optimizer=\"rmsprop\", \n",
    "                metrics=[\"accuracy\"])\n",
    "\n",
    "# train neural network\n",
    "\n",
    "history=network.fit(features_train, #set de training\n",
    "                    target_train, #label de training\n",
    "                    epochs=30, #nombre d'epoch\n",
    "                    verbose=1, #print la description a chaque epoch\n",
    "                    batch_size=100, #nombre d'observation par batch\n",
    "                    validation_data=(features_test,target_test)) #test data\n",
    "\n"
   ]
  },
  {
   "cell_type": "markdown",
   "metadata": {},
   "source": [
    "### V.2. With early stopping<a class=\"anchor\" id=\"Partie5.2\"></a>"
   ]
  },
  {
   "cell_type": "markdown",
   "metadata": {},
   "source": [
    "On va maintenant réduire l'overfitting en arrêtant l'entraînement lorsque la loss du set de test arrête de décroître cela est appelé le: early stopping. De même on va réentrainer un classifieur binaire.\n",
    "\n",
    "En effet au bout d'un certain nombre d'epoch le réseau va \"mémoriser\" le set de train donc l'érreur sur le train va continuer à décroître mais celle de test va augmenter c'est pourquoi une des meilleurs méthodes est d'arreter l'entraînement du réseau quand l'erreur de test commence à augmenter. On utilise donc les callbacks qui vont être des fonctions qui vont s'appliquer à la fin de chaque epoch. Ici on applique early stopping et avec le paramètre patience au bout de 2 epochs où la loss de test a augmenter l'entraînement s'arrète. On doit rajouter SaveMyCheckpoint comme fonction callback pour bien enregistrer le meilleur modèle et donc pas le modèle après les 2 epochs où la loss de test va augmenter."
   ]
  },
  {
   "cell_type": "code",
   "execution_count": 11,
   "metadata": {},
   "outputs": [
    {
     "name": "stdout",
     "output_type": "stream",
     "text": [
      "Epoch 1/30\n",
      "250/250 [==============================] - 2s 6ms/step - loss: 0.4306 - accuracy: 0.8121 - val_loss: 0.3492 - val_accuracy: 0.8520\n",
      "Epoch 2/30\n",
      "250/250 [==============================] - 1s 5ms/step - loss: 0.3244 - accuracy: 0.8662 - val_loss: 0.3267 - val_accuracy: 0.8625\n",
      "Epoch 3/30\n",
      "250/250 [==============================] - 1s 4ms/step - loss: 0.3146 - accuracy: 0.8703 - val_loss: 0.3486 - val_accuracy: 0.8513\n",
      "Epoch 4/30\n",
      "250/250 [==============================] - 1s 5ms/step - loss: 0.3077 - accuracy: 0.8719 - val_loss: 0.3257 - val_accuracy: 0.8605\n",
      "Epoch 5/30\n",
      "250/250 [==============================] - 1s 5ms/step - loss: 0.2993 - accuracy: 0.8754 - val_loss: 0.3252 - val_accuracy: 0.8594\n",
      "Epoch 6/30\n",
      "250/250 [==============================] - 1s 5ms/step - loss: 0.2906 - accuracy: 0.8777 - val_loss: 0.3302 - val_accuracy: 0.8576\n",
      "Epoch 7/30\n",
      "250/250 [==============================] - 1s 5ms/step - loss: 0.2823 - accuracy: 0.8813 - val_loss: 0.3285 - val_accuracy: 0.8601\n"
     ]
    }
   ],
   "source": [
    "np.random.seed(0) #on confidure la random seed\n",
    "number_of_features=1000 #nombre de features dans le set\n",
    "\n",
    "#on utilise le set movie review pour créer le set de train et test\n",
    "(data_train,target_train),(data_test,target_test)=imdb.load_data(num_words=number_of_features) \n",
    "\n",
    "#On convertit les data movie review en one-hot feature matrice encodée\n",
    "# dans les observation on ne garde que les 1000 mots les plus féquents des data set\n",
    "# en encodant les obersavtion en one hot vecteur de longeur 1000\n",
    "tokenizer=Tokenizer(num_words=number_of_features) \n",
    "features_train=tokenizer.sequences_to_matrix(data_train,mode=\"binary\")\n",
    "features_test=tokenizer.sequences_to_matrix(data_test,mode=\"binary\")\n",
    "\n",
    "network=models.Sequential() #start neural network\n",
    "\n",
    "network.add(layers.Dense(units=16,activation=\"relu\",input_shape=(number_of_features,))) \n",
    "network.add(layers.Dense(units=16,activation=\"relu\"))\n",
    "network.add(layers.Dense(units=1,activation=\"sigmoid\")) \n",
    "\n",
    "network.compile(loss=\"binary_crossentropy\", \n",
    "                optimizer=\"rmsprop\", \n",
    "                metrics=[\"accuracy\"])\n",
    "\n",
    "# On fixe les fonctions de callbacks qui vont permettre le early stopping \n",
    "# (ici on arrete au bout de 2 epoch quand la loss de validation n'a pas augmenté et on sauvegarde le meilleur modèle)\n",
    "\n",
    "callbacks=[EarlyStopping(monitor=\"val_loss\",patience=2),\n",
    "            ModelCheckpoint(filepath=\"best_model.h5\",monitor=\"val_loss\",save_best_only=True)]\n",
    "\n",
    "# train neural network\n",
    "\n",
    "history=network.fit(features_train, #set de training\n",
    "                    target_train, #label de training\n",
    "                    epochs=30, #nombre d'epoch\n",
    "                    callbacks=callbacks,\n",
    "                    verbose=1, #print la description a chaque epoch\n",
    "                    batch_size=100, #nombre d'observation par batch\n",
    "                    validation_data=(features_test,target_test)) #test data\n",
    "\n"
   ]
  },
  {
   "cell_type": "markdown",
   "metadata": {},
   "source": [
    "### V.3. With dropout<a class=\"anchor\" id=\"Partie5.3\"></a>"
   ]
  },
  {
   "cell_type": "markdown",
   "metadata": {},
   "source": [
    "On va maintenant réduire l'overfitting en utilisant le DropOut. De même on va réentrainer un classifieur binaire.\n",
    "\n",
    "Le Dropout est une méthode puissante et populaire pour régularizer (ie réduire l'overfitting) un réseau de neurones. Avec cette méthode à chaque fois qu'un batch d'observation est créé pour l'entraînement du réseau, une proportion définie de unit (ie neurone) est \"dropped\" ie le poid est mis à 0. Cela veut dire que lors de notre entraînement les batchs sont entraînés sur le même réseau de neurones mais à chaque batch l'architecture est différentes étant donné que les poids mis à 0 ne sont pas systématiquement les même à chaque poid.\n",
    "\n",
    "Le Dropout est efficace car en mettant à 0 le poids de certain neurones de manière constante et aléatoire cela force les neurones à apprendre des paramètres qui peuvent performer sur une variété plus grande d'architecture. Cela signifie qu'ils sont robustes face au bruit que pourrait introduire d'autres neurones ils ne mémorisent donc plus le set de training."
   ]
  },
  {
   "cell_type": "code",
   "execution_count": 12,
   "metadata": {},
   "outputs": [
    {
     "name": "stdout",
     "output_type": "stream",
     "text": [
      "Epoch 1/30\n",
      "250/250 [==============================] - 2s 6ms/step - loss: 0.6400 - accuracy: 0.6238 - val_loss: 0.4949 - val_accuracy: 0.8158\n",
      "Epoch 2/30\n",
      "250/250 [==============================] - 1s 5ms/step - loss: 0.5129 - accuracy: 0.7630 - val_loss: 0.3847 - val_accuracy: 0.8468\n",
      "Epoch 3/30\n",
      "250/250 [==============================] - 1s 5ms/step - loss: 0.4530 - accuracy: 0.8051 - val_loss: 0.3597 - val_accuracy: 0.8497\n",
      "Epoch 4/30\n",
      "250/250 [==============================] - 1s 5ms/step - loss: 0.4317 - accuracy: 0.8198 - val_loss: 0.3464 - val_accuracy: 0.8562\n",
      "Epoch 5/30\n",
      "250/250 [==============================] - 1s 5ms/step - loss: 0.4140 - accuracy: 0.8260 - val_loss: 0.3390 - val_accuracy: 0.8575\n",
      "Epoch 6/30\n",
      "250/250 [==============================] - 1s 5ms/step - loss: 0.4101 - accuracy: 0.8273 - val_loss: 0.3366 - val_accuracy: 0.8596\n",
      "Epoch 7/30\n",
      "250/250 [==============================] - 1s 6ms/step - loss: 0.4008 - accuracy: 0.8351 - val_loss: 0.3449 - val_accuracy: 0.8540\n",
      "Epoch 8/30\n",
      "250/250 [==============================] - 1s 5ms/step - loss: 0.4030 - accuracy: 0.8301 - val_loss: 0.3379 - val_accuracy: 0.8601\n",
      "Epoch 9/30\n",
      "250/250 [==============================] - 1s 5ms/step - loss: 0.3914 - accuracy: 0.8396 - val_loss: 0.3361 - val_accuracy: 0.8581\n",
      "Epoch 10/30\n",
      "250/250 [==============================] - 1s 5ms/step - loss: 0.3945 - accuracy: 0.8360 - val_loss: 0.3319 - val_accuracy: 0.8608\n",
      "Epoch 11/30\n",
      "250/250 [==============================] - 1s 5ms/step - loss: 0.3931 - accuracy: 0.8397 - val_loss: 0.3321 - val_accuracy: 0.8608\n",
      "Epoch 12/30\n",
      "250/250 [==============================] - 1s 5ms/step - loss: 0.3986 - accuracy: 0.8373 - val_loss: 0.3388 - val_accuracy: 0.8560\n",
      "Epoch 13/30\n",
      "250/250 [==============================] - 1s 5ms/step - loss: 0.3910 - accuracy: 0.8392 - val_loss: 0.3315 - val_accuracy: 0.8576\n",
      "Epoch 14/30\n",
      "250/250 [==============================] - 1s 5ms/step - loss: 0.3889 - accuracy: 0.8385 - val_loss: 0.3301 - val_accuracy: 0.8599\n",
      "Epoch 15/30\n",
      "250/250 [==============================] - 1s 5ms/step - loss: 0.3846 - accuracy: 0.8431 - val_loss: 0.3326 - val_accuracy: 0.8591\n",
      "Epoch 16/30\n",
      "250/250 [==============================] - 1s 5ms/step - loss: 0.3869 - accuracy: 0.8409 - val_loss: 0.3320 - val_accuracy: 0.8580\n",
      "Epoch 17/30\n",
      "250/250 [==============================] - 1s 5ms/step - loss: 0.3876 - accuracy: 0.8412 - val_loss: 0.3334 - val_accuracy: 0.8586\n",
      "Epoch 18/30\n",
      "250/250 [==============================] - 1s 5ms/step - loss: 0.3806 - accuracy: 0.8442 - val_loss: 0.3318 - val_accuracy: 0.8586\n",
      "Epoch 19/30\n",
      "250/250 [==============================] - 1s 5ms/step - loss: 0.3817 - accuracy: 0.8413 - val_loss: 0.3328 - val_accuracy: 0.8600\n",
      "Epoch 20/30\n",
      "250/250 [==============================] - 1s 5ms/step - loss: 0.3833 - accuracy: 0.8429 - val_loss: 0.3364 - val_accuracy: 0.8558\n",
      "Epoch 21/30\n",
      "250/250 [==============================] - 1s 5ms/step - loss: 0.3838 - accuracy: 0.8431 - val_loss: 0.3370 - val_accuracy: 0.8582\n",
      "Epoch 22/30\n",
      "250/250 [==============================] - 1s 5ms/step - loss: 0.3791 - accuracy: 0.8445 - val_loss: 0.3343 - val_accuracy: 0.8588\n",
      "Epoch 23/30\n",
      "250/250 [==============================] - 1s 6ms/step - loss: 0.3817 - accuracy: 0.8443 - val_loss: 0.3329 - val_accuracy: 0.8599\n",
      "Epoch 24/30\n",
      "250/250 [==============================] - 1s 6ms/step - loss: 0.3757 - accuracy: 0.8464 - val_loss: 0.3334 - val_accuracy: 0.8605\n",
      "Epoch 25/30\n",
      "250/250 [==============================] - 1s 5ms/step - loss: 0.3801 - accuracy: 0.8454 - val_loss: 0.3329 - val_accuracy: 0.8594\n",
      "Epoch 26/30\n",
      "250/250 [==============================] - 1s 5ms/step - loss: 0.3792 - accuracy: 0.8470 - val_loss: 0.3340 - val_accuracy: 0.8600\n",
      "Epoch 27/30\n",
      "250/250 [==============================] - 1s 5ms/step - loss: 0.3773 - accuracy: 0.8471 - val_loss: 0.3339 - val_accuracy: 0.8592\n",
      "Epoch 28/30\n",
      "250/250 [==============================] - 1s 5ms/step - loss: 0.3774 - accuracy: 0.8477 - val_loss: 0.3357 - val_accuracy: 0.8583\n",
      "Epoch 29/30\n",
      "250/250 [==============================] - 1s 5ms/step - loss: 0.3756 - accuracy: 0.8451 - val_loss: 0.3347 - val_accuracy: 0.8596\n",
      "Epoch 30/30\n",
      "250/250 [==============================] - 2s 6ms/step - loss: 0.3786 - accuracy: 0.8444 - val_loss: 0.3360 - val_accuracy: 0.8594\n"
     ]
    }
   ],
   "source": [
    "np.random.seed(0) #on confidure la random seed\n",
    "number_of_features=1000 #nombre de features dans le set\n",
    "\n",
    "#on utilise le set movie review pour créer le set de train et test\n",
    "(data_train,target_train),(data_test,target_test)=imdb.load_data(num_words=number_of_features) \n",
    "\n",
    "#On convertit les data movie review en one-hot feature matrice encodée\n",
    "# dans les observation on ne garde que les 1000 mots les plus féquents des data set\n",
    "# en encodant les obersavtion en one hot vecteur de longeur 1000\n",
    "tokenizer=Tokenizer(num_words=number_of_features) \n",
    "features_train=tokenizer.sequences_to_matrix(data_train,mode=\"binary\")\n",
    "features_test=tokenizer.sequences_to_matrix(data_test,mode=\"binary\")\n",
    "\n",
    "network=models.Sequential() #start neural network\n",
    "\n",
    "network.add(layers.Dropout(0.2,input_shape=(number_of_features,))) # Dropout for input layer\n",
    "network.add(layers.Dense(units=16,activation=\"relu\",)) \n",
    "\n",
    "network.add(layers.Dropout(0.5))  # Dropout for hidden layer\n",
    "network.add(layers.Dense(units=16,activation=\"relu\",))\n",
    "\n",
    "network.add(layers.Dropout(0.5)) # Dropout for hidden layer\n",
    "network.add(layers.Dense(units=1,activation=\"sigmoid\")) \n",
    "\n",
    "network.compile(loss=\"binary_crossentropy\", \n",
    "                optimizer=\"rmsprop\", \n",
    "                metrics=[\"accuracy\"])\n",
    "\n",
    "# train neural network\n",
    "\n",
    "history=network.fit(features_train, #set de training\n",
    "                    target_train, #label de training\n",
    "                    epochs=30, #nombre d'epoch\n",
    "                    verbose=1, #print la description a chaque epoch\n",
    "                    batch_size=100, #nombre d'observation par batch\n",
    "                    validation_data=(features_test,target_test)) #test data\n"
   ]
  },
  {
   "cell_type": "markdown",
   "metadata": {},
   "source": [
    "## VI. k-fold cross-validation and tunning a neural network<a class=\"anchor\" id=\"Partie6\"></a>"
   ]
  },
  {
   "cell_type": "markdown",
   "metadata": {},
   "source": [
    "### VI.1. K-fold cross validation<a class=\"anchor\" id=\"Partie6.1\"></a>"
   ]
  },
  {
   "cell_type": "markdown",
   "metadata": {},
   "source": [
    "On utilise ne général assez peu la validation croisée sur les réseaux de neurones car leur entraînement sur un large set de donnée peut prendr énormément de temps donc utiliser une k-fold validation croisée va multiplier par k ce temps d'entraînement. Avec un large set de donnée on évaluera directement sur un set de test.\n",
    "\n",
    "Cependant sur un set de donnée plus restreint il est intéressant d'utiliser la validation croisée pour maximiser notre abilité à évaluer la perfroamnce d'une réseau de neurones. Pour cela on peut \"wrap\" n'importe quel réseau de neurones Keras pour utiliser les fonctionnalités sur scikit-learn (KerasClassifier ou https://github.com/adriangb/scikeras). Cela permet d'utiliser notre réseau de neurones Keras comme n'importe quel modèle scikit learn."
   ]
  },
  {
   "cell_type": "code",
   "execution_count": 13,
   "metadata": {},
   "outputs": [
    {
     "name": "stderr",
     "output_type": "stream",
     "text": [
      "<ipython-input-13-f97467753713>:29: DeprecationWarning: KerasClassifier is deprecated, use Sci-Keras (https://github.com/adriangb/scikeras) instead.\n",
      "  neural_network=KerasClassifier(build_fn=create_network,\n"
     ]
    },
    {
     "data": {
      "text/plain": [
       "array([0.51497006, 0.52852851, 0.61561561])"
      ]
     },
     "execution_count": 13,
     "metadata": {},
     "output_type": "execute_result"
    }
   ],
   "source": [
    "np.random.seed(0) #on confidure la random seed\n",
    "number_of_features=100 #nombre de features dans le set\n",
    "\n",
    "# On génère une matrice de features et de target\n",
    "features, target=make_classification(n_samples=1000,\n",
    "                                     n_features=number_of_features,\n",
    "                                     n_informative=3,\n",
    "                                     n_redundant=0,\n",
    "                                     n_classes=2,\n",
    "                                     weights=[0.5,0.5],\n",
    "                                     random_state=0)\n",
    "\n",
    "# Créons une fonction qui renvoie un réseau compilé\n",
    "def create_network():\n",
    "\n",
    "    network=models.Sequential() #start neural network\n",
    "\n",
    "    network.add(layers.Dense(units=16,activation=\"relu\",input_shape=(number_of_features,))) \n",
    "    network.add(layers.Dense(units=16,activation=\"relu\"))\n",
    "    network.add(layers.Dense(units=1,activation=\"sigmoid\")) \n",
    "\n",
    "    network.compile(loss=\"binary_crossentropy\", \n",
    "                optimizer=\"rmsprop\", \n",
    "                metrics=[\"accuracy\"])\n",
    "    \n",
    "    return network\n",
    "\n",
    "# On change le réseau keras pour qu'il soit utilisable par scikit-learn\n",
    "neural_network=KerasClassifier(build_fn=create_network,\n",
    "                               epochs=10,\n",
    "                               batch_size=100,\n",
    "                               verbose=0)\n",
    "\n",
    "# On évalue le réseau de neurones avec une cross validation a 3 folds\n",
    "cross_val_score(neural_network,features,target,cv=3)"
   ]
  },
  {
   "cell_type": "markdown",
   "metadata": {},
   "source": [
    "### VI.2. Tuning neural networks<a class=\"anchor\" id=\"Partie6.2\"></a>"
   ]
  },
  {
   "cell_type": "markdown",
   "metadata": {},
   "source": [
    "Il est très important de correctement sélectionner les hyperparamètres d'un modèle. Cependant il est important de comprendre que chercher les hyperparamètres optimaux peu prendre énormément de temps (pour un training de qlq heures la recherche peu prendre plusieur jours/semaines). Ici on utilise la recherche dans une grille par validation croisée en définissant les valeurs des hyperparamètres que l'on souhaite tester (hyperparameters).\n",
    "\n",
    "Rien que notre modèle de classification binaire ici a pris qlq minutes pour faire la recherche d'hyperparamètres."
   ]
  },
  {
   "cell_type": "code",
   "execution_count": 14,
   "metadata": {},
   "outputs": [
    {
     "name": "stderr",
     "output_type": "stream",
     "text": [
      "<ipython-input-14-175913ef4263>:29: DeprecationWarning: KerasClassifier is deprecated, use Sci-Keras (https://github.com/adriangb/scikeras) instead.\n",
      "  neural_network=KerasClassifier(build_fn=create_network,\n"
     ]
    },
    {
     "name": "stdout",
     "output_type": "stream",
     "text": [
      "WARNING:tensorflow:5 out of the last 27 calls to <function Model.make_test_function.<locals>.test_function at 0x000001F712DFB5E0> triggered tf.function retracing. Tracing is expensive and the excessive number of tracings could be due to (1) creating @tf.function repeatedly in a loop, (2) passing tensors with different shapes, (3) passing Python objects instead of tensors. For (1), please define your @tf.function outside of the loop. For (2), @tf.function has experimental_relax_shapes=True option that relaxes argument shapes that can avoid unnecessary retracing. For (3), please refer to https://www.tensorflow.org/guide/function#controlling_retracing and https://www.tensorflow.org/api_docs/python/tf/function for  more details.\n",
      "WARNING:tensorflow:6 out of the last 29 calls to <function Model.make_test_function.<locals>.test_function at 0x000001F709191DC0> triggered tf.function retracing. Tracing is expensive and the excessive number of tracings could be due to (1) creating @tf.function repeatedly in a loop, (2) passing tensors with different shapes, (3) passing Python objects instead of tensors. For (1), please define your @tf.function outside of the loop. For (2), @tf.function has experimental_relax_shapes=True option that relaxes argument shapes that can avoid unnecessary retracing. For (3), please refer to https://www.tensorflow.org/guide/function#controlling_retracing and https://www.tensorflow.org/api_docs/python/tf/function for  more details.\n"
     ]
    },
    {
     "data": {
      "text/plain": [
       "{'batch_size': 5, 'epochs': 10, 'optimizer': 'adam'}"
      ]
     },
     "execution_count": 14,
     "metadata": {},
     "output_type": "execute_result"
    }
   ],
   "source": [
    "np.random.seed(0) #on confidure la random seed\n",
    "number_of_features=100 #nombre de features dans le set\n",
    "\n",
    "# On génère une matrice de features et de target\n",
    "features, target=make_classification(n_samples=1000,\n",
    "                                     n_features=number_of_features,\n",
    "                                     n_informative=3,\n",
    "                                     n_redundant=0,\n",
    "                                     n_classes=2,\n",
    "                                     weights=[0.5,0.5],\n",
    "                                     random_state=0)\n",
    "\n",
    "# Créons une fonction qui renvoie un réseau compilé\n",
    "def create_network(optimizer=\"rmsprop\"):\n",
    "\n",
    "    network=models.Sequential() #start neural network\n",
    "\n",
    "    network.add(layers.Dense(units=16,activation=\"relu\",input_shape=(number_of_features,))) \n",
    "    network.add(layers.Dense(units=16,activation=\"relu\"))\n",
    "    network.add(layers.Dense(units=1,activation=\"sigmoid\")) \n",
    "\n",
    "    network.compile(loss=\"binary_crossentropy\", \n",
    "                optimizer=\"rmsprop\", \n",
    "                metrics=[\"accuracy\"])\n",
    "    \n",
    "    return network\n",
    "\n",
    "# On change le réseau keras pour qu'il soit utilisable par scikit-learn\n",
    "neural_network=KerasClassifier(build_fn=create_network,\n",
    "                               epochs=10,\n",
    "                               batch_size=100,\n",
    "                               verbose=0)\n",
    "\n",
    "# On crée la liste des hyperparamètres\n",
    "epochs=[5,10]\n",
    "batches=[5,10,100]\n",
    "optimizers=[\"rmsprop\",\"adam\"]\n",
    "hyperparamters=dict(optimizer=optimizers,\n",
    "                    epochs=epochs,\n",
    "                    batch_size=batches)\n",
    "\n",
    "# On crée la grille de recherche de cross validation\n",
    "grid=GridSearchCV(estimator=neural_network,param_grid=hyperparamters)\n",
    "\n",
    "# On fit la grid search\n",
    "grid_result=grid.fit(features,target)\n",
    "\n",
    "# Visualisons les résultats\n",
    "grid_result.best_params_"
   ]
  },
  {
   "cell_type": "markdown",
   "metadata": {},
   "source": [
    "## VII. Visualizing neural networks<a class=\"anchor\" id=\"Partie7\"></a>"
   ]
  },
  {
   "cell_type": "markdown",
   "metadata": {},
   "source": [
    "Il peut être intéressant de visualiser notre modèle pour être sûr de la concordance entre les input et output de 2 couches successives."
   ]
  },
  {
   "cell_type": "code",
   "execution_count": 15,
   "metadata": {},
   "outputs": [
    {
     "data": {
      "image/svg+xml": "<svg xmlns=\"http://www.w3.org/2000/svg\" xmlns:xlink=\"http://www.w3.org/1999/xlink\" width=\"311pt\" height=\"274pt\" viewBox=\"0.00 0.00 345.00 304.00\">\n<g id=\"graph0\" class=\"graph\" transform=\"scale(0.902778 0.902778) rotate(0) translate(4 300)\">\n<title>G</title>\n<polygon fill=\"white\" stroke=\"none\" points=\"-4,4 -4,-300 341,-300 341,4 -4,4\"/>\n<!-- 2160663954528 -->\n<g id=\"node1\" class=\"node\"><title>2160663954528</title>\n<polygon fill=\"none\" stroke=\"black\" points=\"0,-249.5 0,-295.5 337,-295.5 337,-249.5 0,-249.5\"/>\n<text text-anchor=\"middle\" x=\"56\" y=\"-268.8\" font-family=\"Times New Roman,serif\" font-size=\"14.00\">dense_216_input</text>\n<polyline fill=\"none\" stroke=\"black\" points=\"112,-249.5 112,-295.5 \"/>\n<text text-anchor=\"middle\" x=\"150.5\" y=\"-268.8\" font-family=\"Times New Roman,serif\" font-size=\"14.00\">InputLayer</text>\n<polyline fill=\"none\" stroke=\"black\" points=\"189,-249.5 189,-295.5 \"/>\n<text text-anchor=\"middle\" x=\"217\" y=\"-280.3\" font-family=\"Times New Roman,serif\" font-size=\"14.00\">input:</text>\n<polyline fill=\"none\" stroke=\"black\" points=\"189,-272.5 245,-272.5 \"/>\n<text text-anchor=\"middle\" x=\"217\" y=\"-257.3\" font-family=\"Times New Roman,serif\" font-size=\"14.00\">output:</text>\n<polyline fill=\"none\" stroke=\"black\" points=\"245,-249.5 245,-295.5 \"/>\n<text text-anchor=\"middle\" x=\"291\" y=\"-280.3\" font-family=\"Times New Roman,serif\" font-size=\"14.00\">[(None, 100)]</text>\n<polyline fill=\"none\" stroke=\"black\" points=\"245,-272.5 337,-272.5 \"/>\n<text text-anchor=\"middle\" x=\"291\" y=\"-257.3\" font-family=\"Times New Roman,serif\" font-size=\"14.00\">[(None, 100)]</text>\n</g>\n<!-- 2160657855200 -->\n<g id=\"node2\" class=\"node\"><title>2160657855200</title>\n<polygon fill=\"none\" stroke=\"black\" points=\"35,-166.5 35,-212.5 302,-212.5 302,-166.5 35,-166.5\"/>\n<text text-anchor=\"middle\" x=\"73.5\" y=\"-185.8\" font-family=\"Times New Roman,serif\" font-size=\"14.00\">dense_216</text>\n<polyline fill=\"none\" stroke=\"black\" points=\"112,-166.5 112,-212.5 \"/>\n<text text-anchor=\"middle\" x=\"137.5\" y=\"-185.8\" font-family=\"Times New Roman,serif\" font-size=\"14.00\">Dense</text>\n<polyline fill=\"none\" stroke=\"black\" points=\"163,-166.5 163,-212.5 \"/>\n<text text-anchor=\"middle\" x=\"191\" y=\"-197.3\" font-family=\"Times New Roman,serif\" font-size=\"14.00\">input:</text>\n<polyline fill=\"none\" stroke=\"black\" points=\"163,-189.5 219,-189.5 \"/>\n<text text-anchor=\"middle\" x=\"191\" y=\"-174.3\" font-family=\"Times New Roman,serif\" font-size=\"14.00\">output:</text>\n<polyline fill=\"none\" stroke=\"black\" points=\"219,-166.5 219,-212.5 \"/>\n<text text-anchor=\"middle\" x=\"260.5\" y=\"-197.3\" font-family=\"Times New Roman,serif\" font-size=\"14.00\">(None, 100)</text>\n<polyline fill=\"none\" stroke=\"black\" points=\"219,-189.5 302,-189.5 \"/>\n<text text-anchor=\"middle\" x=\"260.5\" y=\"-174.3\" font-family=\"Times New Roman,serif\" font-size=\"14.00\">(None, 16)</text>\n</g>\n<!-- 2160663954528&#45;&gt;2160657855200 -->\n<g id=\"edge1\" class=\"edge\"><title>2160663954528-&gt;2160657855200</title>\n<path fill=\"none\" stroke=\"black\" d=\"M168.5,-249.366C168.5,-241.152 168.5,-231.658 168.5,-222.725\"/>\n<polygon fill=\"black\" stroke=\"black\" points=\"172,-222.607 168.5,-212.607 165,-222.607 172,-222.607\"/>\n</g>\n<!-- 2160657854912 -->\n<g id=\"node3\" class=\"node\"><title>2160657854912</title>\n<polygon fill=\"none\" stroke=\"black\" points=\"38,-83.5 38,-129.5 299,-129.5 299,-83.5 38,-83.5\"/>\n<text text-anchor=\"middle\" x=\"76.5\" y=\"-102.8\" font-family=\"Times New Roman,serif\" font-size=\"14.00\">dense_217</text>\n<polyline fill=\"none\" stroke=\"black\" points=\"115,-83.5 115,-129.5 \"/>\n<text text-anchor=\"middle\" x=\"140.5\" y=\"-102.8\" font-family=\"Times New Roman,serif\" font-size=\"14.00\">Dense</text>\n<polyline fill=\"none\" stroke=\"black\" points=\"166,-83.5 166,-129.5 \"/>\n<text text-anchor=\"middle\" x=\"194\" y=\"-114.3\" font-family=\"Times New Roman,serif\" font-size=\"14.00\">input:</text>\n<polyline fill=\"none\" stroke=\"black\" points=\"166,-106.5 222,-106.5 \"/>\n<text text-anchor=\"middle\" x=\"194\" y=\"-91.3\" font-family=\"Times New Roman,serif\" font-size=\"14.00\">output:</text>\n<polyline fill=\"none\" stroke=\"black\" points=\"222,-83.5 222,-129.5 \"/>\n<text text-anchor=\"middle\" x=\"260.5\" y=\"-114.3\" font-family=\"Times New Roman,serif\" font-size=\"14.00\">(None, 16)</text>\n<polyline fill=\"none\" stroke=\"black\" points=\"222,-106.5 299,-106.5 \"/>\n<text text-anchor=\"middle\" x=\"260.5\" y=\"-91.3\" font-family=\"Times New Roman,serif\" font-size=\"14.00\">(None, 16)</text>\n</g>\n<!-- 2160657855200&#45;&gt;2160657854912 -->\n<g id=\"edge2\" class=\"edge\"><title>2160657855200-&gt;2160657854912</title>\n<path fill=\"none\" stroke=\"black\" d=\"M168.5,-166.366C168.5,-158.152 168.5,-148.658 168.5,-139.725\"/>\n<polygon fill=\"black\" stroke=\"black\" points=\"172,-139.607 168.5,-129.607 165,-139.607 172,-139.607\"/>\n</g>\n<!-- 2160657810960 -->\n<g id=\"node4\" class=\"node\"><title>2160657810960</title>\n<polygon fill=\"none\" stroke=\"black\" points=\"38,-0.5 38,-46.5 299,-46.5 299,-0.5 38,-0.5\"/>\n<text text-anchor=\"middle\" x=\"76.5\" y=\"-19.8\" font-family=\"Times New Roman,serif\" font-size=\"14.00\">dense_218</text>\n<polyline fill=\"none\" stroke=\"black\" points=\"115,-0.5 115,-46.5 \"/>\n<text text-anchor=\"middle\" x=\"140.5\" y=\"-19.8\" font-family=\"Times New Roman,serif\" font-size=\"14.00\">Dense</text>\n<polyline fill=\"none\" stroke=\"black\" points=\"166,-0.5 166,-46.5 \"/>\n<text text-anchor=\"middle\" x=\"194\" y=\"-31.3\" font-family=\"Times New Roman,serif\" font-size=\"14.00\">input:</text>\n<polyline fill=\"none\" stroke=\"black\" points=\"166,-23.5 222,-23.5 \"/>\n<text text-anchor=\"middle\" x=\"194\" y=\"-8.3\" font-family=\"Times New Roman,serif\" font-size=\"14.00\">output:</text>\n<polyline fill=\"none\" stroke=\"black\" points=\"222,-0.5 222,-46.5 \"/>\n<text text-anchor=\"middle\" x=\"260.5\" y=\"-31.3\" font-family=\"Times New Roman,serif\" font-size=\"14.00\">(None, 16)</text>\n<polyline fill=\"none\" stroke=\"black\" points=\"222,-23.5 299,-23.5 \"/>\n<text text-anchor=\"middle\" x=\"260.5\" y=\"-8.3\" font-family=\"Times New Roman,serif\" font-size=\"14.00\">(None, 1)</text>\n</g>\n<!-- 2160657854912&#45;&gt;2160657810960 -->\n<g id=\"edge3\" class=\"edge\"><title>2160657854912-&gt;2160657810960</title>\n<path fill=\"none\" stroke=\"black\" d=\"M168.5,-83.3664C168.5,-75.1516 168.5,-65.6579 168.5,-56.7252\"/>\n<polygon fill=\"black\" stroke=\"black\" points=\"172,-56.6068 168.5,-46.6068 165,-56.6069 172,-56.6068\"/>\n</g>\n</g>\n</svg>",
      "text/plain": [
       "<IPython.core.display.SVG object>"
      ]
     },
     "execution_count": 15,
     "metadata": {},
     "output_type": "execute_result"
    }
   ],
   "source": [
    "network=models.Sequential() #start neural network\n",
    "\n",
    "network.add(layers.Dense(units=16,activation=\"relu\",input_shape=(number_of_features,))) \n",
    "network.add(layers.Dense(units=16,activation=\"relu\"))\n",
    "network.add(layers.Dense(units=1,activation=\"sigmoid\")) \n",
    "\n",
    "SVG(model_to_dot(network, show_shapes=True, show_layer_names=True, dpi=65).create(prog=\"dot\",format=\"svg\"))"
   ]
  },
  {
   "cell_type": "markdown",
   "metadata": {},
   "source": [
    "## VIII. Classifying images<a class=\"anchor\" id=\"Partie8\"></a>"
   ]
  },
  {
   "cell_type": "markdown",
   "metadata": {},
   "source": [
    "### VIII.1. Image classification<a class=\"anchor\" id=\"Partie8.1\"></a>"
   ]
  },
  {
   "cell_type": "markdown",
   "metadata": {},
   "source": [
    "ConvNets sont un type de réseau très populaire qui ont prouvé leur efficacité dans la computer vision. Il serait possible d'utiliser des réseaux denses ou tous les pixels sont une features mais il y a 2 problèmes. Les réseaux denses ne prennent pas en compte la structure spatiale des pixels. De plus les réseaux denses apprenent de manières globale cela veut dire qu'un objet serait détecté sans prendre en compte sa position dans l'image.\n",
    "\n",
    "Le pouvoir des réseaux convolutionnels est donc leur habilité de gérer ces 2 problèmes. Une image a 3 dimensions, hauteur, largeur et profondeur (channels) qui représente les canaux de couleur (gris ou RGB). Une convolution peut donc être représentée par une fénètre avec un poid par pixel qui va glisser sur l'image en regardant un pixel individuel ainsi que ses voisins et en réalisant une combinaison linéaire de ces pixels selon les poids appris. La convolution va donner une nouvelle image 3D ou les 2 premières dimensions sont la largeur et la hauteur et la 3eme est le nombre de filtre \"filters\" utilisé.\n",
    "\n",
    "Le 2ème concept important ici est la pooling layer qui va permettre de réduire la dimension de l'image \"downsizing\" en faisant glisser également une fénêtre sur la nouvelle image obtenue (méthode la plus commune est le max pooling qui va prendre le pixel le plus important parmis ceux de la fenêtre). Le pooling permettre de réduire le nombre de paramètre à apprendre. \n",
    "\n",
    "Enfin les couches denses sont utilisées pour réaliser la classification.\n",
    "\n",
    "Le processus ici ets d'utiliser le MNIST dataset (handwritten digit), on va d'abord réorganiser la shape des images pour qu'elle convienne à Keras: NHWC. Ensuite on réechellone les pixels entre 0 et 1 pour ne pas avoir trop de différence entre les pixels car le modèle peut vite donner trop d'importance aux fortes valeurs de pixels. Enfin on one-hot encode les catégories.\n",
    "\n",
    "On utilise une couche de dropout pour éviter tout sur-apprentissage.\n",
    "On utilise une couche de flatten pour convertir les images convoluées en un format utilisable pour une couche dense."
   ]
  },
  {
   "cell_type": "code",
   "execution_count": 16,
   "metadata": {},
   "outputs": [
    {
     "name": "stdout",
     "output_type": "stream",
     "text": [
      "Epoch 1/5\n",
      "60/60 [==============================] - 40s 647ms/step - loss: 0.5909 - accuracy: 0.8156 - val_loss: 0.1832 - val_accuracy: 0.9456\n",
      "Epoch 2/5\n",
      "60/60 [==============================] - 38s 627ms/step - loss: 0.1977 - accuracy: 0.9416 - val_loss: 0.0857 - val_accuracy: 0.9740\n",
      "Epoch 3/5\n",
      "60/60 [==============================] - 38s 640ms/step - loss: 0.1274 - accuracy: 0.9628 - val_loss: 0.0612 - val_accuracy: 0.9810\n",
      "Epoch 4/5\n",
      "60/60 [==============================] - 37s 621ms/step - loss: 0.0987 - accuracy: 0.9716 - val_loss: 0.0505 - val_accuracy: 0.9840\n",
      "Epoch 5/5\n",
      "60/60 [==============================] - 43s 712ms/step - loss: 0.0840 - accuracy: 0.9746 - val_loss: 0.0434 - val_accuracy: 0.9858\n"
     ]
    }
   ],
   "source": [
    "from keras import backend\n",
    "backend.set_image_data_format('channels_last')\n",
    "\n",
    "np.random.seed(0)\n",
    "\n",
    "# configuration des informations\n",
    "channels=1\n",
    "height=28\n",
    "width=28\n",
    "\n",
    "# chargement et reshaping des données\n",
    "(data_train,target_train),(data_test,target_test)=mnist.load_data()\n",
    "\n",
    "data_train=data_train.reshape(data_train.shape[0],height,width,channels)\n",
    "data_test=data_test.reshape(data_test.shape[0],height,width,channels)\n",
    "\n",
    "# normalisation des pixels\n",
    "features_train=data_train/255\n",
    "features_test=data_test/255\n",
    "\n",
    "# encodage one-hot des labels\n",
    "target_train=np_utils.to_categorical(target_train)\n",
    "target_test=np_utils.to_categorical(target_test)\n",
    "number_of_classes=target_test.shape[1]\n",
    "\n",
    "# construction du réseau de neurones convolutionnels\n",
    "network=models.Sequential() \n",
    "\n",
    "# couche convolutionnelle avec 64 filtres, chaque filtre est de taille 5x5 et une fonction d'activation ReLU\n",
    "network.add(Conv2D(filters=64,\n",
    "                   kernel_size=(5,5),\n",
    "                   input_shape=(height,width,channels),\n",
    "                   activation='relu'))\n",
    "\n",
    "# couche de maxpooling avec un filtre de taille 2x2\n",
    "network.add(MaxPooling2D(pool_size=(2,2)))\n",
    "\n",
    "network.add(Dropout(0.5))\n",
    "network.add(Flatten())\n",
    "network.add(Dense(128,activation=\"relu\"))\n",
    "network.add(Dropout(0.5))\n",
    "network.add(Dense(number_of_classes,activation=\"softmax\"))\n",
    "\n",
    "network.compile(loss=\"categorical_crossentropy\", \n",
    "                optimizer=\"rmsprop\", \n",
    "                metrics=[\"accuracy\"])\n",
    "\n",
    "history=network.fit(features_train, #set de training\n",
    "                    target_train, #label de training\n",
    "                    epochs=5, #nombre d'epoch\n",
    "                    verbose=1, #print la description a chaque epoch\n",
    "                    batch_size=1000, #nombre d'observation par batch\n",
    "                    validation_data=(features_test,target_test)) #test data"
   ]
  },
  {
   "cell_type": "code",
   "execution_count": 17,
   "metadata": {},
   "outputs": [
    {
     "data": {
      "image/svg+xml": "<svg xmlns=\"http://www.w3.org/2000/svg\" xmlns:xlink=\"http://www.w3.org/1999/xlink\" width=\"350pt\" height=\"574pt\" viewBox=\"0.00 0.00 388.00 636.00\">\n<g id=\"graph0\" class=\"graph\" transform=\"scale(0.902778 0.902778) rotate(0) translate(4 632)\">\n<title>G</title>\n<polygon fill=\"white\" stroke=\"none\" points=\"-4,4 -4,-632 384,-632 384,4 -4,4\"/>\n<!-- 2162036549424 -->\n<g id=\"node1\" class=\"node\"><title>2162036549424</title>\n<polygon fill=\"none\" stroke=\"black\" points=\"16,-581.5 16,-627.5 364,-627.5 364,-581.5 16,-581.5\"/>\n<text text-anchor=\"middle\" x=\"63\" y=\"-600.8\" font-family=\"Times New Roman,serif\" font-size=\"14.00\">conv2d_input</text>\n<polyline fill=\"none\" stroke=\"black\" points=\"110,-581.5 110,-627.5 \"/>\n<text text-anchor=\"middle\" x=\"148.5\" y=\"-600.8\" font-family=\"Times New Roman,serif\" font-size=\"14.00\">InputLayer</text>\n<polyline fill=\"none\" stroke=\"black\" points=\"187,-581.5 187,-627.5 \"/>\n<text text-anchor=\"middle\" x=\"215\" y=\"-612.3\" font-family=\"Times New Roman,serif\" font-size=\"14.00\">input:</text>\n<polyline fill=\"none\" stroke=\"black\" points=\"187,-604.5 243,-604.5 \"/>\n<text text-anchor=\"middle\" x=\"215\" y=\"-589.3\" font-family=\"Times New Roman,serif\" font-size=\"14.00\">output:</text>\n<polyline fill=\"none\" stroke=\"black\" points=\"243,-581.5 243,-627.5 \"/>\n<text text-anchor=\"middle\" x=\"303.5\" y=\"-612.3\" font-family=\"Times New Roman,serif\" font-size=\"14.00\">[(None, 28, 28, 1)]</text>\n<polyline fill=\"none\" stroke=\"black\" points=\"243,-604.5 364,-604.5 \"/>\n<text text-anchor=\"middle\" x=\"303.5\" y=\"-589.3\" font-family=\"Times New Roman,serif\" font-size=\"14.00\">[(None, 28, 28, 1)]</text>\n</g>\n<!-- 2160717317216 -->\n<g id=\"node2\" class=\"node\"><title>2160717317216</title>\n<polygon fill=\"none\" stroke=\"black\" points=\"41,-498.5 41,-544.5 339,-544.5 339,-498.5 41,-498.5\"/>\n<text text-anchor=\"middle\" x=\"70.5\" y=\"-517.8\" font-family=\"Times New Roman,serif\" font-size=\"14.00\">conv2d</text>\n<polyline fill=\"none\" stroke=\"black\" points=\"100,-498.5 100,-544.5 \"/>\n<text text-anchor=\"middle\" x=\"132\" y=\"-517.8\" font-family=\"Times New Roman,serif\" font-size=\"14.00\">Conv2D</text>\n<polyline fill=\"none\" stroke=\"black\" points=\"164,-498.5 164,-544.5 \"/>\n<text text-anchor=\"middle\" x=\"192\" y=\"-529.3\" font-family=\"Times New Roman,serif\" font-size=\"14.00\">input:</text>\n<polyline fill=\"none\" stroke=\"black\" points=\"164,-521.5 220,-521.5 \"/>\n<text text-anchor=\"middle\" x=\"192\" y=\"-506.3\" font-family=\"Times New Roman,serif\" font-size=\"14.00\">output:</text>\n<polyline fill=\"none\" stroke=\"black\" points=\"220,-498.5 220,-544.5 \"/>\n<text text-anchor=\"middle\" x=\"279.5\" y=\"-529.3\" font-family=\"Times New Roman,serif\" font-size=\"14.00\">(None, 28, 28, 1)</text>\n<polyline fill=\"none\" stroke=\"black\" points=\"220,-521.5 339,-521.5 \"/>\n<text text-anchor=\"middle\" x=\"279.5\" y=\"-506.3\" font-family=\"Times New Roman,serif\" font-size=\"14.00\">(None, 24, 24, 64)</text>\n</g>\n<!-- 2162036549424&#45;&gt;2160717317216 -->\n<g id=\"edge1\" class=\"edge\"><title>2162036549424-&gt;2160717317216</title>\n<path fill=\"none\" stroke=\"black\" d=\"M190,-581.366C190,-573.152 190,-563.658 190,-554.725\"/>\n<polygon fill=\"black\" stroke=\"black\" points=\"193.5,-554.607 190,-544.607 186.5,-554.607 193.5,-554.607\"/>\n</g>\n<!-- 2160451865328 -->\n<g id=\"node3\" class=\"node\"><title>2160451865328</title>\n<polygon fill=\"none\" stroke=\"black\" points=\"0,-415.5 0,-461.5 380,-461.5 380,-415.5 0,-415.5\"/>\n<text text-anchor=\"middle\" x=\"52\" y=\"-434.8\" font-family=\"Times New Roman,serif\" font-size=\"14.00\">max_pooling2d</text>\n<polyline fill=\"none\" stroke=\"black\" points=\"104,-415.5 104,-461.5 \"/>\n<text text-anchor=\"middle\" x=\"154.5\" y=\"-434.8\" font-family=\"Times New Roman,serif\" font-size=\"14.00\">MaxPooling2D</text>\n<polyline fill=\"none\" stroke=\"black\" points=\"205,-415.5 205,-461.5 \"/>\n<text text-anchor=\"middle\" x=\"233\" y=\"-446.3\" font-family=\"Times New Roman,serif\" font-size=\"14.00\">input:</text>\n<polyline fill=\"none\" stroke=\"black\" points=\"205,-438.5 261,-438.5 \"/>\n<text text-anchor=\"middle\" x=\"233\" y=\"-423.3\" font-family=\"Times New Roman,serif\" font-size=\"14.00\">output:</text>\n<polyline fill=\"none\" stroke=\"black\" points=\"261,-415.5 261,-461.5 \"/>\n<text text-anchor=\"middle\" x=\"320.5\" y=\"-446.3\" font-family=\"Times New Roman,serif\" font-size=\"14.00\">(None, 24, 24, 64)</text>\n<polyline fill=\"none\" stroke=\"black\" points=\"261,-438.5 380,-438.5 \"/>\n<text text-anchor=\"middle\" x=\"320.5\" y=\"-423.3\" font-family=\"Times New Roman,serif\" font-size=\"14.00\">(None, 12, 12, 64)</text>\n</g>\n<!-- 2160717317216&#45;&gt;2160451865328 -->\n<g id=\"edge2\" class=\"edge\"><title>2160717317216-&gt;2160451865328</title>\n<path fill=\"none\" stroke=\"black\" d=\"M190,-498.366C190,-490.152 190,-480.658 190,-471.725\"/>\n<polygon fill=\"black\" stroke=\"black\" points=\"193.5,-471.607 190,-461.607 186.5,-471.607 193.5,-471.607\"/>\n</g>\n<!-- 2160663954720 -->\n<g id=\"node4\" class=\"node\"><title>2160663954720</title>\n<polygon fill=\"none\" stroke=\"black\" points=\"32.5,-332.5 32.5,-378.5 347.5,-378.5 347.5,-332.5 32.5,-332.5\"/>\n<text text-anchor=\"middle\" x=\"70.5\" y=\"-351.8\" font-family=\"Times New Roman,serif\" font-size=\"14.00\">dropout_3</text>\n<polyline fill=\"none\" stroke=\"black\" points=\"108.5,-332.5 108.5,-378.5 \"/>\n<text text-anchor=\"middle\" x=\"140.5\" y=\"-351.8\" font-family=\"Times New Roman,serif\" font-size=\"14.00\">Dropout</text>\n<polyline fill=\"none\" stroke=\"black\" points=\"172.5,-332.5 172.5,-378.5 \"/>\n<text text-anchor=\"middle\" x=\"200.5\" y=\"-363.3\" font-family=\"Times New Roman,serif\" font-size=\"14.00\">input:</text>\n<polyline fill=\"none\" stroke=\"black\" points=\"172.5,-355.5 228.5,-355.5 \"/>\n<text text-anchor=\"middle\" x=\"200.5\" y=\"-340.3\" font-family=\"Times New Roman,serif\" font-size=\"14.00\">output:</text>\n<polyline fill=\"none\" stroke=\"black\" points=\"228.5,-332.5 228.5,-378.5 \"/>\n<text text-anchor=\"middle\" x=\"288\" y=\"-363.3\" font-family=\"Times New Roman,serif\" font-size=\"14.00\">(None, 12, 12, 64)</text>\n<polyline fill=\"none\" stroke=\"black\" points=\"228.5,-355.5 347.5,-355.5 \"/>\n<text text-anchor=\"middle\" x=\"288\" y=\"-340.3\" font-family=\"Times New Roman,serif\" font-size=\"14.00\">(None, 12, 12, 64)</text>\n</g>\n<!-- 2160451865328&#45;&gt;2160663954720 -->\n<g id=\"edge3\" class=\"edge\"><title>2160451865328-&gt;2160663954720</title>\n<path fill=\"none\" stroke=\"black\" d=\"M190,-415.366C190,-407.152 190,-397.658 190,-388.725\"/>\n<polygon fill=\"black\" stroke=\"black\" points=\"193.5,-388.607 190,-378.607 186.5,-388.607 193.5,-388.607\"/>\n</g>\n<!-- 2160451863504 -->\n<g id=\"node5\" class=\"node\"><title>2160451863504</title>\n<polygon fill=\"none\" stroke=\"black\" points=\"50.5,-249.5 50.5,-295.5 329.5,-295.5 329.5,-249.5 50.5,-249.5\"/>\n<text text-anchor=\"middle\" x=\"75.5\" y=\"-268.8\" font-family=\"Times New Roman,serif\" font-size=\"14.00\">flatten</text>\n<polyline fill=\"none\" stroke=\"black\" points=\"100.5,-249.5 100.5,-295.5 \"/>\n<text text-anchor=\"middle\" x=\"127.5\" y=\"-268.8\" font-family=\"Times New Roman,serif\" font-size=\"14.00\">Flatten</text>\n<polyline fill=\"none\" stroke=\"black\" points=\"154.5,-249.5 154.5,-295.5 \"/>\n<text text-anchor=\"middle\" x=\"182.5\" y=\"-280.3\" font-family=\"Times New Roman,serif\" font-size=\"14.00\">input:</text>\n<polyline fill=\"none\" stroke=\"black\" points=\"154.5,-272.5 210.5,-272.5 \"/>\n<text text-anchor=\"middle\" x=\"182.5\" y=\"-257.3\" font-family=\"Times New Roman,serif\" font-size=\"14.00\">output:</text>\n<polyline fill=\"none\" stroke=\"black\" points=\"210.5,-249.5 210.5,-295.5 \"/>\n<text text-anchor=\"middle\" x=\"270\" y=\"-280.3\" font-family=\"Times New Roman,serif\" font-size=\"14.00\">(None, 12, 12, 64)</text>\n<polyline fill=\"none\" stroke=\"black\" points=\"210.5,-272.5 329.5,-272.5 \"/>\n<text text-anchor=\"middle\" x=\"270\" y=\"-257.3\" font-family=\"Times New Roman,serif\" font-size=\"14.00\">(None, 9216)</text>\n</g>\n<!-- 2160663954720&#45;&gt;2160451863504 -->\n<g id=\"edge4\" class=\"edge\"><title>2160663954720-&gt;2160451863504</title>\n<path fill=\"none\" stroke=\"black\" d=\"M190,-332.366C190,-324.152 190,-314.658 190,-305.725\"/>\n<polygon fill=\"black\" stroke=\"black\" points=\"193.5,-305.607 190,-295.607 186.5,-305.607 193.5,-305.607\"/>\n</g>\n<!-- 2160661632672 -->\n<g id=\"node6\" class=\"node\"><title>2160661632672</title>\n<polygon fill=\"none\" stroke=\"black\" points=\"53,-166.5 53,-212.5 327,-212.5 327,-166.5 53,-166.5\"/>\n<text text-anchor=\"middle\" x=\"91.5\" y=\"-185.8\" font-family=\"Times New Roman,serif\" font-size=\"14.00\">dense_219</text>\n<polyline fill=\"none\" stroke=\"black\" points=\"130,-166.5 130,-212.5 \"/>\n<text text-anchor=\"middle\" x=\"155.5\" y=\"-185.8\" font-family=\"Times New Roman,serif\" font-size=\"14.00\">Dense</text>\n<polyline fill=\"none\" stroke=\"black\" points=\"181,-166.5 181,-212.5 \"/>\n<text text-anchor=\"middle\" x=\"209\" y=\"-197.3\" font-family=\"Times New Roman,serif\" font-size=\"14.00\">input:</text>\n<polyline fill=\"none\" stroke=\"black\" points=\"181,-189.5 237,-189.5 \"/>\n<text text-anchor=\"middle\" x=\"209\" y=\"-174.3\" font-family=\"Times New Roman,serif\" font-size=\"14.00\">output:</text>\n<polyline fill=\"none\" stroke=\"black\" points=\"237,-166.5 237,-212.5 \"/>\n<text text-anchor=\"middle\" x=\"282\" y=\"-197.3\" font-family=\"Times New Roman,serif\" font-size=\"14.00\">(None, 9216)</text>\n<polyline fill=\"none\" stroke=\"black\" points=\"237,-189.5 327,-189.5 \"/>\n<text text-anchor=\"middle\" x=\"282\" y=\"-174.3\" font-family=\"Times New Roman,serif\" font-size=\"14.00\">(None, 128)</text>\n</g>\n<!-- 2160451863504&#45;&gt;2160661632672 -->\n<g id=\"edge5\" class=\"edge\"><title>2160451863504-&gt;2160661632672</title>\n<path fill=\"none\" stroke=\"black\" d=\"M190,-249.366C190,-241.152 190,-231.658 190,-222.725\"/>\n<polygon fill=\"black\" stroke=\"black\" points=\"193.5,-222.607 190,-212.607 186.5,-222.607 193.5,-222.607\"/>\n</g>\n<!-- 2160661632960 -->\n<g id=\"node7\" class=\"node\"><title>2160661632960</title>\n<polygon fill=\"none\" stroke=\"black\" points=\"50.5,-83.5 50.5,-129.5 329.5,-129.5 329.5,-83.5 50.5,-83.5\"/>\n<text text-anchor=\"middle\" x=\"88.5\" y=\"-102.8\" font-family=\"Times New Roman,serif\" font-size=\"14.00\">dropout_4</text>\n<polyline fill=\"none\" stroke=\"black\" points=\"126.5,-83.5 126.5,-129.5 \"/>\n<text text-anchor=\"middle\" x=\"158.5\" y=\"-102.8\" font-family=\"Times New Roman,serif\" font-size=\"14.00\">Dropout</text>\n<polyline fill=\"none\" stroke=\"black\" points=\"190.5,-83.5 190.5,-129.5 \"/>\n<text text-anchor=\"middle\" x=\"218.5\" y=\"-114.3\" font-family=\"Times New Roman,serif\" font-size=\"14.00\">input:</text>\n<polyline fill=\"none\" stroke=\"black\" points=\"190.5,-106.5 246.5,-106.5 \"/>\n<text text-anchor=\"middle\" x=\"218.5\" y=\"-91.3\" font-family=\"Times New Roman,serif\" font-size=\"14.00\">output:</text>\n<polyline fill=\"none\" stroke=\"black\" points=\"246.5,-83.5 246.5,-129.5 \"/>\n<text text-anchor=\"middle\" x=\"288\" y=\"-114.3\" font-family=\"Times New Roman,serif\" font-size=\"14.00\">(None, 128)</text>\n<polyline fill=\"none\" stroke=\"black\" points=\"246.5,-106.5 329.5,-106.5 \"/>\n<text text-anchor=\"middle\" x=\"288\" y=\"-91.3\" font-family=\"Times New Roman,serif\" font-size=\"14.00\">(None, 128)</text>\n</g>\n<!-- 2160661632672&#45;&gt;2160661632960 -->\n<g id=\"edge6\" class=\"edge\"><title>2160661632672-&gt;2160661632960</title>\n<path fill=\"none\" stroke=\"black\" d=\"M190,-166.366C190,-158.152 190,-148.658 190,-139.725\"/>\n<polygon fill=\"black\" stroke=\"black\" points=\"193.5,-139.607 190,-129.607 186.5,-139.607 193.5,-139.607\"/>\n</g>\n<!-- 2160418525968 -->\n<g id=\"node8\" class=\"node\"><title>2160418525968</title>\n<polygon fill=\"none\" stroke=\"black\" points=\"56.5,-0.5 56.5,-46.5 323.5,-46.5 323.5,-0.5 56.5,-0.5\"/>\n<text text-anchor=\"middle\" x=\"95\" y=\"-19.8\" font-family=\"Times New Roman,serif\" font-size=\"14.00\">dense_220</text>\n<polyline fill=\"none\" stroke=\"black\" points=\"133.5,-0.5 133.5,-46.5 \"/>\n<text text-anchor=\"middle\" x=\"159\" y=\"-19.8\" font-family=\"Times New Roman,serif\" font-size=\"14.00\">Dense</text>\n<polyline fill=\"none\" stroke=\"black\" points=\"184.5,-0.5 184.5,-46.5 \"/>\n<text text-anchor=\"middle\" x=\"212.5\" y=\"-31.3\" font-family=\"Times New Roman,serif\" font-size=\"14.00\">input:</text>\n<polyline fill=\"none\" stroke=\"black\" points=\"184.5,-23.5 240.5,-23.5 \"/>\n<text text-anchor=\"middle\" x=\"212.5\" y=\"-8.3\" font-family=\"Times New Roman,serif\" font-size=\"14.00\">output:</text>\n<polyline fill=\"none\" stroke=\"black\" points=\"240.5,-0.5 240.5,-46.5 \"/>\n<text text-anchor=\"middle\" x=\"282\" y=\"-31.3\" font-family=\"Times New Roman,serif\" font-size=\"14.00\">(None, 128)</text>\n<polyline fill=\"none\" stroke=\"black\" points=\"240.5,-23.5 323.5,-23.5 \"/>\n<text text-anchor=\"middle\" x=\"282\" y=\"-8.3\" font-family=\"Times New Roman,serif\" font-size=\"14.00\">(None, 10)</text>\n</g>\n<!-- 2160661632960&#45;&gt;2160418525968 -->\n<g id=\"edge7\" class=\"edge\"><title>2160661632960-&gt;2160418525968</title>\n<path fill=\"none\" stroke=\"black\" d=\"M190,-83.3664C190,-75.1516 190,-65.6579 190,-56.7252\"/>\n<polygon fill=\"black\" stroke=\"black\" points=\"193.5,-56.6068 190,-46.6068 186.5,-56.6069 193.5,-56.6068\"/>\n</g>\n</g>\n</svg>",
      "text/plain": [
       "<IPython.core.display.SVG object>"
      ]
     },
     "execution_count": 17,
     "metadata": {},
     "output_type": "execute_result"
    }
   ],
   "source": [
    "\n",
    "SVG(model_to_dot(network, show_shapes=True, show_layer_names=True, dpi=65).create(prog=\"dot\",format=\"svg\"))"
   ]
  },
  {
   "cell_type": "markdown",
   "metadata": {},
   "source": [
    "### VIII.2. Improving performance with image augmentation<a class=\"anchor\" id=\"Partie8.2\"></a>"
   ]
  },
  {
   "cell_type": "markdown",
   "metadata": {},
   "source": [
    "Pour améliorer la performance d'un réseau convolutionnel est de pre-process les images. ImageDataGenerator permet de faire les opérations de bases de standardisation. L'autre méthode est d'ajouter du bruit à l'image en effet cela va rendre le réseau de neurones plus robuste au bruit introduit dans des vrais images et empêche donc le sur-apprentissage sur le set de train. L'ajout de bruit se fait en transformant de manière aléatoire les images en entrée: rotation, zoom, inversion etc... ici flow_from_directory renvoie un generator il faut donc utiliser fit_generator pour entraîner notre réseau sur ces images."
   ]
  },
  {
   "cell_type": "code",
   "execution_count": 18,
   "metadata": {},
   "outputs": [
    {
     "name": "stdout",
     "output_type": "stream",
     "text": [
      "Found 0 images belonging to 0 classes.\n"
     ]
    }
   ],
   "source": [
    "# On crée  l'image augmentation\n",
    "augmentation = ImageDataGenerator(featurewise_center=True, # ZCA whitening\n",
    "                                  zoom_range=0.3, # randomly zoom on image\n",
    "                                  width_shift_range=0.2, # randomly shift image\n",
    "                                  horizontal_flip=True, # randomly flip image\n",
    "                                  rotation_range=90) # randomly rotate\n",
    "\n",
    "augment_images=augmentation.flow_from_directory(\"raw/images\",\n",
    "                                                batch_size=32,\n",
    "                                                class_mode=\"binary\",\n",
    "                                                save_to_dir=\"processed/images\")\n",
    "\n",
    "\n",
    "# history=network.fit_generator(augment_images, #set de training\n",
    "#                     steps_per_epoch=2000, #label de training\n",
    "#                     epochs=5, #nombre d'epoch\n",
    "#                     verbose=1, #print la description a chaque epoch\n",
    "#                     batch_size=1000, #nombre d'observation par batch\n",
    "#                     validation_data=augment_images_test,\n",
    "#                     validation_steps=8000) #test data\n"
   ]
  },
  {
   "cell_type": "markdown",
   "metadata": {},
   "source": [
    "## IX. Classifying text<a class=\"anchor\" id=\"Partie9\"></a>"
   ]
  },
  {
   "cell_type": "markdown",
   "metadata": {},
   "source": [
    "Concernant de la classification de text les réseaux récurrents sont les plus intéressants. En effet l'élément clé de ces réseaux est qu'il y a une \"mémoire\" pour la gestion de donnée séquentielle comme des phrases. Le type populaire des réseaux récurrents est LSTM (Long Short Term Memory). Ici on revient sur les movie review pour prédire si ces reviews sont négatives ou positives.\n",
    "\n",
    "On va ici utiliser Layers.Embedding pour obtenir un vecteur propre à chaque mot et ne pas utiliser un one-hot vecteur par mot qui donnerait de moins bons résultats."
   ]
  },
  {
   "cell_type": "code",
   "execution_count": 19,
   "metadata": {},
   "outputs": [
    {
     "name": "stdout",
     "output_type": "stream",
     "text": [
      "Epoch 1/3\n",
      "25/25 [==============================] - 418s 16s/step - loss: 0.6988 - accuracy: 0.5999 - val_loss: 0.6551 - val_accuracy: 0.6341\n",
      "Epoch 2/3\n",
      "25/25 [==============================] - 387s 16s/step - loss: 0.6167 - accuracy: 0.7020 - val_loss: 0.4754 - val_accuracy: 0.7899\n",
      "Epoch 3/3\n",
      "25/25 [==============================] - 527s 21s/step - loss: 0.4971 - accuracy: 0.7695 - val_loss: 0.5763 - val_accuracy: 0.6796\n"
     ]
    }
   ],
   "source": [
    "np.random.seed(0) #on confidure la random seed\n",
    "number_of_features=1000 #nombre de features dans le set (ie nombre de mot)\n",
    "\n",
    "# on utilise le set movie review pour créer le set de train et test afin d'avoir le même nombre de feature par review\n",
    "(data_train,target_train),(data_test,target_test)=imdb.load_data(num_words=number_of_features) \n",
    "\n",
    "# on tronque les observations à 400 features \n",
    "features_train=sequence.pad_sequences(data_train,maxlen=400)\n",
    "features_test=sequence.pad_sequences(data_test,maxlen=400)\n",
    "\n",
    "network=models.Sequential() #start neural network\n",
    "\n",
    "network.add(layers.Embedding(input_dim=number_of_features, output_dim=128)) # embedding layer\n",
    "\n",
    "network.add(layers.LSTM(units=128)) # LSTM with 128 units\n",
    "\n",
    "network.add(layers.Dense(units=1,activation=\"sigmoid\")) \n",
    "\n",
    "network.compile(loss=\"binary_crossentropy\", \n",
    "                optimizer=\"rmsprop\", \n",
    "                metrics=[\"accuracy\"])\n",
    "\n",
    "# train neural network\n",
    "\n",
    "history=network.fit(features_train, #set de training\n",
    "                    target_train, #label de training\n",
    "                    epochs=1, #nombre d'epoch\n",
    "                    verbose=1, #print la description a chaque epoch\n",
    "                    batch_size=1000, #nombre d'observation par batch\n",
    "                    validation_data=(features_test,target_test)) #test data"
   ]
  },
  {
   "cell_type": "code",
   "execution_count": 20,
   "metadata": {},
   "outputs": [
    {
     "data": {
      "image/svg+xml": "<svg xmlns=\"http://www.w3.org/2000/svg\" xmlns:xlink=\"http://www.w3.org/1999/xlink\" width=\"321pt\" height=\"274pt\" viewBox=\"0.00 0.00 356.00 304.00\">\n<g id=\"graph0\" class=\"graph\" transform=\"scale(0.902778 0.902778) rotate(0) translate(4 300)\">\n<title>G</title>\n<polygon fill=\"white\" stroke=\"none\" points=\"-4,4 -4,-300 352,-300 352,4 -4,4\"/>\n<!-- 2160918986608 -->\n<g id=\"node1\" class=\"node\"><title>2160918986608</title>\n<polygon fill=\"none\" stroke=\"black\" points=\"0,-249.5 0,-295.5 348,-295.5 348,-249.5 0,-249.5\"/>\n<text text-anchor=\"middle\" x=\"56.5\" y=\"-268.8\" font-family=\"Times New Roman,serif\" font-size=\"14.00\">embedding_input</text>\n<polyline fill=\"none\" stroke=\"black\" points=\"113,-249.5 113,-295.5 \"/>\n<text text-anchor=\"middle\" x=\"151.5\" y=\"-268.8\" font-family=\"Times New Roman,serif\" font-size=\"14.00\">InputLayer</text>\n<polyline fill=\"none\" stroke=\"black\" points=\"190,-249.5 190,-295.5 \"/>\n<text text-anchor=\"middle\" x=\"218\" y=\"-280.3\" font-family=\"Times New Roman,serif\" font-size=\"14.00\">input:</text>\n<polyline fill=\"none\" stroke=\"black\" points=\"190,-272.5 246,-272.5 \"/>\n<text text-anchor=\"middle\" x=\"218\" y=\"-257.3\" font-family=\"Times New Roman,serif\" font-size=\"14.00\">output:</text>\n<polyline fill=\"none\" stroke=\"black\" points=\"246,-249.5 246,-295.5 \"/>\n<text text-anchor=\"middle\" x=\"297\" y=\"-280.3\" font-family=\"Times New Roman,serif\" font-size=\"14.00\">[(None, None)]</text>\n<polyline fill=\"none\" stroke=\"black\" points=\"246,-272.5 348,-272.5 \"/>\n<text text-anchor=\"middle\" x=\"297\" y=\"-257.3\" font-family=\"Times New Roman,serif\" font-size=\"14.00\">[(None, None)]</text>\n</g>\n<!-- 2160681012336 -->\n<g id=\"node2\" class=\"node\"><title>2160681012336</title>\n<polygon fill=\"none\" stroke=\"black\" points=\"6.5,-166.5 6.5,-212.5 341.5,-212.5 341.5,-166.5 6.5,-166.5\"/>\n<text text-anchor=\"middle\" x=\"45.5\" y=\"-185.8\" font-family=\"Times New Roman,serif\" font-size=\"14.00\">embedding</text>\n<polyline fill=\"none\" stroke=\"black\" points=\"84.5,-166.5 84.5,-212.5 \"/>\n<text text-anchor=\"middle\" x=\"124.5\" y=\"-185.8\" font-family=\"Times New Roman,serif\" font-size=\"14.00\">Embedding</text>\n<polyline fill=\"none\" stroke=\"black\" points=\"164.5,-166.5 164.5,-212.5 \"/>\n<text text-anchor=\"middle\" x=\"192.5\" y=\"-197.3\" font-family=\"Times New Roman,serif\" font-size=\"14.00\">input:</text>\n<polyline fill=\"none\" stroke=\"black\" points=\"164.5,-189.5 220.5,-189.5 \"/>\n<text text-anchor=\"middle\" x=\"192.5\" y=\"-174.3\" font-family=\"Times New Roman,serif\" font-size=\"14.00\">output:</text>\n<polyline fill=\"none\" stroke=\"black\" points=\"220.5,-166.5 220.5,-212.5 \"/>\n<text text-anchor=\"middle\" x=\"281\" y=\"-197.3\" font-family=\"Times New Roman,serif\" font-size=\"14.00\">(None, None)</text>\n<polyline fill=\"none\" stroke=\"black\" points=\"220.5,-189.5 341.5,-189.5 \"/>\n<text text-anchor=\"middle\" x=\"281\" y=\"-174.3\" font-family=\"Times New Roman,serif\" font-size=\"14.00\">(None, None, 128)</text>\n</g>\n<!-- 2160918986608&#45;&gt;2160681012336 -->\n<g id=\"edge1\" class=\"edge\"><title>2160918986608-&gt;2160681012336</title>\n<path fill=\"none\" stroke=\"black\" d=\"M174,-249.366C174,-241.152 174,-231.658 174,-222.725\"/>\n<polygon fill=\"black\" stroke=\"black\" points=\"177.5,-222.607 174,-212.607 170.5,-222.607 177.5,-222.607\"/>\n</g>\n<!-- 2160918985360 -->\n<g id=\"node3\" class=\"node\"><title>2160918985360</title>\n<polygon fill=\"none\" stroke=\"black\" points=\"38.5,-83.5 38.5,-129.5 309.5,-129.5 309.5,-83.5 38.5,-83.5\"/>\n<text text-anchor=\"middle\" x=\"58.5\" y=\"-102.8\" font-family=\"Times New Roman,serif\" font-size=\"14.00\">lstm</text>\n<polyline fill=\"none\" stroke=\"black\" points=\"78.5,-83.5 78.5,-129.5 \"/>\n<text text-anchor=\"middle\" x=\"105.5\" y=\"-102.8\" font-family=\"Times New Roman,serif\" font-size=\"14.00\">LSTM</text>\n<polyline fill=\"none\" stroke=\"black\" points=\"132.5,-83.5 132.5,-129.5 \"/>\n<text text-anchor=\"middle\" x=\"160.5\" y=\"-114.3\" font-family=\"Times New Roman,serif\" font-size=\"14.00\">input:</text>\n<polyline fill=\"none\" stroke=\"black\" points=\"132.5,-106.5 188.5,-106.5 \"/>\n<text text-anchor=\"middle\" x=\"160.5\" y=\"-91.3\" font-family=\"Times New Roman,serif\" font-size=\"14.00\">output:</text>\n<polyline fill=\"none\" stroke=\"black\" points=\"188.5,-83.5 188.5,-129.5 \"/>\n<text text-anchor=\"middle\" x=\"249\" y=\"-114.3\" font-family=\"Times New Roman,serif\" font-size=\"14.00\">(None, None, 128)</text>\n<polyline fill=\"none\" stroke=\"black\" points=\"188.5,-106.5 309.5,-106.5 \"/>\n<text text-anchor=\"middle\" x=\"249\" y=\"-91.3\" font-family=\"Times New Roman,serif\" font-size=\"14.00\">(None, 128)</text>\n</g>\n<!-- 2160681012336&#45;&gt;2160918985360 -->\n<g id=\"edge2\" class=\"edge\"><title>2160681012336-&gt;2160918985360</title>\n<path fill=\"none\" stroke=\"black\" d=\"M174,-166.366C174,-158.152 174,-148.658 174,-139.725\"/>\n<polygon fill=\"black\" stroke=\"black\" points=\"177.5,-139.607 174,-129.607 170.5,-139.607 177.5,-139.607\"/>\n</g>\n<!-- 2160918986080 -->\n<g id=\"node4\" class=\"node\"><title>2160918986080</title>\n<polygon fill=\"none\" stroke=\"black\" points=\"40.5,-0.5 40.5,-46.5 307.5,-46.5 307.5,-0.5 40.5,-0.5\"/>\n<text text-anchor=\"middle\" x=\"79\" y=\"-19.8\" font-family=\"Times New Roman,serif\" font-size=\"14.00\">dense_221</text>\n<polyline fill=\"none\" stroke=\"black\" points=\"117.5,-0.5 117.5,-46.5 \"/>\n<text text-anchor=\"middle\" x=\"143\" y=\"-19.8\" font-family=\"Times New Roman,serif\" font-size=\"14.00\">Dense</text>\n<polyline fill=\"none\" stroke=\"black\" points=\"168.5,-0.5 168.5,-46.5 \"/>\n<text text-anchor=\"middle\" x=\"196.5\" y=\"-31.3\" font-family=\"Times New Roman,serif\" font-size=\"14.00\">input:</text>\n<polyline fill=\"none\" stroke=\"black\" points=\"168.5,-23.5 224.5,-23.5 \"/>\n<text text-anchor=\"middle\" x=\"196.5\" y=\"-8.3\" font-family=\"Times New Roman,serif\" font-size=\"14.00\">output:</text>\n<polyline fill=\"none\" stroke=\"black\" points=\"224.5,-0.5 224.5,-46.5 \"/>\n<text text-anchor=\"middle\" x=\"266\" y=\"-31.3\" font-family=\"Times New Roman,serif\" font-size=\"14.00\">(None, 128)</text>\n<polyline fill=\"none\" stroke=\"black\" points=\"224.5,-23.5 307.5,-23.5 \"/>\n<text text-anchor=\"middle\" x=\"266\" y=\"-8.3\" font-family=\"Times New Roman,serif\" font-size=\"14.00\">(None, 1)</text>\n</g>\n<!-- 2160918985360&#45;&gt;2160918986080 -->\n<g id=\"edge3\" class=\"edge\"><title>2160918985360-&gt;2160918986080</title>\n<path fill=\"none\" stroke=\"black\" d=\"M174,-83.3664C174,-75.1516 174,-65.6579 174,-56.7252\"/>\n<polygon fill=\"black\" stroke=\"black\" points=\"177.5,-56.6068 174,-46.6068 170.5,-56.6069 177.5,-56.6068\"/>\n</g>\n</g>\n</svg>",
      "text/plain": [
       "<IPython.core.display.SVG object>"
      ]
     },
     "execution_count": 20,
     "metadata": {},
     "output_type": "execute_result"
    }
   ],
   "source": [
    "SVG(model_to_dot(network, show_shapes=True, show_layer_names=True, dpi=65).create(prog=\"dot\",format=\"svg\"))"
   ]
  },
  {
   "cell_type": "markdown",
   "metadata": {},
   "source": [
    "## X. Saving & loading a model<a class=\"anchor\" id=\"Partie10\"></a>"
   ]
  },
  {
   "cell_type": "code",
   "execution_count": 22,
   "metadata": {},
   "outputs": [],
   "source": [
    "network.save(\"model_embedding_review.h5\")"
   ]
  },
  {
   "cell_type": "code",
   "execution_count": 23,
   "metadata": {},
   "outputs": [],
   "source": [
    "new_network=load_model(\"model_embedding_review.h5\")"
   ]
  }
 ],
 "metadata": {
  "interpreter": {
   "hash": "facb5e61a4394193cb0f4fe6a1e15649a9df4920ef6ba80a21095838ac15af6e"
  },
  "kernelspec": {
   "display_name": "Python 3.8.5 64-bit ('base': conda)",
   "language": "python",
   "name": "python3"
  },
  "language_info": {
   "codemirror_mode": {
    "name": "ipython",
    "version": 3
   },
   "file_extension": ".py",
   "mimetype": "text/x-python",
   "name": "python",
   "nbconvert_exporter": "python",
   "pygments_lexer": "ipython3",
   "version": "3.8.5"
  },
  "orig_nbformat": 4
 },
 "nbformat": 4,
 "nbformat_minor": 2
}
