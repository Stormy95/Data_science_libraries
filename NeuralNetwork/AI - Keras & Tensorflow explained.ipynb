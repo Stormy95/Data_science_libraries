{
  "cells": [
    {
      "cell_type": "markdown",
      "metadata": {
        "id": "BuAujh62Lmkw"
      },
      "source": [
        "# AI - Keras & Tensorflow explained"
      ]
    },
    {
      "cell_type": "markdown",
      "metadata": {
        "id": "HXtxzZ8-LH4R"
      },
      "source": [
        "# Sommaire\n",
        "\n",
        "[I. TensforFlow](#Partie1)\n",
        "\n",
        "[II. Keras](#Partie2)\n"
      ]
    },
    {
      "cell_type": "markdown",
      "metadata": {
        "id": "nB65axHPKyOS"
      },
      "source": [
        "## I. TensorFlow <a class=\"anchor\" id=\"Partie1\"></a>\n",
        "\n"
      ]
    },
    {
      "cell_type": "markdown",
      "metadata": {},
      "source": [
        "Production-oriented and capable of handling different computational architectures (CPUs, GPUs, and now TPUs), TensorFlow is a framework for any kind of computation that requires high performance and easy distribution. It excels at deep learning, making it possible to create everything from shallow networks (neural networks made of a few layers) to complex deep networks for image recognition and natural language processing."
      ]
    },
    {
      "cell_type": "markdown",
      "metadata": {},
      "source": [
        "In TensorFlow, we have to set up the data, input variables, and model structure before we can tell the program to train and tune its weights to improve predictions. TensorFlow accomplishes this through computational graphs. These computational graphs are directed graphs with no recursion, which allows for computational parallelism\n",
        "\n",
        "To do this, we need to create a loss function for TensorFlow to minimize. TensorFlow accomplishes this by modifying the variables in the computational graph. TensorFlow knows how to modify the variables because it keeps track of the computations in the model and automatically computes the variable gradients (how to change each variable) to minimize the loss. Because of this, we can see how easy it can be to make changes and try different data sources."
      ]
    },
    {
      "cell_type": "markdown",
      "metadata": {},
      "source": [
        "A tensor is a mathematical term that refers to generalized vectors or matrices. If vectors are one-dimensional and matrices are two-dimensional, a tensor is n-dimensional (where n could be 1, 2, or even larger)."
      ]
    },
    {
      "cell_type": "markdown",
      "metadata": {
        "id": "44psnZfcLaOH"
      },
      "source": [
        "## II. Keras <a class=\"anchor\" id=\"Partie2\"></a>"
      ]
    },
    {
      "cell_type": "markdown",
      "metadata": {},
      "source": [
        "Keras, a high-level neural network API written in Python with multiple backends. TensorFlow is one of them."
      ]
    },
    {
      "cell_type": "markdown",
      "metadata": {},
      "source": [
        "The TensorFlow Keras APIs are the same as the Keras API. However, the implementation of Keras in its TensorFlow version of the backend has been optimized for TensorFlow."
      ]
    },
    {
      "cell_type": "markdown",
      "metadata": {},
      "source": [
        "The layers are the building blocks of the models. Keras offers a wide range of building layers and useful methods to know more about what's happening and get inside the models.\n",
        "\n",
        "With Keras, we can build models in three ways: with the Sequential, the Functional, or the Subclassing API. We'll later see that only the last two APIs allow access to the layers"
      ]
    }
  ],
  "metadata": {
    "colab": {
      "name": "AI - Keras & Tensorflow explained.ipynb",
      "provenance": []
    },
    "kernelspec": {
      "display_name": "Python 3",
      "name": "python3"
    },
    "language_info": {
      "name": "python"
    }
  },
  "nbformat": 4,
  "nbformat_minor": 0
}
