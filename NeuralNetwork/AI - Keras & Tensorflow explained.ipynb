{
  "cells": [
    {
      "cell_type": "markdown",
      "metadata": {
        "id": "BuAujh62Lmkw"
      },
      "source": [
        "# AI - Keras & Tensorflow explained"
      ]
    },
    {
      "cell_type": "markdown",
      "metadata": {},
      "source": [
        "# Import"
      ]
    },
    {
      "cell_type": "code",
      "execution_count": null,
      "metadata": {},
      "outputs": [],
      "source": []
    },
    {
      "cell_type": "markdown",
      "metadata": {
        "id": "HXtxzZ8-LH4R"
      },
      "source": [
        "# Sommaire\n",
        "\n",
        "[I. TensforFlow](#Partie1)\n",
        "\n",
        "[II. Keras](#Partie2)\n"
      ]
    },
    {
      "cell_type": "markdown",
      "metadata": {
        "id": "nB65axHPKyOS"
      },
      "source": [
        "## I. TensorFlow <a class=\"anchor\" id=\"Partie1\"></a>\n",
        "\n"
      ]
    },
    {
      "cell_type": "markdown",
      "metadata": {
        "id": "44psnZfcLaOH"
      },
      "source": [
        "## II. Keras <a class=\"anchor\" id=\"Partie2\"></a>"
      ]
    }
  ],
  "metadata": {
    "colab": {
      "name": "AI - Keras & Tensorflow explained.ipynb",
      "provenance": []
    },
    "kernelspec": {
      "display_name": "Python 3",
      "name": "python3"
    },
    "language_info": {
      "name": "python"
    }
  },
  "nbformat": 4,
  "nbformat_minor": 0
}
