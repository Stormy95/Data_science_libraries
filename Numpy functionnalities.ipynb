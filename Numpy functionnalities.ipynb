{
 "cells": [
  {
   "cell_type": "markdown",
   "metadata": {},
   "source": [
    "# Numpy functionnalities"
   ]
  },
  {
   "cell_type": "markdown",
   "metadata": {},
   "source": [
    "# Import"
   ]
  },
  {
   "cell_type": "code",
   "execution_count": 97,
   "metadata": {},
   "outputs": [],
   "source": [
    "import  numpy as np\n",
    "from sklearn import datasets"
   ]
  },
  {
   "cell_type": "markdown",
   "metadata": {},
   "source": [
    "# Sommaire\n",
    "\n",
    "[I. Vecteur, matrice et array](#Partie1)\n",
    "- [I.1. Création, séléction, description d'élément](#Partie1.1) \n",
    "- [I.2. Apprentissage et évaluation de modèles](#Partie1.2) \n",
    "- [I.3. Produit et calcul matriciel](#Partie1.3) \n",
    "- [I.4. Création de valeur aléatoire](#Partie1.4) "
   ]
  },
  {
   "cell_type": "markdown",
   "metadata": {},
   "source": [
    "## I. Vecteur, matrice et array <a class=\"anchor\" id=\"Partie1\"></a>"
   ]
  },
  {
   "cell_type": "markdown",
   "metadata": {},
   "source": [
    "### I.1. Création, séléction, description et reconfiguration d'élément <a class=\"anchor\" id=\"Partie1.1\"></a>"
   ]
  },
  {
   "cell_type": "code",
   "execution_count": 98,
   "metadata": {},
   "outputs": [],
   "source": [
    "vector_row=np.array([1,2,3])\n",
    "vector_col=np.array([[1],[2],[3]])"
   ]
  },
  {
   "cell_type": "code",
   "execution_count": 99,
   "metadata": {},
   "outputs": [],
   "source": [
    "matrix=np.array([[1,2,3],[4,5,6],[7,8,9],[7,8,9]])"
   ]
  },
  {
   "cell_type": "markdown",
   "metadata": {},
   "source": [
    "Gestion comme une liste"
   ]
  },
  {
   "cell_type": "code",
   "execution_count": 100,
   "metadata": {},
   "outputs": [
    {
     "name": "stdout",
     "output_type": "stream",
     "text": [
      "5 3 1\n"
     ]
    }
   ],
   "source": [
    "print(matrix[1,1], vector_row[2], vector_col[0][0])"
   ]
  },
  {
   "cell_type": "code",
   "execution_count": 101,
   "metadata": {},
   "outputs": [
    {
     "name": "stdout",
     "output_type": "stream",
     "text": [
      "[[1 2 3 4 5 6 7 8 9 7 8 9]]\n",
      "[[1 2 3 4 5 6]\n",
      " [7 8 9 7 8 9]]\n",
      "[[1 2 3 4 5 6]\n",
      " [7 8 9 7 8 9]]\n"
     ]
    }
   ],
   "source": [
    "print(matrix.reshape(1,12))\n",
    "print(matrix.reshape(2,6))\n",
    "print(matrix.reshape(2,-1)) #-1 permet de ne pas avoir préciser le nombre en question"
   ]
  },
  {
   "cell_type": "code",
   "execution_count": 102,
   "metadata": {},
   "outputs": [
    {
     "name": "stdout",
     "output_type": "stream",
     "text": [
      "(4, 3) 12 2\n"
     ]
    }
   ],
   "source": [
    "print(matrix.shape, matrix.size, matrix.ndim)"
   ]
  },
  {
   "cell_type": "markdown",
   "metadata": {},
   "source": [
    "### I.2. Calcul d'attribut statistique de base <a class=\"anchor\" id=\"Partie1.2\"></a>"
   ]
  },
  {
   "cell_type": "markdown",
   "metadata": {},
   "source": [
    "maximum et minimum d'une matrice <br>\n",
    "Ligne maximum et colonne minimum d'une matrice <br>\n",
    "Calcul de la moyenne, variance et écart-type dans la matrice (possible par ligne et colonne egalement)"
   ]
  },
  {
   "cell_type": "code",
   "execution_count": 103,
   "metadata": {},
   "outputs": [
    {
     "name": "stdout",
     "output_type": "stream",
     "text": [
      "9 1\n",
      "[7 8 9] [1 4 7 7]\n",
      "5.75 6.854166666666667 2.6180463454008347\n"
     ]
    }
   ],
   "source": [
    "print(np.max(matrix),np.min(matrix))\n",
    "print(np.max(matrix,axis=0),np.min(matrix,axis=1))\n",
    "print(np.mean(matrix),np.var(matrix),np.std(matrix))"
   ]
  },
  {
   "cell_type": "markdown",
   "metadata": {},
   "source": [
    "### I.3. Produit et calcul matriciel <a class=\"anchor\" id=\"Partie1.3\"></a>"
   ]
  },
  {
   "cell_type": "code",
   "execution_count": 104,
   "metadata": {},
   "outputs": [
    {
     "data": {
      "text/plain": [
       "array([[1, 4, 7, 7],\n",
       "       [2, 5, 8, 8],\n",
       "       [3, 6, 9, 9]])"
      ]
     },
     "execution_count": 104,
     "metadata": {},
     "output_type": "execute_result"
    }
   ],
   "source": [
    "matrix.T #renvoie la transposée de matrix"
   ]
  },
  {
   "cell_type": "code",
   "execution_count": 105,
   "metadata": {},
   "outputs": [
    {
     "data": {
      "text/plain": [
       "array([[1, 2, 3]])"
      ]
     },
     "execution_count": 105,
     "metadata": {},
     "output_type": "execute_result"
    }
   ],
   "source": [
    "vector_col.T #permet de trasnformer un vecteur colonne en ligne et vice versa"
   ]
  },
  {
   "cell_type": "code",
   "execution_count": 106,
   "metadata": {},
   "outputs": [
    {
     "name": "stdout",
     "output_type": "stream",
     "text": [
      "14\n",
      "14\n"
     ]
    }
   ],
   "source": [
    "print(np.dot(vector_row,vector_row)) #produit entre 2 vecteurs(ou matrice) donne la combinaison linéaire de chaque terme\n",
    "print(vector_row @ vector_row)"
   ]
  },
  {
   "cell_type": "code",
   "execution_count": 107,
   "metadata": {},
   "outputs": [
    {
     "name": "stdout",
     "output_type": "stream",
     "text": [
      "[[ 2  4  6]\n",
      " [ 8 10 12]\n",
      " [14 16 18]\n",
      " [14 16 18]]\n",
      "[[0 0 0]\n",
      " [0 0 0]\n",
      " [0 0 0]\n",
      " [0 0 0]]\n"
     ]
    }
   ],
   "source": [
    "print(matrix + matrix)\n",
    "print(matrix - matrix)"
   ]
  },
  {
   "cell_type": "markdown",
   "metadata": {},
   "source": [
    "### I.4. Création de valeur aléatoire <a class=\"anchor\" id=\"Partie1.4\"></a>"
   ]
  },
  {
   "cell_type": "code",
   "execution_count": 108,
   "metadata": {},
   "outputs": [],
   "source": [
    "np.random.seed(0) #Permet d'avoir systématiquement les même nombres aléatoires à travers le notebook"
   ]
  },
  {
   "cell_type": "code",
   "execution_count": 109,
   "metadata": {},
   "outputs": [
    {
     "name": "stdout",
     "output_type": "stream",
     "text": [
      "[0.5488135  0.71518937 0.60276338 0.54488318 0.4236548 ]\n",
      "[5 2 4 7 6]\n",
      "[-0.05503512 -0.10731045  1.36546718 -0.09769572 -2.42595457]\n",
      "[ 1.62933678 -0.67491949  0.61101311 -0.53976806  3.10638027]\n",
      "[1.4035078  8.70087258 4.73608045 8.00910752 5.2047748 ]\n"
     ]
    }
   ],
   "source": [
    "print(np.random.random(5)) # Entre 0 et 1\n",
    "print(np.random.randint(0,15,5)) # Des nombres entiers entre 0 et 15\n",
    "print(np.random.normal(0,1,5)) # Des nombres d'une distribution normale de moyenne 0 et écart-type de 1\n",
    "print(np.random.logistic(0,1,5)) # Des nombres d'une distribution logistique de moyenne 0 et écart-type de 1\n",
    "print(np.random.uniform(0,10,5)) # Des nombres plus grand que 0 et plus petit que 10"
   ]
  }
 ],
 "metadata": {
  "kernelspec": {
   "display_name": "Python 3",
   "language": "python",
   "name": "python3"
  },
  "language_info": {
   "codemirror_mode": {
    "name": "ipython",
    "version": 3
   },
   "file_extension": ".py",
   "mimetype": "text/x-python",
   "name": "python",
   "nbconvert_exporter": "python",
   "pygments_lexer": "ipython3",
   "version": "3.8.5"
  }
 },
 "nbformat": 4,
 "nbformat_minor": 4
}
