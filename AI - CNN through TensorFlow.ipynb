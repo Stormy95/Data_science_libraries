{
 "cells": [
  {
   "cell_type": "markdown",
   "metadata": {},
   "source": [
    "# AI - CNN through TensorFlow"
   ]
  },
  {
   "cell_type": "markdown",
   "metadata": {},
   "source": [
    "# Import"
   ]
  },
  {
   "cell_type": "code",
   "execution_count": null,
   "metadata": {},
   "outputs": [],
   "source": []
  },
  {
   "cell_type": "markdown",
   "metadata": {},
   "source": [
    "# Sommaire\n",
    "\n",
    "[I. Implementing a simple CNN](#Partie1)\n",
    "\n",
    "[II. Implementing an advanced CNN](#Partie2)\n",
    "\n",
    "[III. Retraining existing CNN models](#Partie3)\n",
    "\n",
    "[II. Implementing an advanced CNN](#Partie2)\n",
    "\n",
    "[II. Implementing an advanced CNN](#Partie2)"
   ]
  }
 ],
 "metadata": {
  "language_info": {
   "name": "python"
  },
  "orig_nbformat": 4
 },
 "nbformat": 4,
 "nbformat_minor": 2
}
