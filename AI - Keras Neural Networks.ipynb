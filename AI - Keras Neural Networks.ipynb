{
 "cells": [
  {
   "cell_type": "markdown",
   "metadata": {},
   "source": [
    "# AI - Keras Neural Network"
   ]
  },
  {
   "cell_type": "markdown",
   "metadata": {},
   "source": [
    "La spécificité de keras est quelle utilise TensorFlow et Theano comme \"engine\". Cette librairie permet de se concentrer sur l'aspect design et training et les specificités liées au tensor sont laissé à tensorflow et theano."
   ]
  },
  {
   "cell_type": "markdown",
   "metadata": {},
   "source": [
    "# Import"
   ]
  },
  {
   "cell_type": "code",
   "execution_count": 36,
   "metadata": {},
   "outputs": [],
   "source": [
    "import  numpy as np\n",
    "import cv2\n",
    "from matplotlib import pyplot as plt\n",
    "from keras import models\n",
    "from keras import layers\n",
    "from keras.datasets import imdb, reuters\n",
    "from keras.preprocessing.text import Tokenizer\n",
    "from keras.utils.np_utils import to_categorical\n",
    "from sklearn.datasets import make_regression\n",
    "from sklearn.model_selection import train_test_split\n",
    "from sklearn import preprocessing"
   ]
  },
  {
   "cell_type": "markdown",
   "metadata": {},
   "source": [
    "\n",
    "# Sommaire\n",
    "\n",
    "[I. Designing a neural network](#Partie1)\n",
    "\n",
    "[II. Training a binary and multiclass classifier](#Partie2)\n",
    "- [II.1. Binary](#Partie2.1) \n",
    "- [II.2. Multiclass](#Partie2.2) \n",
    "\n",
    "[III. Training a regressor](#Partie3)\n",
    "\n",
    "[IV. Visualizing training and making predictions](#Partie4)\n",
    "- [IV.1. Visualizing training](#Partie4.1) \n",
    "- [IV.2. Making predictions](#Partie4.2) \n",
    "\n",
    "[V. Reduce overfitting](#Partie5)\n",
    "- [V.1. With weight regularization](#Partie5.1) \n",
    "- [V.2. With early stopping](#Partie5.2)\n",
    "- [V.3. With dropout](#Partie5.3) \n",
    "\n",
    "[VI. Saving model training progress](#Partie6)\n",
    "\n",
    "[VII. k-fold cross-validation and tunning a neural network](#Partie7)\n",
    "- [VII.1. K-fold cross validation](#Partie7.1) \n",
    "- [VII.2. Tuning neural networks](#Partie7.2)\n",
    "\n",
    "[VIII. Visualizing neural networks](#Partie8)\n",
    "\n",
    "[IX. Classifying images](#Partie9)\n",
    "- [IX.1. Image classification](#Partie9.1) \n",
    "- [IX.2. Improving performance with image augmentation](#Partie9.2)\n",
    "\n",
    "[X. Classifying text](#Partie10)\n"
   ]
  },
  {
   "cell_type": "markdown",
   "metadata": {},
   "source": [
    "## I. Designing a neural network<a class=\"anchor\" id=\"Partie1\"></a>"
   ]
  },
  {
   "cell_type": "markdown",
   "metadata": {},
   "source": [
    "Tout d'abord les données sont preprocessées selon leur type (si numérique alors on utilise standardscaler)\n",
    "\n",
    "Les reseaux de neurones consistent en des couches d'unité (neurone). Pour construire ici un reseau feed forward on doit faire plusieurs choix pour l'architecture et le processus d'entrainement. Il faut tout d'abord se rappeler que chaque unit (ie neurone) recoit :\n",
    "- un certain nombe d'inputs\n",
    "- toutes les inputs sont pondérés par un paramètre\n",
    "- on fait la combinaison linéaire de toutes les inputs pondérés et d'un biais (1 en général)\n",
    "- on y applique ensuite une fonction d'activation\n",
    "- on envoie l'output a la couche suivante\n",
    "\n",
    "1/ De manière générale: plus il y a de neurones sur une couche plus le reseau sera capable d'apprendre des pattern complexes mais plus le reseau est susceptible de surappendre. On doit d'abord chosir la fonction d'activation (relu est un bon choix si la somme pondérée est inférieur à 0 alors la fonction renvoie 0 sinon elle renvoie la somme)\n",
    "\n",
    "2/ On doit ensuite définir le nombre de couche cachée à ajouter à l'architecture. Plus il y a de couche plus le reseau peut appendre des relations complexes mais avec un coût sur la complexité.\n",
    " \n",
    "3/On doit ensuite définir la couche d'activation pour la dernière couche. Cela depend du but du reseau:\n",
    "- pour une classification binaire on utilisera sigmoide\n",
    "- pour une classifcation multiclass on utilisera softmax\n",
    "- pour une regression on utilisera pas d'activation (ie linéaire)\n",
    "\n",
    "4/ Dans un 4eme temps on définit la loss function (qui mesure à quel point les valeurs prédites sont poches des vrais valeurs)\n",
    "- binary classification: binary cross entropy\n",
    "- multiclass classification: categorical cross entropy\n",
    "- regression: mse\n",
    "\n",
    "5/ On définit ensuite \"l'optimizer\" qui est note stratégie pour trouver les meilleurs paramètres pou poduire une loss minimale. les choix communs sont: stochastic gradient descent, with momentum, rms propagation, adaptative moment...\n",
    "\n",
    "6/ On selectionne les metriques de performance de notre algorithme.\n",
    "\n",
    "Keras permet de construire un reseau avec sequential qui va juxtaposer chaque couche. Dans notre reseau on a crée un reseau à 2 couches (on ne compte pas la couche d'entrée car elle n'a pas de poid). Les couches sont \"dense\" (qui correspond à des couches fully connected ie tous les neurones de la couche précédente sont connectés au neurones de la couche suivante). Units=16 signifie qu'il y a 16 neurones sur la couche. Dans Keras la première couche cachée doti comporter l'argument \"input_shape\" qui est la dimension des features (ie leur nombre). (10,) signifie que chaque observation a 10 features. ici on a designé un reseau pour une classification binaire donc il y a une seule sortie avec activation sigmoide qui sera entre 0 et 1 qui correspond à la probabilité d'obtenir la classe 1."
   ]
  },
  {
   "cell_type": "code",
   "execution_count": 37,
   "metadata": {},
   "outputs": [],
   "source": [
    "network=models.Sequential() #start neural network\n",
    "\n",
    "network.add(layers.Dense(units=16,activation=\"relu\",input_shape=(10,))) #ajout d'une fully connected layer avec Relu\n",
    "network.add(layers.Dense(units=16,activation=\"relu\")) #ajout d'une fully connected layer avec Relu\n",
    "network.add(layers.Dense(units=1,activation=\"sigmoid\")) #ajout d'une fully connected layer avec sigmoide\n",
    "\n",
    "network.compile(loss=\"binary_crossentropy\", # loss de cross entropy pour pb de classification\n",
    "                optimizer=\"rmsprop\", # propagation avec root mean square \n",
    "                metrics=[\"accuracy\"]) #accuracy comme metrique de performance"
   ]
  },
  {
   "cell_type": "markdown",
   "metadata": {},
   "source": [
    "## II. Training a binary and multiclass classifier<a class=\"anchor\" id=\"Partie2\"></a>"
   ]
  },
  {
   "cell_type": "markdown",
   "metadata": {},
   "source": [
    "### II.1. Binary<a class=\"anchor\" id=\"Partie2.1\"></a>"
   ]
  },
  {
   "cell_type": "markdown",
   "metadata": {},
   "source": [
    "Dans cet entrainement d'un modele de classification binaire on utilise les données: de movie review (text) qui sont catégorisées en bonne (1) ou mauvaise (0). On convertit les reviews en 5000 features binaire qui indique ou non la présence des 1000 mots les plus fréquents (en one-hot encoder: si mot existe 1 sinon 0). Ces one hot vecteurs correspondent au set de train et test avec leur label correspondant.\n",
    "\n",
    "On utilise la fonction fit de Keras pour entrainer le modèle:\n",
    "- 2 premiers paramètres: features et target vecteurs du set de train\n",
    "- paramètre epoch: nombre d'itération de train sur tout le set de train (ie tous les batchs)\n",
    "- verbose 0,1,2 : donne des informations plus ou moins détaillé sur les epochs\n",
    "- batch_size: taille des batchs pendant les epoch\n",
    "- test data\n",
    "\n",
    "La méthode fit de Keras renvoie un object qui contient les valeurs de loss et les metriques de performance demandées"
   ]
  },
  {
   "cell_type": "code",
   "execution_count": 38,
   "metadata": {},
   "outputs": [
    {
     "name": "stdout",
     "output_type": "stream",
     "text": [
      "Epoch 1/3\n",
      "250/250 [==============================] - 2s 4ms/step - loss: 0.4099 - accuracy: 0.8161 - val_loss: 0.3426 - val_accuracy: 0.8536\n",
      "Epoch 2/3\n",
      "250/250 [==============================] - 1s 4ms/step - loss: 0.3235 - accuracy: 0.8640 - val_loss: 0.3304 - val_accuracy: 0.8592\n",
      "Epoch 3/3\n",
      "250/250 [==============================] - 1s 4ms/step - loss: 0.3143 - accuracy: 0.8698 - val_loss: 0.3278 - val_accuracy: 0.8592\n"
     ]
    }
   ],
   "source": [
    "np.random.seed(0) #on confidure la random seed\n",
    "number_of_features=1000 #nombre de features dans le set\n",
    "\n",
    "#on utilise le set movie review pour créer le set de train et test\n",
    "(data_train,target_train),(data_test,target_test)=imdb.load_data(num_words=number_of_features) \n",
    "\n",
    "#On convertit les data movie review en one-hot feature matrice encodée\n",
    "# dans les observation on ne garde que les 1000 mots les plus féquents des data set\n",
    "# en encodant les obersavtion en one hot vecteur de longeur 1000\n",
    "tokenizer=Tokenizer(num_words=number_of_features) \n",
    "features_train=tokenizer.sequences_to_matrix(data_train,mode=\"binary\")\n",
    "features_test=tokenizer.sequences_to_matrix(data_test,mode=\"binary\")\n",
    "\n",
    "network=models.Sequential() #start neural network\n",
    "\n",
    "network.add(layers.Dense(units=16,activation=\"relu\",input_shape=(number_of_features,))) \n",
    "network.add(layers.Dense(units=16,activation=\"relu\"))\n",
    "network.add(layers.Dense(units=1,activation=\"sigmoid\")) \n",
    "\n",
    "network.compile(loss=\"binary_crossentropy\", \n",
    "                optimizer=\"rmsprop\", \n",
    "                metrics=[\"accuracy\"])\n",
    "\n",
    "# train neural network\n",
    "\n",
    "history=network.fit(features_train, #set de training\n",
    "                    target_train, #label de training\n",
    "                    epochs=3, #nombre d'epoch\n",
    "                    verbose=1, #print la description a chaque epoch\n",
    "                    batch_size=100, #nombre d'observation par batch\n",
    "                    validation_data=(features_test,target_test)) #test data\n",
    "\n"
   ]
  },
  {
   "cell_type": "markdown",
   "metadata": {},
   "source": [
    "### II.2. Multiclass<a class=\"anchor\" id=\"Partie2.2\"></a>"
   ]
  },
  {
   "cell_type": "markdown",
   "metadata": {},
   "source": [
    "La différence entre le classifier ci-dessus et dessous est la catégorisation en 46 classe plutôt que une classe 0 et une classe 1 il doit donc y avoir 46 noeuds sur la dernière couche par rapport à un noeud sur la première. Le vecteur de target doit donc également être encodé en one-hot, c'est à dire chaque ligne de ces matrices contient 46 élements avec des 0 partout sauf au numéro de la classe correspondante.\n",
    "Un élément important à prendre en compte est l'utilisation de la fonction d'activation softmax sur la dernière couche qui va permettre d'avoir une somme des issues égale à 1 (correspondant donc au probabilité d'occurence de chaque classe)."
   ]
  },
  {
   "cell_type": "code",
   "execution_count": 39,
   "metadata": {},
   "outputs": [
    {
     "name": "stdout",
     "output_type": "stream",
     "text": [
      "Epoch 1/3\n",
      "90/90 [==============================] - 2s 14ms/step - loss: 1.5281 - accuracy: 0.6729 - val_loss: 1.1204 - val_accuracy: 0.7502\n",
      "Epoch 2/3\n",
      "90/90 [==============================] - 1s 13ms/step - loss: 0.7950 - accuracy: 0.8250 - val_loss: 0.9481 - val_accuracy: 0.7801\n",
      "Epoch 3/3\n",
      "90/90 [==============================] - 1s 13ms/step - loss: 0.5079 - accuracy: 0.8884 - val_loss: 0.8704 - val_accuracy: 0.8045\n"
     ]
    }
   ],
   "source": [
    "np.random.seed(0) #on confidure la random seed\n",
    "number_of_features=5000 #nombre de features dans le set\n",
    "\n",
    "#on utilise le set reuters pour créer le set de train et test\n",
    "data=reuters.load_data(num_words=number_of_features) \n",
    "(data_train,target_train),(data_test,target_test)=data\n",
    "\n",
    "# On convertit les data movie review en one-hot feature matrice encodée\n",
    "# dans les observation on ne garde que les 5000 mots les plus féquents des data set\n",
    "# en encodant les obersavtion en one hot vecteur de longeur 1000\n",
    "tokenizer=Tokenizer(num_words=number_of_features) \n",
    "features_train=tokenizer.sequences_to_matrix(data_train,mode=\"binary\")\n",
    "features_test=tokenizer.sequences_to_matrix(data_test,mode=\"binary\")\n",
    "\n",
    "# on one-hot encode le vecteur de target\n",
    "target_train=to_categorical(target_train)\n",
    "target_test=to_categorical(target_test)\n",
    "\n",
    "\n",
    "network=models.Sequential() #start neural network\n",
    "\n",
    "network.add(layers.Dense(units=100,activation=\"relu\",input_shape=(number_of_features,))) \n",
    "network.add(layers.Dense(units=100,activation=\"relu\"))\n",
    "network.add(layers.Dense(units=46,activation=\"softmax\")) #units = nombre de classe dans le set\n",
    "\n",
    "network.compile(loss=\"categorical_crossentropy\", \n",
    "                optimizer=\"rmsprop\", \n",
    "                metrics=[\"accuracy\"])\n",
    "\n",
    "# train neural network\n",
    "\n",
    "history=network.fit(features_train, #set de training\n",
    "                    target_train, #label de training\n",
    "                    epochs=3, #nombre d'epoch\n",
    "                    verbose=1, #print la description a chaque epoch\n",
    "                    batch_size=100, #nombre d'observation par batch\n",
    "                    validation_data=(features_test,target_test)) #test data"
   ]
  },
  {
   "cell_type": "markdown",
   "metadata": {},
   "source": [
    "## III. Training a regressor<a class=\"anchor\" id=\"Partie3\"></a>"
   ]
  },
  {
   "cell_type": "markdown",
   "metadata": {},
   "source": [
    "Dans les cas précédents nous appliquions des fonctions activation sur la dernière couche. Dans le cas d'une regression on utilise une activation \"linéaire\" c'est à dire on utilise pas de fonction d'activation on renvoie directement le résultat de la combinaison linéaire de la dernière couche de neurones. On utilise ici une loss approriée comme la mse ou la mae selon la distribution des valeurs et notamment des anomalies pour leur donner plus ou moins de poid.."
   ]
  },
  {
   "cell_type": "code",
   "execution_count": 40,
   "metadata": {},
   "outputs": [
    {
     "name": "stdout",
     "output_type": "stream",
     "text": [
      "Epoch 1/50\n",
      "67/67 [==============================] - 1s 5ms/step - loss: 17370.6191 - mse: 17370.6191 - val_loss: 17791.0059 - val_mse: 17791.0059\n",
      "Epoch 2/50\n",
      "67/67 [==============================] - 0s 3ms/step - loss: 16634.7871 - mse: 16634.7871 - val_loss: 16710.4590 - val_mse: 16710.4590\n",
      "Epoch 3/50\n",
      "67/67 [==============================] - 0s 3ms/step - loss: 15253.0352 - mse: 15253.0352 - val_loss: 14869.9717 - val_mse: 14869.9717\n",
      "Epoch 4/50\n",
      "67/67 [==============================] - 0s 3ms/step - loss: 13108.6738 - mse: 13108.6738 - val_loss: 12225.5879 - val_mse: 12225.5879\n",
      "Epoch 5/50\n",
      "67/67 [==============================] - 0s 3ms/step - loss: 10227.8320 - mse: 10227.8320 - val_loss: 8932.6895 - val_mse: 8932.6895\n",
      "Epoch 6/50\n",
      "67/67 [==============================] - 0s 3ms/step - loss: 6846.4551 - mse: 6846.4551 - val_loss: 5367.4854 - val_mse: 5367.4854\n",
      "Epoch 7/50\n",
      "67/67 [==============================] - 0s 3ms/step - loss: 3637.7449 - mse: 3637.7449 - val_loss: 2392.7490 - val_mse: 2392.7490\n",
      "Epoch 8/50\n",
      "67/67 [==============================] - 0s 4ms/step - loss: 1370.6443 - mse: 1370.6443 - val_loss: 737.3975 - val_mse: 737.3975\n",
      "Epoch 9/50\n",
      "67/67 [==============================] - 0s 4ms/step - loss: 479.2162 - mse: 479.2162 - val_loss: 348.8980 - val_mse: 348.8980\n",
      "Epoch 10/50\n",
      "67/67 [==============================] - 0s 3ms/step - loss: 287.8663 - mse: 287.8663 - val_loss: 233.5701 - val_mse: 233.5701\n",
      "Epoch 11/50\n",
      "67/67 [==============================] - 0s 4ms/step - loss: 210.0968 - mse: 210.0968 - val_loss: 185.9083 - val_mse: 185.9083\n",
      "Epoch 12/50\n",
      "67/67 [==============================] - 0s 6ms/step - loss: 173.3139 - mse: 173.3139 - val_loss: 152.1848 - val_mse: 152.1848\n",
      "Epoch 13/50\n",
      "67/67 [==============================] - 0s 5ms/step - loss: 141.9967 - mse: 141.9967 - val_loss: 125.4118 - val_mse: 125.4118\n",
      "Epoch 14/50\n",
      "67/67 [==============================] - 0s 3ms/step - loss: 112.3732 - mse: 112.3732 - val_loss: 95.1149 - val_mse: 95.1149\n",
      "Epoch 15/50\n",
      "67/67 [==============================] - 0s 3ms/step - loss: 82.6495 - mse: 82.6495 - val_loss: 66.4686 - val_mse: 66.4686\n",
      "Epoch 16/50\n",
      "67/67 [==============================] - 0s 3ms/step - loss: 55.6579 - mse: 55.6579 - val_loss: 41.4814 - val_mse: 41.4814\n",
      "Epoch 17/50\n",
      "67/67 [==============================] - 0s 3ms/step - loss: 32.5915 - mse: 32.5915 - val_loss: 21.4092 - val_mse: 21.4092\n",
      "Epoch 18/50\n",
      "67/67 [==============================] - 0s 3ms/step - loss: 15.7527 - mse: 15.7527 - val_loss: 9.0149 - val_mse: 9.0149\n",
      "Epoch 19/50\n",
      "67/67 [==============================] - 0s 3ms/step - loss: 5.8663 - mse: 5.8663 - val_loss: 2.9714 - val_mse: 2.9714\n",
      "Epoch 20/50\n",
      "67/67 [==============================] - 0s 3ms/step - loss: 2.3330 - mse: 2.3330 - val_loss: 1.7560 - val_mse: 1.7560\n",
      "Epoch 21/50\n",
      "67/67 [==============================] - 0s 3ms/step - loss: 1.6063 - mse: 1.6063 - val_loss: 1.1769 - val_mse: 1.1769\n",
      "Epoch 22/50\n",
      "67/67 [==============================] - 0s 3ms/step - loss: 1.1676 - mse: 1.1676 - val_loss: 1.1702 - val_mse: 1.1702\n",
      "Epoch 23/50\n",
      "67/67 [==============================] - 0s 3ms/step - loss: 1.0273 - mse: 1.0273 - val_loss: 0.7960 - val_mse: 0.7960\n",
      "Epoch 24/50\n",
      "67/67 [==============================] - 0s 3ms/step - loss: 0.9237 - mse: 0.9237 - val_loss: 1.1083 - val_mse: 1.1083\n",
      "Epoch 25/50\n",
      "67/67 [==============================] - 0s 3ms/step - loss: 0.7970 - mse: 0.7970 - val_loss: 0.7552 - val_mse: 0.7552\n",
      "Epoch 26/50\n",
      "67/67 [==============================] - 0s 3ms/step - loss: 0.7547 - mse: 0.7547 - val_loss: 1.1080 - val_mse: 1.1080\n",
      "Epoch 27/50\n",
      "67/67 [==============================] - 0s 3ms/step - loss: 0.7101 - mse: 0.7101 - val_loss: 0.4758 - val_mse: 0.4758\n",
      "Epoch 28/50\n",
      "67/67 [==============================] - 0s 3ms/step - loss: 0.6767 - mse: 0.6767 - val_loss: 0.4958 - val_mse: 0.4958\n",
      "Epoch 29/50\n",
      "67/67 [==============================] - 0s 3ms/step - loss: 0.6183 - mse: 0.6183 - val_loss: 0.7565 - val_mse: 0.7565\n",
      "Epoch 30/50\n",
      "67/67 [==============================] - 0s 3ms/step - loss: 0.6110 - mse: 0.6110 - val_loss: 0.8275 - val_mse: 0.8275\n",
      "Epoch 31/50\n",
      "67/67 [==============================] - 0s 3ms/step - loss: 0.5955 - mse: 0.5955 - val_loss: 0.5795 - val_mse: 0.5795\n",
      "Epoch 32/50\n",
      "67/67 [==============================] - 0s 3ms/step - loss: 0.5508 - mse: 0.5508 - val_loss: 1.8938 - val_mse: 1.8938\n",
      "Epoch 33/50\n",
      "67/67 [==============================] - 0s 3ms/step - loss: 0.5293 - mse: 0.5293 - val_loss: 0.6668 - val_mse: 0.6668\n",
      "Epoch 34/50\n",
      "67/67 [==============================] - 0s 3ms/step - loss: 0.5252 - mse: 0.5252 - val_loss: 0.5537 - val_mse: 0.5537\n",
      "Epoch 35/50\n",
      "67/67 [==============================] - 0s 2ms/step - loss: 0.5076 - mse: 0.5076 - val_loss: 0.6441 - val_mse: 0.6441\n",
      "Epoch 36/50\n",
      "67/67 [==============================] - 0s 2ms/step - loss: 0.5079 - mse: 0.5079 - val_loss: 0.4433 - val_mse: 0.4433\n",
      "Epoch 37/50\n",
      "67/67 [==============================] - 0s 2ms/step - loss: 0.4917 - mse: 0.4917 - val_loss: 0.3997 - val_mse: 0.3997\n",
      "Epoch 38/50\n",
      "67/67 [==============================] - 0s 2ms/step - loss: 0.4752 - mse: 0.4752 - val_loss: 0.3171 - val_mse: 0.3171\n",
      "Epoch 39/50\n",
      "67/67 [==============================] - 0s 2ms/step - loss: 0.4802 - mse: 0.4802 - val_loss: 0.2423 - val_mse: 0.2423\n",
      "Epoch 40/50\n",
      "67/67 [==============================] - 0s 2ms/step - loss: 0.4481 - mse: 0.4481 - val_loss: 0.4551 - val_mse: 0.4551\n",
      "Epoch 41/50\n",
      "67/67 [==============================] - 0s 2ms/step - loss: 0.4591 - mse: 0.4591 - val_loss: 0.2264 - val_mse: 0.2264\n",
      "Epoch 42/50\n",
      "67/67 [==============================] - 0s 2ms/step - loss: 0.4186 - mse: 0.4186 - val_loss: 0.2716 - val_mse: 0.2716\n",
      "Epoch 43/50\n",
      "67/67 [==============================] - 0s 2ms/step - loss: 0.4189 - mse: 0.4189 - val_loss: 0.2253 - val_mse: 0.2253\n",
      "Epoch 44/50\n",
      "67/67 [==============================] - 0s 3ms/step - loss: 0.4262 - mse: 0.4262 - val_loss: 0.2241 - val_mse: 0.2241\n",
      "Epoch 45/50\n",
      "67/67 [==============================] - 0s 3ms/step - loss: 0.4210 - mse: 0.4210 - val_loss: 0.6993 - val_mse: 0.6993\n",
      "Epoch 46/50\n",
      "67/67 [==============================] - 0s 3ms/step - loss: 0.4454 - mse: 0.4454 - val_loss: 0.2093 - val_mse: 0.2093\n",
      "Epoch 47/50\n",
      "67/67 [==============================] - 0s 2ms/step - loss: 0.3783 - mse: 0.3783 - val_loss: 0.6250 - val_mse: 0.6250\n",
      "Epoch 48/50\n",
      "67/67 [==============================] - 0s 2ms/step - loss: 0.3977 - mse: 0.3977 - val_loss: 0.2544 - val_mse: 0.2544\n",
      "Epoch 49/50\n",
      "67/67 [==============================] - 0s 2ms/step - loss: 0.3931 - mse: 0.3931 - val_loss: 0.3038 - val_mse: 0.3038\n",
      "Epoch 50/50\n",
      "67/67 [==============================] - 0s 2ms/step - loss: 0.3594 - mse: 0.3594 - val_loss: 0.3666 - val_mse: 0.3666\n"
     ]
    }
   ],
   "source": [
    "np.random.seed(0) #on confidure la random seed\n",
    "\n",
    "#on génere les matrices de features et de target\n",
    "features,target=make_regression(n_samples=10000,\n",
    "                                n_features=3,\n",
    "                                n_informative=3,\n",
    "                                n_targets=1,\n",
    "                                noise=0,\n",
    "                                random_state=0)\n",
    "\n",
    "# On divise notre matrice et nos targets en train et test\n",
    "features_train, features_test, target_train,target_test=train_test_split(features, target, test_size=0.33, random_state=0)\n",
    "\n",
    "network=models.Sequential() #start neural network\n",
    "\n",
    "network.add(layers.Dense(units=32,activation=\"relu\",input_shape=(features_train.shape[1],))) \n",
    "network.add(layers.Dense(units=32,activation=\"relu\"))\n",
    "network.add(layers.Dense(units=1))\n",
    "\n",
    "network.compile(loss=\"mse\", \n",
    "                optimizer=\"RMSprop\", \n",
    "                metrics=[\"mse\"])\n",
    "\n",
    "# train neural network\n",
    "\n",
    "history=network.fit(features_train, #set de training\n",
    "                    target_train, #label de training\n",
    "                    epochs=50, #nombre d'epoch\n",
    "                    verbose=1, #print la description a chaque epoch\n",
    "                    batch_size=100, #nombre d'observation par batch\n",
    "                    validation_data=(features_test,target_test)) #test data\n",
    "\n",
    "\n"
   ]
  },
  {
   "cell_type": "markdown",
   "metadata": {},
   "source": [
    "## IV. Visualizing training and making predictions<a class=\"anchor\" id=\"Partie4\"></a>"
   ]
  },
  {
   "cell_type": "code",
   "execution_count": 41,
   "metadata": {},
   "outputs": [
    {
     "name": "stdout",
     "output_type": "stream",
     "text": [
      "Epoch 1/30\n",
      "250/250 [==============================] - 2s 6ms/step - loss: 0.4308 - accuracy: 0.8066 - val_loss: 0.3411 - val_accuracy: 0.8560\n",
      "Epoch 2/30\n",
      "250/250 [==============================] - 1s 4ms/step - loss: 0.3249 - accuracy: 0.8641 - val_loss: 0.3482 - val_accuracy: 0.8515\n",
      "Epoch 3/30\n",
      "250/250 [==============================] - 1s 4ms/step - loss: 0.3150 - accuracy: 0.8705 - val_loss: 0.3266 - val_accuracy: 0.8611\n",
      "Epoch 4/30\n",
      "250/250 [==============================] - 1s 4ms/step - loss: 0.3062 - accuracy: 0.8718 - val_loss: 0.3364 - val_accuracy: 0.8562\n",
      "Epoch 5/30\n",
      "250/250 [==============================] - 1s 4ms/step - loss: 0.2961 - accuracy: 0.8772 - val_loss: 0.3311 - val_accuracy: 0.8590\n",
      "Epoch 6/30\n",
      "250/250 [==============================] - 1s 4ms/step - loss: 0.2864 - accuracy: 0.8807 - val_loss: 0.3336 - val_accuracy: 0.8597\n",
      "Epoch 7/30\n",
      "250/250 [==============================] - 1s 4ms/step - loss: 0.2753 - accuracy: 0.8866 - val_loss: 0.3386 - val_accuracy: 0.8565\n",
      "Epoch 8/30\n",
      "250/250 [==============================] - 1s 4ms/step - loss: 0.2650 - accuracy: 0.8907 - val_loss: 0.3434 - val_accuracy: 0.8564\n",
      "Epoch 9/30\n",
      "250/250 [==============================] - 1s 4ms/step - loss: 0.2529 - accuracy: 0.8976 - val_loss: 0.3417 - val_accuracy: 0.8560\n",
      "Epoch 10/30\n",
      "250/250 [==============================] - 1s 4ms/step - loss: 0.2439 - accuracy: 0.9015 - val_loss: 0.3630 - val_accuracy: 0.8452\n",
      "Epoch 11/30\n",
      "250/250 [==============================] - 1s 4ms/step - loss: 0.2328 - accuracy: 0.9074 - val_loss: 0.3628 - val_accuracy: 0.8493\n",
      "Epoch 12/30\n",
      "250/250 [==============================] - 1s 4ms/step - loss: 0.2231 - accuracy: 0.9115 - val_loss: 0.3702 - val_accuracy: 0.8495\n",
      "Epoch 13/30\n",
      "250/250 [==============================] - 1s 4ms/step - loss: 0.2143 - accuracy: 0.9166 - val_loss: 0.4071 - val_accuracy: 0.8455\n",
      "Epoch 14/30\n",
      "250/250 [==============================] - 1s 4ms/step - loss: 0.2043 - accuracy: 0.9209 - val_loss: 0.4041 - val_accuracy: 0.8446\n",
      "Epoch 15/30\n",
      "250/250 [==============================] - 1s 4ms/step - loss: 0.1948 - accuracy: 0.9257 - val_loss: 0.4198 - val_accuracy: 0.8430\n",
      "Epoch 16/30\n",
      "250/250 [==============================] - 1s 4ms/step - loss: 0.1845 - accuracy: 0.9310 - val_loss: 0.4350 - val_accuracy: 0.8415\n",
      "Epoch 17/30\n",
      "250/250 [==============================] - 1s 4ms/step - loss: 0.1749 - accuracy: 0.9356 - val_loss: 0.4495 - val_accuracy: 0.8372\n",
      "Epoch 18/30\n",
      "250/250 [==============================] - 1s 4ms/step - loss: 0.1629 - accuracy: 0.9403 - val_loss: 0.4850 - val_accuracy: 0.8385\n",
      "Epoch 19/30\n",
      "250/250 [==============================] - 1s 4ms/step - loss: 0.1523 - accuracy: 0.9467 - val_loss: 0.5006 - val_accuracy: 0.8388\n",
      "Epoch 20/30\n",
      "250/250 [==============================] - 1s 4ms/step - loss: 0.1426 - accuracy: 0.9492 - val_loss: 0.5385 - val_accuracy: 0.8336\n",
      "Epoch 21/30\n",
      "250/250 [==============================] - 1s 4ms/step - loss: 0.1321 - accuracy: 0.9540 - val_loss: 0.5543 - val_accuracy: 0.8312\n",
      "Epoch 22/30\n",
      "250/250 [==============================] - 1s 4ms/step - loss: 0.1230 - accuracy: 0.9576 - val_loss: 0.5844 - val_accuracy: 0.8300\n",
      "Epoch 23/30\n",
      "250/250 [==============================] - 1s 4ms/step - loss: 0.1152 - accuracy: 0.9612 - val_loss: 0.6267 - val_accuracy: 0.8321\n",
      "Epoch 24/30\n",
      "250/250 [==============================] - 1s 4ms/step - loss: 0.1055 - accuracy: 0.9647 - val_loss: 0.6775 - val_accuracy: 0.8308\n",
      "Epoch 25/30\n",
      "250/250 [==============================] - 1s 4ms/step - loss: 0.0974 - accuracy: 0.9687 - val_loss: 0.7270 - val_accuracy: 0.8291\n",
      "Epoch 26/30\n",
      "250/250 [==============================] - 1s 4ms/step - loss: 0.0899 - accuracy: 0.9714 - val_loss: 0.7666 - val_accuracy: 0.8298\n",
      "Epoch 27/30\n",
      "250/250 [==============================] - 1s 4ms/step - loss: 0.0830 - accuracy: 0.9740 - val_loss: 0.8124 - val_accuracy: 0.8263\n",
      "Epoch 28/30\n",
      "250/250 [==============================] - 1s 4ms/step - loss: 0.0766 - accuracy: 0.9769 - val_loss: 0.8428 - val_accuracy: 0.8262\n",
      "Epoch 29/30\n",
      "250/250 [==============================] - 1s 4ms/step - loss: 0.0684 - accuracy: 0.9796 - val_loss: 0.8726 - val_accuracy: 0.8227\n",
      "Epoch 30/30\n",
      "250/250 [==============================] - 1s 4ms/step - loss: 0.0631 - accuracy: 0.9822 - val_loss: 0.9145 - val_accuracy: 0.8228\n"
     ]
    }
   ],
   "source": [
    "np.random.seed(0) #on confidure la random seed\n",
    "number_of_features=1000 #nombre de features dans le set\n",
    "\n",
    "#on utilise le set movie review pour créer le set de train et test\n",
    "(data_train,target_train),(data_test,target_test)=imdb.load_data(num_words=number_of_features) \n",
    "\n",
    "#On convertit les data movie review en one-hot feature matrice encodée\n",
    "# dans les observation on ne garde que les 1000 mots les plus féquents des data set\n",
    "# en encodant les obersavtion en one hot vecteur de longeur 1000\n",
    "tokenizer=Tokenizer(num_words=number_of_features) \n",
    "features_train=tokenizer.sequences_to_matrix(data_train,mode=\"binary\")\n",
    "features_test=tokenizer.sequences_to_matrix(data_test,mode=\"binary\")\n",
    "\n",
    "network=models.Sequential() #start neural network\n",
    "\n",
    "network.add(layers.Dense(units=16,activation=\"relu\",input_shape=(number_of_features,))) \n",
    "network.add(layers.Dense(units=16,activation=\"relu\"))\n",
    "network.add(layers.Dense(units=1,activation=\"sigmoid\")) \n",
    "\n",
    "network.compile(loss=\"binary_crossentropy\", \n",
    "                optimizer=\"rmsprop\", \n",
    "                metrics=[\"accuracy\"])\n",
    "\n",
    "# train neural network\n",
    "\n",
    "history=network.fit(features_train, #set de training\n",
    "                    target_train, #label de training\n",
    "                    epochs=30, #nombre d'epoch\n",
    "                    verbose=1, #print la description a chaque epoch\n",
    "                    batch_size=100, #nombre d'observation par batch\n",
    "                    validation_data=(features_test,target_test)) #test data\n",
    "\n"
   ]
  },
  {
   "cell_type": "markdown",
   "metadata": {},
   "source": [
    "### IV.1. Visualizing training<a class=\"anchor\" id=\"Partie4.1\"></a>"
   ]
  },
  {
   "cell_type": "markdown",
   "metadata": {},
   "source": [
    "Pendant l'entrainement du resueau de neurones les 2 erreurs de test et de train vont diminuer. Mais à un certain point le réseau va sur-apprendre le set de train et se se \"rémorer\" celui-ci. C'est alors que l'on voit une divergence de croissance entre l'erreur de training et celle de test.  Il faut donc arreter l'entrainement avant cet instant là pour avoir une erreur de validation minmale."
   ]
  },
  {
   "cell_type": "code",
   "execution_count": 48,
   "metadata": {},
   "outputs": [
    {
     "data": {
      "image/png": "[encoded data removed]",
      "text/plain": [
       "<Figure size 432x288 with 1 Axes>"
      ]
     },
     "metadata": {
      "needs_background": "light"
     },
     "output_type": "display_data"
    }
   ],
   "source": [
    "# on recupère la loss de training et de validation et le nombre d'epoch\n",
    "training_loss=history.history[\"loss\"]\n",
    "test_loss=history.history[\"val_loss\"]\n",
    "epoch_count=range(1,len(training_loss)+1)\n",
    "\n",
    "# visualisation de la loss\n",
    "plt.plot(epoch_count[:15],training_loss[:15],\"r--\")\n",
    "plt.plot(epoch_count[:15],test_loss[:15],\"b-\")\n",
    "plt.legend([\"training\",\"test\"])\n",
    "plt.xlabel(\"epoch\")\n",
    "plt.ylabel(\"loss\")\n",
    "plt.show()"
   ]
  },
  {
   "cell_type": "code",
   "execution_count": 47,
   "metadata": {},
   "outputs": [
    {
     "data": {
      "image/png": "[encoded data removed]",
      "text/plain": [
       "<Figure size 432x288 with 1 Axes>"
      ]
     },
     "metadata": {
      "needs_background": "light"
     },
     "output_type": "display_data"
    }
   ],
   "source": [
    "training_acc=history.history[\"accuracy\"]\n",
    "test_acc=history.history[\"val_accuracy\"]\n",
    "\n",
    "# visualisation de l'accuracy\n",
    "plt.plot(epoch_count[:15],training_acc[:15],\"r--\")\n",
    "plt.plot(epoch_count[:15],test_acc[:15],\"b-\")\n",
    "plt.legend([\"training\",\"test\"])\n",
    "plt.xlabel(\"epoch\")\n",
    "plt.ylabel(\"mse\")\n",
    "plt.show()"
   ]
  },
  {
   "cell_type": "markdown",
   "metadata": {},
   "source": [
    "### IV.2. Making predictions<a class=\"anchor\" id=\"Partie4.2\"></a>"
   ]
  },
  {
   "cell_type": "markdown",
   "metadata": {},
   "source": [
    "Une fois le réseau entrainé on utilise la fonction predict pour prédire de nouvelle valeur avec le reseau. si le reseau prédit l'issu d'une classification binaire (notre cas) le résultat est la probabilité d'obtenir 1. Si c'est une multiclassification on a alors la probabilité de toutes les classes et on peut obtenir la classe avec la probabilité maximum en utilisant la fonction argmax. Enfin si c'est une régression on va avoir la valeur réelle prédite."
   ]
  },
  {
   "cell_type": "code",
   "execution_count": 42,
   "metadata": {},
   "outputs": [
    {
     "data": {
      "text/plain": [
       "array([0.99999017], dtype=float32)"
      ]
     },
     "execution_count": 42,
     "metadata": {},
     "output_type": "execute_result"
    }
   ],
   "source": [
    "predicted_target=network.predict(features_test)\n",
    "predicted_target[4]"
   ]
  },
  {
   "cell_type": "markdown",
   "metadata": {},
   "source": [
    "## V. Reduce overfitting<a class=\"anchor\" id=\"Partie5\"></a>"
   ]
  },
  {
   "cell_type": "markdown",
   "metadata": {},
   "source": [
    "### V.1. With weight regularization<a class=\"anchor\" id=\"Partie5.1\"></a>"
   ]
  },
  {
   "cell_type": "markdown",
   "metadata": {},
   "source": [
    "### V.2. With early stopping<a class=\"anchor\" id=\"Partie5.2\"></a>"
   ]
  },
  {
   "cell_type": "markdown",
   "metadata": {},
   "source": [
    "### V.3. With dropout<a class=\"anchor\" id=\"Partie5.3\"></a>"
   ]
  },
  {
   "cell_type": "markdown",
   "metadata": {},
   "source": [
    "## VI. Saving model training progress<a class=\"anchor\" id=\"Partie6\"></a>"
   ]
  },
  {
   "cell_type": "markdown",
   "metadata": {},
   "source": [
    "## VII. k-fold cross-validation and tunning a neural network<a class=\"anchor\" id=\"Partie7\"></a>"
   ]
  },
  {
   "cell_type": "markdown",
   "metadata": {},
   "source": [
    "### VII.1. K-fold cross validation<a class=\"anchor\" id=\"Partie7.1\"></a>"
   ]
  },
  {
   "cell_type": "markdown",
   "metadata": {},
   "source": [
    "### VII.2. Tuning neural networks<a class=\"anchor\" id=\"Partie7.2\"></a>"
   ]
  },
  {
   "cell_type": "markdown",
   "metadata": {},
   "source": [
    "## VIII. Visualizing neural networks<a class=\"anchor\" id=\"Partie8\"></a>"
   ]
  },
  {
   "cell_type": "markdown",
   "metadata": {},
   "source": [
    "## IX. Classifying images<a class=\"anchor\" id=\"Partie9\"></a>"
   ]
  },
  {
   "cell_type": "markdown",
   "metadata": {},
   "source": [
    "### IX.1. Image classification<a class=\"anchor\" id=\"Partie9.1\"></a>"
   ]
  },
  {
   "cell_type": "markdown",
   "metadata": {},
   "source": [
    "### IX.2. Improving performance with image augmentation<a class=\"anchor\" id=\"Partie9.2\"></a>"
   ]
  },
  {
   "cell_type": "markdown",
   "metadata": {},
   "source": [
    "## X. Classifying text<a class=\"anchor\" id=\"Partie10\"></a>"
   ]
  }
 ],
 "metadata": {
  "interpreter": {
   "hash": "facb5e61a4394193cb0f4fe6a1e15649a9df4920ef6ba80a21095838ac15af6e"
  },
  "kernelspec": {
   "display_name": "Python 3.8.5 64-bit ('base': conda)",
   "language": "python",
   "name": "python3"
  },
  "language_info": {
   "codemirror_mode": {
    "name": "ipython",
    "version": 3
   },
   "file_extension": ".py",
   "mimetype": "text/x-python",
   "name": "python",
   "nbconvert_exporter": "python",
   "pygments_lexer": "ipython3",
   "version": "3.8.5"
  },
  "orig_nbformat": 4
 },
 "nbformat": 4,
 "nbformat_minor": 2
}
