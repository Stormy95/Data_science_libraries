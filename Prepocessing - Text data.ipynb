{
 "cells": [
  {
   "cell_type": "markdown",
   "metadata": {},
   "source": [
    "# Prepocessing - Text data"
   ]
  },
  {
   "cell_type": "markdown",
   "metadata": {},
   "source": [
    "Ce Notebook permettra la gestion de fichier texte, du netoyyage complet à la vectorisation pour préparer l'utilisation d'un algorithme"
   ]
  },
  {
   "cell_type": "markdown",
   "metadata": {},
   "source": [
    "# Import"
   ]
  },
  {
   "cell_type": "code",
   "execution_count": 2,
   "metadata": {},
   "outputs": [],
   "source": [
    "import  numpy as np"
   ]
  },
  {
   "cell_type": "markdown",
   "metadata": {},
   "source": [
    "# Sommaire\n",
    "\n",
    "[I. Cleaning text](#Partie1)\n",
    "- [I.1. Removing punctuation](#Partie1.1) \n",
    "- [I.2. Tokenizing text](#Partie1.2) \n",
    "- [I.3. Removing stop words](#Partie1.3) \n",
    "- [I.4. Stemming words](#Partie1.4) \n",
    "- [I.5. Tagging parts of speech](#Partie1.5) \n",
    "\n",
    "\n",
    "[II. Encoding text as a bag of words](#Partie2)\n",
    "\n",
    "[III. Weighting word importance](#Partie3)"
   ]
  },
  {
   "cell_type": "markdown",
   "metadata": {},
   "source": [
    "## I. Cleaning text <a class=\"anchor\" id=\"Partie1\"></a>"
   ]
  },
  {
   "cell_type": "markdown",
   "metadata": {},
   "source": [
    "### I.1. Removing punctuation <a class=\"anchor\" id=\"Partie1.1\"></a>"
   ]
  },
  {
   "cell_type": "markdown",
   "metadata": {},
   "source": [
    "### I.3. Tokenizing text <a class=\"anchor\" id=\"Partie1.3\"></a>"
   ]
  },
  {
   "cell_type": "markdown",
   "metadata": {},
   "source": [
    "### I.3. Removing stop words <a class=\"anchor\" id=\"Partie1.3\"></a>"
   ]
  },
  {
   "cell_type": "markdown",
   "metadata": {},
   "source": [
    "### I.4. Stemming words <a class=\"anchor\" id=\"Partie1.4\"></a>"
   ]
  },
  {
   "cell_type": "markdown",
   "metadata": {},
   "source": [
    "### I.5. Tagging parts of speech <a class=\"anchor\" id=\"Partie1.5\"></a>"
   ]
  },
  {
   "cell_type": "markdown",
   "metadata": {},
   "source": [
    "## II. Encoding text as a bag of words <a class=\"anchor\" id=\"Partie2\"></a>"
   ]
  },
  {
   "cell_type": "markdown",
   "metadata": {},
   "source": [
    "## III. Weighting word importance <a class=\"anchor\" id=\"Partie3\"></a>"
   ]
  }
 ],
 "metadata": {
  "interpreter": {
   "hash": "facb5e61a4394193cb0f4fe6a1e15649a9df4920ef6ba80a21095838ac15af6e"
  },
  "kernelspec": {
   "display_name": "Python 3.8.5 64-bit ('base': conda)",
   "language": "python",
   "name": "python3"
  },
  "language_info": {
   "codemirror_mode": {
    "name": "ipython",
    "version": 3
   },
   "file_extension": ".py",
   "mimetype": "text/x-python",
   "name": "python",
   "nbconvert_exporter": "python",
   "pygments_lexer": "ipython3",
   "version": "3.8.5"
  },
  "orig_nbformat": 4
 },
 "nbformat": 4,
 "nbformat_minor": 2
}
